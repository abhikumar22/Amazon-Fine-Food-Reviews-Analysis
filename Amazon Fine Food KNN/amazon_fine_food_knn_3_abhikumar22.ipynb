{
 "cells": [
  {
   "cell_type": "code",
   "execution_count": 1,
   "metadata": {},
   "outputs": [
    {
     "name": "stderr",
     "output_type": "stream",
     "text": [
      "C:\\Users\\lenovo\\Anaconda3\\lib\\site-packages\\sklearn\\cross_validation.py:41: DeprecationWarning: This module was deprecated in version 0.18 in favor of the model_selection module into which all the refactored classes and functions are moved. Also note that the interface of the new CV iterators are different from that of this module. This module will be removed in 0.20.\n",
      "  \"This module will be removed in 0.20.\", DeprecationWarning)\n"
     ]
    }
   ],
   "source": [
    "#importing necessary packages\n",
    "import numpy as np\n",
    "import pandas as pd\n",
    "import matplotlib.pyplot as plt\n",
    "from sklearn.cross_validation import train_test_split\n",
    "from sklearn.neighbors import KNeighborsClassifier\n",
    "from sklearn.metrics import accuracy_score\n",
    "from sklearn.cross_validation import cross_val_score\n",
    "from collections import Counter\n",
    "from sklearn.metrics import accuracy_score\n",
    "from sklearn import cross_validation"
   ]
  },
  {
   "cell_type": "code",
   "execution_count": 2,
   "metadata": {},
   "outputs": [
    {
     "name": "stderr",
     "output_type": "stream",
     "text": [
      "C:\\Users\\lenovo\\Anaconda3\\lib\\site-packages\\gensim\\utils.py:1197: UserWarning: detected Windows; aliasing chunkize to chunkize_serial\n",
      "  warnings.warn(\"detected Windows; aliasing chunkize to chunkize_serial\")\n"
     ]
    }
   ],
   "source": [
    "%matplotlib inline\n",
    "import warnings\n",
    "warnings.filterwarnings(\"ignore\")\n",
    "\n",
    "import sqlite3\n",
    "import pandas as pd\n",
    "import numpy as np\n",
    "import nltk\n",
    "import string\n",
    "import matplotlib.pyplot as plt\n",
    "import seaborn as sns\n",
    "from sklearn.feature_extraction.text import TfidfTransformer\n",
    "from sklearn.feature_extraction.text import TfidfVectorizer\n",
    "from sklearn.metrics import accuracy_score,precision_score,recall_score,confusion_matrix,classification_report,f1_score\n",
    "import scikitplot as skplt\n",
    "\n",
    "from sklearn.feature_extraction.text import CountVectorizer\n",
    "from sklearn.metrics import confusion_matrix\n",
    "from sklearn import metrics\n",
    "from sklearn.metrics import roc_curve, auc\n",
    "from nltk.stem.porter import PorterStemmer\n",
    "\n",
    "import re\n",
    "# Tutorial about Python regular expressions: https://pymotw.com/2/re/\n",
    "import string\n",
    "from nltk.corpus import stopwords\n",
    "from nltk.stem import PorterStemmer\n",
    "from nltk.stem.wordnet import WordNetLemmatizer\n",
    "\n",
    "from gensim.models import Word2Vec\n",
    "from gensim.models import KeyedVectors\n",
    "import pickle\n",
    "\n",
    "from tqdm import tqdm\n",
    "import os"
   ]
  },
  {
   "cell_type": "code",
   "execution_count": 78,
   "metadata": {},
   "outputs": [
    {
     "name": "stdout",
     "output_type": "stream",
     "text": [
      "(525814, 10)\n"
     ]
    }
   ],
   "source": [
    "# using the SQLite Table to read data.\n",
    "con = sqlite3.connect('database.sqlite') \n",
    "\n",
    "#filtering only positive and negative reviews i.e. \n",
    "# not taking into consideration those reviews with Score=3\n",
    "filtered_data = pd.read_sql_query(\"\"\" SELECT * FROM Reviews WHERE Score != 3 \"\"\", con) \n",
    "print(filtered_data.shape)"
   ]
  },
  {
   "cell_type": "code",
   "execution_count": 79,
   "metadata": {},
   "outputs": [
    {
     "data": {
      "text/html": [
       "<div>\n",
       "<style scoped>\n",
       "    .dataframe tbody tr th:only-of-type {\n",
       "        vertical-align: middle;\n",
       "    }\n",
       "\n",
       "    .dataframe tbody tr th {\n",
       "        vertical-align: top;\n",
       "    }\n",
       "\n",
       "    .dataframe thead th {\n",
       "        text-align: right;\n",
       "    }\n",
       "</style>\n",
       "<table border=\"1\" class=\"dataframe\">\n",
       "  <thead>\n",
       "    <tr style=\"text-align: right;\">\n",
       "      <th></th>\n",
       "      <th>Id</th>\n",
       "      <th>ProductId</th>\n",
       "      <th>UserId</th>\n",
       "      <th>ProfileName</th>\n",
       "      <th>HelpfulnessNumerator</th>\n",
       "      <th>HelpfulnessDenominator</th>\n",
       "      <th>Score</th>\n",
       "      <th>Time</th>\n",
       "      <th>Summary</th>\n",
       "      <th>Text</th>\n",
       "    </tr>\n",
       "  </thead>\n",
       "  <tbody>\n",
       "    <tr>\n",
       "      <th>0</th>\n",
       "      <td>1</td>\n",
       "      <td>B001E4KFG0</td>\n",
       "      <td>A3SGXH7AUHU8GW</td>\n",
       "      <td>delmartian</td>\n",
       "      <td>1</td>\n",
       "      <td>1</td>\n",
       "      <td>5</td>\n",
       "      <td>1303862400</td>\n",
       "      <td>Good Quality Dog Food</td>\n",
       "      <td>I have bought several of the Vitality canned d...</td>\n",
       "    </tr>\n",
       "    <tr>\n",
       "      <th>1</th>\n",
       "      <td>2</td>\n",
       "      <td>B00813GRG4</td>\n",
       "      <td>A1D87F6ZCVE5NK</td>\n",
       "      <td>dll pa</td>\n",
       "      <td>0</td>\n",
       "      <td>0</td>\n",
       "      <td>1</td>\n",
       "      <td>1346976000</td>\n",
       "      <td>Not as Advertised</td>\n",
       "      <td>Product arrived labeled as Jumbo Salted Peanut...</td>\n",
       "    </tr>\n",
       "    <tr>\n",
       "      <th>2</th>\n",
       "      <td>3</td>\n",
       "      <td>B000LQOCH0</td>\n",
       "      <td>ABXLMWJIXXAIN</td>\n",
       "      <td>Natalia Corres \"Natalia Corres\"</td>\n",
       "      <td>1</td>\n",
       "      <td>1</td>\n",
       "      <td>4</td>\n",
       "      <td>1219017600</td>\n",
       "      <td>\"Delight\" says it all</td>\n",
       "      <td>This is a confection that has been around a fe...</td>\n",
       "    </tr>\n",
       "    <tr>\n",
       "      <th>3</th>\n",
       "      <td>4</td>\n",
       "      <td>B000UA0QIQ</td>\n",
       "      <td>A395BORC6FGVXV</td>\n",
       "      <td>Karl</td>\n",
       "      <td>3</td>\n",
       "      <td>3</td>\n",
       "      <td>2</td>\n",
       "      <td>1307923200</td>\n",
       "      <td>Cough Medicine</td>\n",
       "      <td>If you are looking for the secret ingredient i...</td>\n",
       "    </tr>\n",
       "    <tr>\n",
       "      <th>4</th>\n",
       "      <td>5</td>\n",
       "      <td>B006K2ZZ7K</td>\n",
       "      <td>A1UQRSCLF8GW1T</td>\n",
       "      <td>Michael D. Bigham \"M. Wassir\"</td>\n",
       "      <td>0</td>\n",
       "      <td>0</td>\n",
       "      <td>5</td>\n",
       "      <td>1350777600</td>\n",
       "      <td>Great taffy</td>\n",
       "      <td>Great taffy at a great price.  There was a wid...</td>\n",
       "    </tr>\n",
       "  </tbody>\n",
       "</table>\n",
       "</div>"
      ],
      "text/plain": [
       "   Id   ProductId          UserId                      ProfileName  \\\n",
       "0   1  B001E4KFG0  A3SGXH7AUHU8GW                       delmartian   \n",
       "1   2  B00813GRG4  A1D87F6ZCVE5NK                           dll pa   \n",
       "2   3  B000LQOCH0   ABXLMWJIXXAIN  Natalia Corres \"Natalia Corres\"   \n",
       "3   4  B000UA0QIQ  A395BORC6FGVXV                             Karl   \n",
       "4   5  B006K2ZZ7K  A1UQRSCLF8GW1T    Michael D. Bigham \"M. Wassir\"   \n",
       "\n",
       "   HelpfulnessNumerator  HelpfulnessDenominator  Score        Time  \\\n",
       "0                     1                       1      5  1303862400   \n",
       "1                     0                       0      1  1346976000   \n",
       "2                     1                       1      4  1219017600   \n",
       "3                     3                       3      2  1307923200   \n",
       "4                     0                       0      5  1350777600   \n",
       "\n",
       "                 Summary                                               Text  \n",
       "0  Good Quality Dog Food  I have bought several of the Vitality canned d...  \n",
       "1      Not as Advertised  Product arrived labeled as Jumbo Salted Peanut...  \n",
       "2  \"Delight\" says it all  This is a confection that has been around a fe...  \n",
       "3         Cough Medicine  If you are looking for the secret ingredient i...  \n",
       "4            Great taffy  Great taffy at a great price.  There was a wid...  "
      ]
     },
     "execution_count": 79,
     "metadata": {},
     "output_type": "execute_result"
    }
   ],
   "source": [
    "filtered_data.head(5)"
   ]
  },
  {
   "cell_type": "code",
   "execution_count": 80,
   "metadata": {},
   "outputs": [
    {
     "name": "stdout",
     "output_type": "stream",
     "text": [
      "Number of data points in our data (525814, 10)\n"
     ]
    },
    {
     "data": {
      "text/html": [
       "<div>\n",
       "<style scoped>\n",
       "    .dataframe tbody tr th:only-of-type {\n",
       "        vertical-align: middle;\n",
       "    }\n",
       "\n",
       "    .dataframe tbody tr th {\n",
       "        vertical-align: top;\n",
       "    }\n",
       "\n",
       "    .dataframe thead th {\n",
       "        text-align: right;\n",
       "    }\n",
       "</style>\n",
       "<table border=\"1\" class=\"dataframe\">\n",
       "  <thead>\n",
       "    <tr style=\"text-align: right;\">\n",
       "      <th></th>\n",
       "      <th>Id</th>\n",
       "      <th>ProductId</th>\n",
       "      <th>UserId</th>\n",
       "      <th>ProfileName</th>\n",
       "      <th>HelpfulnessNumerator</th>\n",
       "      <th>HelpfulnessDenominator</th>\n",
       "      <th>Score</th>\n",
       "      <th>Time</th>\n",
       "      <th>Summary</th>\n",
       "      <th>Text</th>\n",
       "    </tr>\n",
       "  </thead>\n",
       "  <tbody>\n",
       "    <tr>\n",
       "      <th>0</th>\n",
       "      <td>1</td>\n",
       "      <td>B001E4KFG0</td>\n",
       "      <td>A3SGXH7AUHU8GW</td>\n",
       "      <td>delmartian</td>\n",
       "      <td>1</td>\n",
       "      <td>1</td>\n",
       "      <td>positive</td>\n",
       "      <td>1303862400</td>\n",
       "      <td>Good Quality Dog Food</td>\n",
       "      <td>I have bought several of the Vitality canned d...</td>\n",
       "    </tr>\n",
       "    <tr>\n",
       "      <th>1</th>\n",
       "      <td>2</td>\n",
       "      <td>B00813GRG4</td>\n",
       "      <td>A1D87F6ZCVE5NK</td>\n",
       "      <td>dll pa</td>\n",
       "      <td>0</td>\n",
       "      <td>0</td>\n",
       "      <td>negative</td>\n",
       "      <td>1346976000</td>\n",
       "      <td>Not as Advertised</td>\n",
       "      <td>Product arrived labeled as Jumbo Salted Peanut...</td>\n",
       "    </tr>\n",
       "    <tr>\n",
       "      <th>2</th>\n",
       "      <td>3</td>\n",
       "      <td>B000LQOCH0</td>\n",
       "      <td>ABXLMWJIXXAIN</td>\n",
       "      <td>Natalia Corres \"Natalia Corres\"</td>\n",
       "      <td>1</td>\n",
       "      <td>1</td>\n",
       "      <td>positive</td>\n",
       "      <td>1219017600</td>\n",
       "      <td>\"Delight\" says it all</td>\n",
       "      <td>This is a confection that has been around a fe...</td>\n",
       "    </tr>\n",
       "  </tbody>\n",
       "</table>\n",
       "</div>"
      ],
      "text/plain": [
       "   Id   ProductId          UserId                      ProfileName  \\\n",
       "0   1  B001E4KFG0  A3SGXH7AUHU8GW                       delmartian   \n",
       "1   2  B00813GRG4  A1D87F6ZCVE5NK                           dll pa   \n",
       "2   3  B000LQOCH0   ABXLMWJIXXAIN  Natalia Corres \"Natalia Corres\"   \n",
       "\n",
       "   HelpfulnessNumerator  HelpfulnessDenominator     Score        Time  \\\n",
       "0                     1                       1  positive  1303862400   \n",
       "1                     0                       0  negative  1346976000   \n",
       "2                     1                       1  positive  1219017600   \n",
       "\n",
       "                 Summary                                               Text  \n",
       "0  Good Quality Dog Food  I have bought several of the Vitality canned d...  \n",
       "1      Not as Advertised  Product arrived labeled as Jumbo Salted Peanut...  \n",
       "2  \"Delight\" says it all  This is a confection that has been around a fe...  "
      ]
     },
     "execution_count": 80,
     "metadata": {},
     "output_type": "execute_result"
    }
   ],
   "source": [
    "# Give reviews with Score>3 a positive rating, and reviews with a score<3 a negative rating.\n",
    "def partition(x):\n",
    "    if x < 3:\n",
    "        return 'negative'\n",
    "    return 'positive'\n",
    "\n",
    "#changing reviews with score less than 3 to be positive and vice-versa\n",
    "actualScore = filtered_data['Score']\n",
    "positiveNegative = actualScore.map(partition) \n",
    "filtered_data['Score'] = positiveNegative\n",
    "print(\"Number of data points in our data\", filtered_data.shape)\n",
    "filtered_data.head(3)"
   ]
  },
  {
   "cell_type": "code",
   "execution_count": 81,
   "metadata": {},
   "outputs": [
    {
     "data": {
      "text/plain": [
       "positive    443777\n",
       "negative     82037\n",
       "Name: Score, dtype: int64"
      ]
     },
     "execution_count": 81,
     "metadata": {},
     "output_type": "execute_result"
    }
   ],
   "source": [
    "filtered_data['Score'].value_counts() #Data points in each class"
   ]
  },
  {
   "cell_type": "code",
   "execution_count": 82,
   "metadata": {},
   "outputs": [
    {
     "data": {
      "text/plain": [
       "(525814, 10)"
      ]
     },
     "execution_count": 82,
     "metadata": {},
     "output_type": "execute_result"
    }
   ],
   "source": [
    "#Sorting the data taking productid as the parameter\n",
    "sorted_data=filtered_data.sort_values('ProductId', axis=0, ascending=True, inplace=False, kind='quicksort', na_position='last')\n",
    "sorted_data.shape"
   ]
  },
  {
   "cell_type": "code",
   "execution_count": 83,
   "metadata": {},
   "outputs": [
    {
     "data": {
      "text/plain": [
       "(364173, 10)"
      ]
     },
     "execution_count": 83,
     "metadata": {},
     "output_type": "execute_result"
    }
   ],
   "source": [
    "#Deleting the dublicates reviews which is created when user writed a review for the product, it automatically generates for the same product of different color etc\n",
    "final = sorted_data.drop_duplicates(subset={\"UserId\",\"ProfileName\",\"Time\",\"Text\"}, keep='first', inplace=False)\n",
    "final.shape"
   ]
  },
  {
   "cell_type": "code",
   "execution_count": 84,
   "metadata": {},
   "outputs": [
    {
     "data": {
      "text/plain": [
       "69.25890143662969"
      ]
     },
     "execution_count": 84,
     "metadata": {},
     "output_type": "execute_result"
    }
   ],
   "source": [
    "#Checking to see how much % of data still remains\n",
    "(final['Id'].size*1.0)/(filtered_data['Id'].size*1.0)*100"
   ]
  },
  {
   "cell_type": "code",
   "execution_count": 85,
   "metadata": {},
   "outputs": [
    {
     "name": "stdout",
     "output_type": "stream",
     "text": [
      "      Id   ProductId          UserId              ProfileName  \\\n",
      "0  64422  B000MIDROQ  A161DK06JJMCYF  J. E. Stephens \"Jeanne\"   \n",
      "1  44737  B001EQ55RW  A2V0I904FH7ABY                      Ram   \n",
      "\n",
      "   HelpfulnessNumerator  HelpfulnessDenominator  Score        Time  \\\n",
      "0                     3                       1      5  1224892800   \n",
      "1                     3                       2      4  1212883200   \n",
      "\n",
      "                                        Summary  \\\n",
      "0             Bought This for My Son at College   \n",
      "1  Pure cocoa taste with crunchy almonds inside   \n",
      "\n",
      "                                                Text  \n",
      "0  My son loves spaghetti so I didn't hesitate or...  \n",
      "1  It was almost a 'love at first bite' - the per...  \n"
     ]
    }
   ],
   "source": [
    "duplicate_data= pd.read_sql_query(\"\"\"SELECT * FROM Reviews WHERE Score != 3 AND Id=44737 OR Id=64422 ORDER BY ProductID\"\"\", con)\n",
    "print(duplicate_data)"
   ]
  },
  {
   "cell_type": "code",
   "execution_count": 86,
   "metadata": {},
   "outputs": [
    {
     "name": "stdout",
     "output_type": "stream",
     "text": [
      "(364171, 10)\n"
     ]
    },
    {
     "data": {
      "text/plain": [
       "positive    307061\n",
       "negative     57110\n",
       "Name: Score, dtype: int64"
      ]
     },
     "execution_count": 86,
     "metadata": {},
     "output_type": "execute_result"
    }
   ],
   "source": [
    "#Dropping the data which has HelpfulnessNumerator<HelpfulnessDenominator which is impossible\n",
    "final=final[final.HelpfulnessNumerator<=final.HelpfulnessDenominator]\n",
    "#Before starting the next phase of preprocessing lets see the number of entries left\n",
    "print(final.shape)\n",
    "\n",
    "#How many positive and negative reviews are present in our dataset?\n",
    "final['Score'].value_counts()"
   ]
  },
  {
   "cell_type": "code",
   "execution_count": 87,
   "metadata": {},
   "outputs": [
    {
     "data": {
      "text/plain": [
       "69.25852107399194"
      ]
     },
     "execution_count": 87,
     "metadata": {},
     "output_type": "execute_result"
    }
   ],
   "source": [
    "#Checking to see how much % of data still remains\n",
    "(final['Id'].size*1.0)/(filtered_data['Id'].size*1.0)*100"
   ]
  },
  {
   "cell_type": "code",
   "execution_count": 88,
   "metadata": {},
   "outputs": [
    {
     "name": "stdout",
     "output_type": "stream",
     "text": [
      "(364171, 10)\n"
     ]
    }
   ],
   "source": [
    "print(final.shape)"
   ]
  },
  {
   "cell_type": "code",
   "execution_count": 3,
   "metadata": {},
   "outputs": [],
   "source": [
    "stop = set(stopwords.words('english')) #set of stopwords\n",
    "sno = nltk.stem.SnowballStemmer('english') #initialising the snowball stemmer\n",
    "\n",
    "def cleanhtml(sentence): #function to clean the word of any html-tags\n",
    "    cleanr = re.compile('<.*?>')\n",
    "    cleantext = re.sub(cleanr, ' ', sentence)\n",
    "    return cleantext\n",
    "def cleanpunc(sentence): #function to clean the word of any punctuation or special characters\n",
    "    cleaned = re.sub(r'[?|!|\\'|\"|#]',r'',sentence)\n",
    "    cleaned = re.sub(r'[.|,|)|(|\\|/]',r' ',cleaned)\n",
    "    return  cleaned"
   ]
  },
  {
   "cell_type": "code",
   "execution_count": 90,
   "metadata": {},
   "outputs": [
    {
     "name": "stderr",
     "output_type": "stream",
     "text": [
      "100%|█████████████████████████████████████████████████████████████████████████| 364171/364171 [09:30<00:00, 638.72it/s]\n"
     ]
    }
   ],
   "source": [
    "#Code for implementing step-by-step the checks mentioned in the pre-processing phase\n",
    "# this code takes a while to run as it needs to run on 500k sentences.\n",
    "from tqdm import tqdm\n",
    "i=0\n",
    "str1=' '\n",
    "final_string=[]\n",
    "all_positive_words=[] # store words from +ve reviews here\n",
    "all_negative_words=[] # store words from -ve reviews here.\n",
    "s=''\n",
    "for sent in tqdm(final['Text'].values):\n",
    "    filtered_sentence=[]\n",
    "    #print(sent);\n",
    "    sent=cleanhtml(sent) # remove HTMl tags\n",
    "    for w in sent.split():\n",
    "        for cleaned_words in cleanpunc(w).split():\n",
    "            if((cleaned_words.isalpha()) & (len(cleaned_words)>2)):    \n",
    "                if(cleaned_words.lower() not in stop):\n",
    "                    s=(sno.stem(cleaned_words.lower())).encode('utf8')\n",
    "                    filtered_sentence.append(s)\n",
    "                    if (final['Score'].values)[i] == 'positive': \n",
    "                        all_positive_words.append(s) #list of all words used to describe positive reviews\n",
    "                    if(final['Score'].values)[i] == 'negative':\n",
    "                        all_negative_words.append(s) #list of all words used to describe negative reviews reviews\n",
    "                else:\n",
    "                    continue\n",
    "            else:\n",
    "                continue \n",
    "    #print(filtered_sentence)\n",
    "    str1 = b\" \".join(filtered_sentence) #final string of cleaned words\n",
    "    #print(\"***********************************************************************\")\n",
    "    \n",
    "    final_string.append(str1)\n",
    "    i+=1"
   ]
  },
  {
   "cell_type": "code",
   "execution_count": 91,
   "metadata": {},
   "outputs": [
    {
     "data": {
      "text/html": [
       "<div>\n",
       "<style scoped>\n",
       "    .dataframe tbody tr th:only-of-type {\n",
       "        vertical-align: middle;\n",
       "    }\n",
       "\n",
       "    .dataframe tbody tr th {\n",
       "        vertical-align: top;\n",
       "    }\n",
       "\n",
       "    .dataframe thead th {\n",
       "        text-align: right;\n",
       "    }\n",
       "</style>\n",
       "<table border=\"1\" class=\"dataframe\">\n",
       "  <thead>\n",
       "    <tr style=\"text-align: right;\">\n",
       "      <th></th>\n",
       "      <th>Id</th>\n",
       "      <th>ProductId</th>\n",
       "      <th>UserId</th>\n",
       "      <th>ProfileName</th>\n",
       "      <th>HelpfulnessNumerator</th>\n",
       "      <th>HelpfulnessDenominator</th>\n",
       "      <th>Score</th>\n",
       "      <th>Time</th>\n",
       "      <th>Summary</th>\n",
       "      <th>Text</th>\n",
       "      <th>CleanedText</th>\n",
       "    </tr>\n",
       "  </thead>\n",
       "  <tbody>\n",
       "    <tr>\n",
       "      <th>138706</th>\n",
       "      <td>150524</td>\n",
       "      <td>0006641040</td>\n",
       "      <td>ACITT7DI6IDDL</td>\n",
       "      <td>shari zychinski</td>\n",
       "      <td>0</td>\n",
       "      <td>0</td>\n",
       "      <td>positive</td>\n",
       "      <td>939340800</td>\n",
       "      <td>EVERY book is educational</td>\n",
       "      <td>this witty little book makes my son laugh at l...</td>\n",
       "      <td>witti littl book make son laugh loud recit car...</td>\n",
       "    </tr>\n",
       "    <tr>\n",
       "      <th>138688</th>\n",
       "      <td>150506</td>\n",
       "      <td>0006641040</td>\n",
       "      <td>A2IW4PEEKO2R0U</td>\n",
       "      <td>Tracy</td>\n",
       "      <td>1</td>\n",
       "      <td>1</td>\n",
       "      <td>positive</td>\n",
       "      <td>1194739200</td>\n",
       "      <td>Love the book, miss the hard cover version</td>\n",
       "      <td>I grew up reading these Sendak books, and watc...</td>\n",
       "      <td>grew read sendak book watch realli rosi movi i...</td>\n",
       "    </tr>\n",
       "    <tr>\n",
       "      <th>138689</th>\n",
       "      <td>150507</td>\n",
       "      <td>0006641040</td>\n",
       "      <td>A1S4A3IQ2MU7V4</td>\n",
       "      <td>sally sue \"sally sue\"</td>\n",
       "      <td>1</td>\n",
       "      <td>1</td>\n",
       "      <td>positive</td>\n",
       "      <td>1191456000</td>\n",
       "      <td>chicken soup with rice months</td>\n",
       "      <td>This is a fun way for children to learn their ...</td>\n",
       "      <td>fun way children learn month year learn poem t...</td>\n",
       "    </tr>\n",
       "  </tbody>\n",
       "</table>\n",
       "</div>"
      ],
      "text/plain": [
       "            Id   ProductId          UserId            ProfileName  \\\n",
       "138706  150524  0006641040   ACITT7DI6IDDL        shari zychinski   \n",
       "138688  150506  0006641040  A2IW4PEEKO2R0U                  Tracy   \n",
       "138689  150507  0006641040  A1S4A3IQ2MU7V4  sally sue \"sally sue\"   \n",
       "\n",
       "        HelpfulnessNumerator  HelpfulnessDenominator     Score        Time  \\\n",
       "138706                     0                       0  positive   939340800   \n",
       "138688                     1                       1  positive  1194739200   \n",
       "138689                     1                       1  positive  1191456000   \n",
       "\n",
       "                                           Summary  \\\n",
       "138706                   EVERY book is educational   \n",
       "138688  Love the book, miss the hard cover version   \n",
       "138689               chicken soup with rice months   \n",
       "\n",
       "                                                     Text  \\\n",
       "138706  this witty little book makes my son laugh at l...   \n",
       "138688  I grew up reading these Sendak books, and watc...   \n",
       "138689  This is a fun way for children to learn their ...   \n",
       "\n",
       "                                              CleanedText  \n",
       "138706  witti littl book make son laugh loud recit car...  \n",
       "138688  grew read sendak book watch realli rosi movi i...  \n",
       "138689  fun way children learn month year learn poem t...  "
      ]
     },
     "execution_count": 91,
     "metadata": {},
     "output_type": "execute_result"
    }
   ],
   "source": [
    "final['CleanedText']=final_string #adding a column of CleanedText which displays the data after pre-processing of the review \n",
    "final['CleanedText']=final['CleanedText'].str.decode(\"utf-8\")\n",
    "final.head(3)"
   ]
  },
  {
   "cell_type": "code",
   "execution_count": 92,
   "metadata": {},
   "outputs": [
    {
     "data": {
      "text/plain": [
       "(364171, 11)"
      ]
     },
     "execution_count": 92,
     "metadata": {},
     "output_type": "execute_result"
    }
   ],
   "source": [
    "final.shape"
   ]
  },
  {
   "cell_type": "code",
   "execution_count": 93,
   "metadata": {},
   "outputs": [],
   "source": [
    "# store final table into an SQlLite table for future.\n",
    "conn = sqlite3.connect('data_all_after_preprocess.sqlite')\n",
    "c=conn.cursor()\n",
    "conn.text_factory = str\n",
    "final.to_sql('Reviews', conn,  schema=None, if_exists='replace', index=False, index_label=None, chunksize=None, dtype=None)"
   ]
  },
  {
   "cell_type": "code",
   "execution_count": 94,
   "metadata": {},
   "outputs": [
    {
     "name": "stdout",
     "output_type": "stream",
     "text": [
      "(364171, 11)\n"
     ]
    }
   ],
   "source": [
    "#reading from Database\n",
    "con = sqlite3.connect('data_all_after_preprocess.sqlite')\n",
    "#filtering only positive and negative reviews i.e. \n",
    "# not taking into consideration those reviews with Score=3\n",
    "data = pd.read_sql_query(\"\"\"SELECT * FROM Reviews\"\"\", con)\n",
    "print(data.shape)"
   ]
  },
  {
   "cell_type": "code",
   "execution_count": 95,
   "metadata": {},
   "outputs": [
    {
     "data": {
      "text/plain": [
       "positive    307061\n",
       "negative     57110\n",
       "Name: Score, dtype: int64"
      ]
     },
     "execution_count": 95,
     "metadata": {},
     "output_type": "execute_result"
    }
   ],
   "source": [
    "data['Score'].value_counts()"
   ]
  },
  {
   "cell_type": "code",
   "execution_count": 96,
   "metadata": {},
   "outputs": [],
   "source": [
    "final=data.sort_values('Time', axis=0, ascending=True, inplace=False, kind='quicksort', na_position='last')"
   ]
  },
  {
   "cell_type": "code",
   "execution_count": 97,
   "metadata": {},
   "outputs": [
    {
     "name": "stdout",
     "output_type": "stream",
     "text": [
      "(364171, 11)\n"
     ]
    }
   ],
   "source": [
    "print(final.shape)"
   ]
  },
  {
   "cell_type": "code",
   "execution_count": 98,
   "metadata": {},
   "outputs": [
    {
     "name": "stdout",
     "output_type": "stream",
     "text": [
      "(60000, 11)\n"
     ]
    }
   ],
   "source": [
    "final = final.head(60000)\n",
    "print(final.shape)"
   ]
  },
  {
   "cell_type": "code",
   "execution_count": 99,
   "metadata": {},
   "outputs": [],
   "source": [
    "# store final table into an SQlLite table for future.\n",
    "conn = sqlite3.connect('Data_60k_timebased.sqlite')\n",
    "c=conn.cursor()\n",
    "conn.text_factory = str\n",
    "final.to_sql('Reviews', conn,  schema=None, if_exists='replace', index=False, index_label=None, chunksize=None, dtype=None)"
   ]
  },
  {
   "cell_type": "code",
   "execution_count": 100,
   "metadata": {},
   "outputs": [
    {
     "name": "stdout",
     "output_type": "stream",
     "text": [
      "(40000, 11)\n",
      "(10000, 11)\n",
      "(10000, 11)\n"
     ]
    }
   ],
   "source": [
    "X_train_data = final[:40000]\n",
    "X_cv_data = final[40000:50000]\n",
    "X_test_data = final[50000:60000]\n",
    "print(X_train_data.shape)\n",
    "print(X_cv_data.shape)\n",
    "print(X_test_data.shape)"
   ]
  },
  {
   "cell_type": "code",
   "execution_count": 101,
   "metadata": {},
   "outputs": [],
   "source": [
    "# store final table into an SQlLite table for future.\n",
    "conn = sqlite3.connect('X_train_40k_timebased.sqlite')\n",
    "c=conn.cursor()\n",
    "conn.text_factory = str\n",
    "X_train_data.to_sql('Reviews', conn,  schema=None, if_exists='replace', index=False, index_label=None, chunksize=None, dtype=None)"
   ]
  },
  {
   "cell_type": "code",
   "execution_count": 102,
   "metadata": {},
   "outputs": [],
   "source": [
    "# store final table into an SQlLite table for future.\n",
    "conn = sqlite3.connect('X_cv_10k_timebased.sqlite')\n",
    "c=conn.cursor()\n",
    "conn.text_factory = str\n",
    "X_cv_data.to_sql('Reviews', conn,  schema=None, if_exists='replace', index=False, index_label=None, chunksize=None, dtype=None)"
   ]
  },
  {
   "cell_type": "code",
   "execution_count": 103,
   "metadata": {},
   "outputs": [],
   "source": [
    "# store final table into an SQlLite table for future.\n",
    "conn = sqlite3.connect('X_test_10k_timebased.sqlite')\n",
    "c=conn.cursor()\n",
    "conn.text_factory = str\n",
    "X_test_data.to_sql('Reviews', conn,  schema=None, if_exists='replace', index=False, index_label=None, chunksize=None, dtype=None)"
   ]
  },
  {
   "cell_type": "code",
   "execution_count": 5,
   "metadata": {},
   "outputs": [
    {
     "name": "stdout",
     "output_type": "stream",
     "text": [
      "(40000, 11)\n"
     ]
    }
   ],
   "source": [
    "#reading from Database\n",
    "con = sqlite3.connect('X_train_40k_timebased.sqlite')\n",
    "#filtering only positive and negative reviews i.e. \n",
    "# not taking into consideration those reviews with Score=3\n",
    "X_train_data = pd.read_sql_query(\"\"\"SELECT * FROM Reviews\"\"\", con)\n",
    "print(X_train_data.shape)"
   ]
  },
  {
   "cell_type": "code",
   "execution_count": 6,
   "metadata": {},
   "outputs": [
    {
     "name": "stdout",
     "output_type": "stream",
     "text": [
      "(10000, 11)\n"
     ]
    }
   ],
   "source": [
    "#reading from Database\n",
    "con = sqlite3.connect('X_cv_10k_timebased.sqlite')\n",
    "#filtering only positive and negative reviews i.e. \n",
    "# not taking into consideration those reviews with Score=3\n",
    "X_cv_data = pd.read_sql_query(\"\"\"SELECT * FROM Reviews\"\"\", con)\n",
    "print(X_cv_data.shape)"
   ]
  },
  {
   "cell_type": "code",
   "execution_count": 7,
   "metadata": {},
   "outputs": [
    {
     "name": "stdout",
     "output_type": "stream",
     "text": [
      "(10000, 11)\n"
     ]
    }
   ],
   "source": [
    "#reading from Database\n",
    "con = sqlite3.connect('X_test_10k_timebased.sqlite')\n",
    "#filtering only positive and negative reviews i.e. \n",
    "# not taking into consideration those reviews with Score=3\n",
    "X_test_data = pd.read_sql_query(\"\"\"SELECT * FROM Reviews\"\"\", con)\n",
    "print(X_test_data.shape)"
   ]
  },
  {
   "cell_type": "code",
   "execution_count": 8,
   "metadata": {},
   "outputs": [
    {
     "name": "stdout",
     "output_type": "stream",
     "text": [
      "Data\n",
      "(40000, 11)\n",
      "(10000, 11)\n",
      "(10000, 11)\n",
      "Label\n",
      "(40000,)\n",
      "(10000,)\n",
      "(10000,)\n"
     ]
    }
   ],
   "source": [
    "y_train = X_train_data['Score']\n",
    "y_cv = X_cv_data['Score']\n",
    "y_test = X_test_data['Score']\n",
    "print(\"Data\")\n",
    "print(X_train_data.shape)\n",
    "print(X_cv_data.shape)\n",
    "print(X_test_data.shape)\n",
    "print(\"Label\")\n",
    "print(y_train.shape)\n",
    "print(y_cv.shape)\n",
    "print(y_test.shape)"
   ]
  },
  {
   "cell_type": "markdown",
   "metadata": {},
   "source": [
    "# BOW"
   ]
  },
  {
   "cell_type": "code",
   "execution_count": 72,
   "metadata": {},
   "outputs": [
    {
     "name": "stdout",
     "output_type": "stream",
     "text": [
      "(40000, 2000)\n",
      "(10000, 2000)\n",
      "(10000, 2000)\n"
     ]
    }
   ],
   "source": [
    "#count_vect = CountVectorizer(min_df = 50,max_features=2000)\n",
    "X_train = count_vect.fit_transform(X_train_data['CleanedText'])\n",
    "X_cv = count_vect.transform(X_cv_data['CleanedText'])\n",
    "X_test = count_vect.transform(X_test_data['CleanedText'])\n",
    "print(X_train.shape)\n",
    "print(X_cv.shape)\n",
    "print(X_test.shape)"
   ]
  },
  {
   "cell_type": "markdown",
   "metadata": {},
   "source": [
    "# BOW | BRUTE |"
   ]
  },
  {
   "cell_type": "code",
   "execution_count": 108,
   "metadata": {},
   "outputs": [
    {
     "name": "stderr",
     "output_type": "stream",
     "text": [
      "\r",
      "  0%|                                                                                           | 0/15 [00:00<?, ?it/s]"
     ]
    },
    {
     "name": "stdout",
     "output_type": "stream",
     "text": [
      "*************************************************************************\n",
      "For k =  1\n",
      "Accuracy =  83.7\n",
      "f1_score =  55.0\n",
      "precision_score =  57.0\n",
      "recall_score =  55.0\n"
     ]
    },
    {
     "name": "stderr",
     "output_type": "stream",
     "text": [
      "\r",
      "  7%|█████▌                                                                             | 1/15 [00:23<05:26, 23.35s/it]"
     ]
    },
    {
     "name": "stdout",
     "output_type": "stream",
     "text": [
      "*************************************************************************\n",
      "For k =  3\n",
      "Accuracy =  85.35000000000001\n",
      "f1_score =  55.0\n",
      "precision_score =  58.0\n",
      "recall_score =  54.0\n"
     ]
    },
    {
     "name": "stderr",
     "output_type": "stream",
     "text": [
      "\r",
      " 13%|███████████                                                                        | 2/15 [00:46<05:04, 23.44s/it]"
     ]
    },
    {
     "name": "stdout",
     "output_type": "stream",
     "text": [
      "*************************************************************************\n",
      "For k =  5\n",
      "Accuracy =  87.77000000000001\n",
      "f1_score =  52.0\n",
      "precision_score =  68.0\n",
      "recall_score =  52.0\n"
     ]
    },
    {
     "name": "stderr",
     "output_type": "stream",
     "text": [
      "\r",
      " 20%|████████████████▌                                                                  | 3/15 [01:13<04:53, 24.45s/it]"
     ]
    },
    {
     "name": "stdout",
     "output_type": "stream",
     "text": [
      "*************************************************************************\n",
      "For k =  7\n",
      "Accuracy =  87.86\n",
      "f1_score =  50.0\n",
      "precision_score =  70.0\n",
      "recall_score =  52.0\n"
     ]
    },
    {
     "name": "stderr",
     "output_type": "stream",
     "text": [
      "\r",
      " 27%|██████████████████████▏                                                            | 4/15 [01:38<04:30, 24.64s/it]"
     ]
    },
    {
     "name": "stdout",
     "output_type": "stream",
     "text": [
      "*************************************************************************\n",
      "For k =  9\n",
      "Accuracy =  87.9\n",
      "f1_score =  49.0\n",
      "precision_score =  73.0\n",
      "recall_score =  51.0\n"
     ]
    },
    {
     "name": "stderr",
     "output_type": "stream",
     "text": [
      "\r",
      " 33%|███████████████████████████▋                                                       | 5/15 [02:03<04:06, 24.65s/it]"
     ]
    },
    {
     "name": "stdout",
     "output_type": "stream",
     "text": [
      "*************************************************************************\n",
      "For k =  11\n",
      "Accuracy =  88.02\n",
      "f1_score =  49.0\n",
      "precision_score =  82.0\n",
      "recall_score =  51.0\n"
     ]
    },
    {
     "name": "stderr",
     "output_type": "stream",
     "text": [
      "\r",
      " 40%|█████████████████████████████████▏                                                 | 6/15 [02:28<03:42, 24.72s/it]"
     ]
    },
    {
     "name": "stdout",
     "output_type": "stream",
     "text": [
      "*************************************************************************\n",
      "For k =  13\n",
      "Accuracy =  87.98\n",
      "f1_score =  49.0\n",
      "precision_score =  84.0\n",
      "recall_score =  51.0\n"
     ]
    },
    {
     "name": "stderr",
     "output_type": "stream",
     "text": [
      "\r",
      " 47%|██████████████████████████████████████▋                                            | 7/15 [02:54<03:20, 25.07s/it]"
     ]
    },
    {
     "name": "stdout",
     "output_type": "stream",
     "text": [
      "*************************************************************************\n",
      "For k =  15\n",
      "Accuracy =  87.89\n",
      "f1_score =  48.0\n",
      "precision_score =  80.0\n",
      "recall_score =  51.0\n"
     ]
    },
    {
     "name": "stderr",
     "output_type": "stream",
     "text": [
      "\r",
      " 53%|████████████████████████████████████████████▎                                      | 8/15 [03:19<02:55, 25.12s/it]"
     ]
    },
    {
     "name": "stdout",
     "output_type": "stream",
     "text": [
      "*************************************************************************\n",
      "For k =  17\n",
      "Accuracy =  87.88\n",
      "f1_score =  48.0\n",
      "precision_score =  82.0\n",
      "recall_score =  50.0\n"
     ]
    },
    {
     "name": "stderr",
     "output_type": "stream",
     "text": [
      "\r",
      " 60%|█████████████████████████████████████████████████▊                                 | 9/15 [03:45<02:32, 25.43s/it]"
     ]
    },
    {
     "name": "stdout",
     "output_type": "stream",
     "text": [
      "*************************************************************************\n",
      "For k =  19\n",
      "Accuracy =  87.87\n",
      "f1_score =  47.0\n",
      "precision_score =  81.0\n",
      "recall_score =  50.0\n"
     ]
    },
    {
     "name": "stderr",
     "output_type": "stream",
     "text": [
      "\r",
      " 67%|██████████████████████████████████████████████████████▋                           | 10/15 [04:10<02:06, 25.38s/it]"
     ]
    },
    {
     "name": "stdout",
     "output_type": "stream",
     "text": [
      "*************************************************************************\n",
      "For k =  21\n",
      "Accuracy =  87.86\n",
      "f1_score =  47.0\n",
      "precision_score =  83.0\n",
      "recall_score =  50.0\n"
     ]
    },
    {
     "name": "stderr",
     "output_type": "stream",
     "text": [
      "\r",
      " 73%|████████████████████████████████████████████████████████████▏                     | 11/15 [04:36<01:41, 25.48s/it]"
     ]
    },
    {
     "name": "stdout",
     "output_type": "stream",
     "text": [
      "*************************************************************************\n",
      "For k =  23\n",
      "Accuracy =  87.85\n",
      "f1_score =  47.0\n",
      "precision_score =  86.0\n",
      "recall_score =  50.0\n"
     ]
    },
    {
     "name": "stderr",
     "output_type": "stream",
     "text": [
      "\r",
      " 80%|█████████████████████████████████████████████████████████████████▌                | 12/15 [05:04<01:18, 26.03s/it]"
     ]
    },
    {
     "name": "stdout",
     "output_type": "stream",
     "text": [
      "*************************************************************************\n",
      "For k =  25\n",
      "Accuracy =  87.85\n",
      "f1_score =  47.0\n",
      "precision_score =  86.0\n",
      "recall_score =  50.0\n"
     ]
    },
    {
     "name": "stderr",
     "output_type": "stream",
     "text": [
      "\r",
      " 87%|███████████████████████████████████████████████████████████████████████           | 13/15 [05:30<00:52, 26.13s/it]"
     ]
    },
    {
     "name": "stdout",
     "output_type": "stream",
     "text": [
      "*************************************************************************\n",
      "For k =  27\n",
      "Accuracy =  87.82\n",
      "f1_score =  47.0\n",
      "precision_score =  77.0\n",
      "recall_score =  50.0\n"
     ]
    },
    {
     "name": "stderr",
     "output_type": "stream",
     "text": [
      "\r",
      " 93%|████████████████████████████████████████████████████████████████████████████▌     | 14/15 [05:56<00:26, 26.03s/it]"
     ]
    },
    {
     "name": "stdout",
     "output_type": "stream",
     "text": [
      "*************************************************************************\n",
      "For k =  29\n",
      "Accuracy =  87.82\n",
      "f1_score =  47.0\n",
      "precision_score =  77.0\n",
      "recall_score =  50.0\n"
     ]
    },
    {
     "name": "stderr",
     "output_type": "stream",
     "text": [
      "100%|██████████████████████████████████████████████████████████████████████████████████| 15/15 [06:20<00:00, 25.48s/it]\n"
     ]
    }
   ],
   "source": [
    "for i in tqdm(range(1,30,2)):\n",
    "    # instantiate learning model (k = 30)\n",
    "    knn = KNeighborsClassifier(n_neighbors=i,algorithm='brute')\n",
    "\n",
    "    # fitting the model on train Data\n",
    "    knn.fit(X_train, y_train)\n",
    "\n",
    "    # predict the response on the crossvalidation data\n",
    "    pred = knn.predict(X_cv)\n",
    "\n",
    "    print(\"*************************************************************************\")\n",
    "    print(\"For k = \",i)\n",
    "    print('Accuracy = ', accuracy_score(y_cv, pred)*100)\n",
    "    print(\"f1_score = \",np.round(f1_score(y_cv, pred, average='macro')*100))\n",
    "    print(\"precision_score = \",np.round(precision_score(y_cv, pred, average='macro')*100))\n",
    "    print(\"recall_score = \",np.round(recall_score(y_cv, pred, average='macro')*100))"
   ]
  },
  {
   "cell_type": "code",
   "execution_count": 110,
   "metadata": {},
   "outputs": [
    {
     "name": "stdout",
     "output_type": "stream",
     "text": [
      "***Test Data Report***\n",
      "Best k = 11 \n",
      "Accuracy =  87.85\n",
      "f1_score =  49.0\n",
      "precision_score =  78.0\n",
      "recall_score =  51.0\n"
     ]
    },
    {
     "data": {
      "image/png": "[encoded data removed]",
      "text/plain": [
       "<Figure size 432x288 with 2 Axes>"
      ]
     },
     "metadata": {
      "needs_background": "light"
     },
     "output_type": "display_data"
    }
   ],
   "source": [
    "knn = KNeighborsClassifier(n_neighbors=11,algorithm='brute')\n",
    "knn.fit(X_train,y_train)\n",
    "pred = knn.predict(X_test)\n",
    "\n",
    "print(\"***Test Data Report***\")\n",
    "print(\"Best k = 11 \")\n",
    "print('Accuracy = ', accuracy_score(y_test, pred)*100)\n",
    "print(\"f1_score = \",np.round(f1_score(y_test, pred, average='macro')*100))\n",
    "print(\"precision_score = \",np.round(precision_score(y_test, pred, average='macro')*100))\n",
    "print(\"recall_score = \",np.round(recall_score(y_test, pred, average='macro')*100))\n",
    "skplt.metrics.plot_confusion_matrix(y_test, pred)\n",
    "plt.show()"
   ]
  },
  {
   "cell_type": "markdown",
   "metadata": {},
   "source": [
    "# BOW | KD_TREE |"
   ]
  },
  {
   "cell_type": "code",
   "execution_count": 64,
   "metadata": {},
   "outputs": [
    {
     "name": "stdout",
     "output_type": "stream",
     "text": [
      "(40000, 2000)\n",
      "(10000, 2000)\n",
      "(10000, 2000)\n"
     ]
    }
   ],
   "source": [
    "from sklearn.decomposition import TruncatedSVD\n",
    "count_vect = CountVectorizer(min_df=50,max_features=2000)\n",
    "train = count_vect.fit_transform(X_train_data['CleanedText'])\n",
    "cv = count_vect.transform(X_cv_data['CleanedText'])\n",
    "test = count_vect.transform(X_test_data['CleanedText'])\n",
    "print(train.shape)\n",
    "print(cv.shape)\n",
    "print(test.shape)"
   ]
  },
  {
   "cell_type": "code",
   "execution_count": 65,
   "metadata": {},
   "outputs": [
    {
     "data": {
      "text/plain": [
       "40000"
      ]
     },
     "execution_count": 65,
     "metadata": {},
     "output_type": "execute_result"
    }
   ],
   "source": [
    "from sklearn.decomposition import TruncatedSVD\n",
    "svd1 = TruncatedSVD(n_components=1999)\n",
    "X_train = svd1.fit_transform(train)\n",
    "len(X_train)"
   ]
  },
  {
   "cell_type": "code",
   "execution_count": 67,
   "metadata": {},
   "outputs": [
    {
     "data": {
      "image/png": "[encoded data removed]",
      "text/plain": [
       "<Figure size 432x288 with 1 Axes>"
      ]
     },
     "metadata": {
      "needs_background": "light"
     },
     "output_type": "display_data"
    }
   ],
   "source": [
    "# initializing the pca\n",
    "from sklearn import decomposition\n",
    "pca = decomposition.PCA()\n",
    "# PCA for dimensionality redcution (non-visualization)\n",
    "\n",
    "pca.n_components = 1999\n",
    "pca_data = pca.fit_transform(X_train)\n",
    "\n",
    "percentage_var_explained = pca.explained_variance_ / np.sum(pca.explained_variance_);\n",
    "\n",
    "cum_var_explained = np.cumsum(percentage_var_explained)\n",
    "\n",
    "# Plot the PCA spectrum\n",
    "plt.figure(1, figsize=(6, 4))\n",
    "\n",
    "plt.clf()\n",
    "plt.plot(cum_var_explained, linewidth=2)\n",
    "plt.axis('tight')\n",
    "plt.grid()\n",
    "plt.xlabel('n_components')\n",
    "plt.ylabel('Cumulative_explained_variance')\n",
    "plt.show()\n",
    "\n",
    "\n",
    "# If we take 750-dimensions, approx. 90% of variance is expalined."
   ]
  },
  {
   "cell_type": "code",
   "execution_count": 68,
   "metadata": {},
   "outputs": [
    {
     "name": "stdout",
     "output_type": "stream",
     "text": [
      "(40000, 750)\n",
      "(10000, 750)\n",
      "(10000, 750)\n"
     ]
    }
   ],
   "source": [
    "svd = TruncatedSVD(n_components=750)\n",
    "X_train = svd.fit_transform(train)\n",
    "X_cv = svd.transform(cv)\n",
    "X_test = svd.transform(test)\n",
    "print(X_train.shape)\n",
    "print(X_cv.shape)\n",
    "print(X_test.shape)"
   ]
  },
  {
   "cell_type": "code",
   "execution_count": 69,
   "metadata": {},
   "outputs": [
    {
     "name": "stderr",
     "output_type": "stream",
     "text": [
      "\r",
      "  0%|                                                                                           | 0/15 [00:00<?, ?it/s]"
     ]
    },
    {
     "name": "stdout",
     "output_type": "stream",
     "text": [
      "*************************************************************************\n",
      "For k =  1\n",
      "Accuracy =  82.0\n",
      "f1_score =  57.0\n",
      "precision_score =  57.0\n",
      "recall_score =  57.0\n"
     ]
    },
    {
     "name": "stderr",
     "output_type": "stream",
     "text": [
      "\r",
      "  7%|█████▎                                                                          | 1/15 [11:19<2:38:33, 679.53s/it]"
     ]
    },
    {
     "name": "stdout",
     "output_type": "stream",
     "text": [
      "*************************************************************************\n",
      "For k =  3\n",
      "Accuracy =  86.0\n",
      "f1_score =  57.0\n",
      "precision_score =  63.0\n",
      "recall_score =  56.0\n"
     ]
    },
    {
     "name": "stderr",
     "output_type": "stream",
     "text": [
      "\r",
      " 13%|██████████▋                                                                     | 2/15 [22:53<2:28:08, 683.74s/it]"
     ]
    },
    {
     "name": "stdout",
     "output_type": "stream",
     "text": [
      "*************************************************************************\n",
      "For k =  5\n",
      "Accuracy =  87.0\n",
      "f1_score =  54.0\n",
      "precision_score =  64.0\n",
      "recall_score =  54.0\n"
     ]
    },
    {
     "name": "stderr",
     "output_type": "stream",
     "text": [
      "\r",
      " 20%|████████████████                                                                | 3/15 [34:38<2:18:01, 690.17s/it]"
     ]
    },
    {
     "name": "stdout",
     "output_type": "stream",
     "text": [
      "*************************************************************************\n",
      "For k =  7\n",
      "Accuracy =  88.0\n",
      "f1_score =  53.0\n",
      "precision_score =  67.0\n",
      "recall_score =  53.0\n"
     ]
    },
    {
     "name": "stderr",
     "output_type": "stream",
     "text": [
      "\r",
      " 27%|█████████████████████▎                                                          | 4/15 [46:16<2:06:58, 692.59s/it]"
     ]
    },
    {
     "name": "stdout",
     "output_type": "stream",
     "text": [
      "*************************************************************************\n",
      "For k =  9\n",
      "Accuracy =  88.0\n",
      "f1_score =  52.0\n",
      "precision_score =  72.0\n",
      "recall_score =  53.0\n"
     ]
    },
    {
     "name": "stderr",
     "output_type": "stream",
     "text": [
      "\r",
      " 33%|██████████████████████████▋                                                     | 5/15 [57:38<1:54:52, 689.27s/it]"
     ]
    },
    {
     "name": "stdout",
     "output_type": "stream",
     "text": [
      "*************************************************************************\n",
      "For k =  11\n",
      "Accuracy =  88.0\n",
      "f1_score =  52.0\n",
      "precision_score =  74.0\n",
      "recall_score =  52.0\n"
     ]
    },
    {
     "name": "stderr",
     "output_type": "stream",
     "text": [
      "\r",
      " 40%|███████████████████████████████▏                                              | 6/15 [1:09:04<1:43:16, 688.55s/it]"
     ]
    },
    {
     "name": "stdout",
     "output_type": "stream",
     "text": [
      "*************************************************************************\n",
      "For k =  13\n",
      "Accuracy =  88.0\n",
      "f1_score =  51.0\n",
      "precision_score =  78.0\n",
      "recall_score =  52.0\n"
     ]
    },
    {
     "name": "stderr",
     "output_type": "stream",
     "text": [
      "\r",
      " 47%|████████████████████████████████████▍                                         | 7/15 [1:20:26<1:31:30, 686.32s/it]"
     ]
    },
    {
     "name": "stdout",
     "output_type": "stream",
     "text": [
      "*************************************************************************\n",
      "For k =  15\n",
      "Accuracy =  88.0\n",
      "f1_score =  50.0\n",
      "precision_score =  78.0\n",
      "recall_score =  52.0\n"
     ]
    },
    {
     "name": "stderr",
     "output_type": "stream",
     "text": [
      "\r",
      " 53%|█████████████████████████████████████████▌                                    | 8/15 [1:31:55<1:20:11, 687.41s/it]"
     ]
    },
    {
     "name": "stdout",
     "output_type": "stream",
     "text": [
      "*************************************************************************\n",
      "For k =  17\n",
      "Accuracy =  88.0\n",
      "f1_score =  50.0\n",
      "precision_score =  78.0\n",
      "recall_score =  51.0\n"
     ]
    },
    {
     "name": "stderr",
     "output_type": "stream",
     "text": [
      "\r",
      " 60%|██████████████████████████████████████████████▊                               | 9/15 [1:43:20<1:08:38, 686.50s/it]"
     ]
    },
    {
     "name": "stdout",
     "output_type": "stream",
     "text": [
      "*************************************************************************\n",
      "For k =  19\n",
      "Accuracy =  88.0\n",
      "f1_score =  49.0\n",
      "precision_score =  77.0\n",
      "recall_score =  51.0\n"
     ]
    },
    {
     "name": "stderr",
     "output_type": "stream",
     "text": [
      "\r",
      " 67%|████████████████████████████████████████████████████▋                          | 10/15 [1:55:00<57:32, 690.56s/it]"
     ]
    },
    {
     "name": "stdout",
     "output_type": "stream",
     "text": [
      "*************************************************************************\n",
      "For k =  21\n",
      "Accuracy =  88.0\n",
      "f1_score =  49.0\n",
      "precision_score =  80.0\n",
      "recall_score =  51.0\n"
     ]
    },
    {
     "name": "stderr",
     "output_type": "stream",
     "text": [
      "\r",
      " 73%|█████████████████████████████████████████████████████████▉                     | 11/15 [2:06:36<46:09, 692.30s/it]"
     ]
    },
    {
     "name": "stdout",
     "output_type": "stream",
     "text": [
      "*************************************************************************\n",
      "For k =  23\n",
      "Accuracy =  88.0\n",
      "f1_score =  49.0\n",
      "precision_score =  84.0\n",
      "recall_score =  51.0\n"
     ]
    },
    {
     "name": "stderr",
     "output_type": "stream",
     "text": [
      "\r",
      " 80%|███████████████████████████████████████████████████████████████▏               | 12/15 [2:18:00<34:29, 689.88s/it]"
     ]
    },
    {
     "name": "stdout",
     "output_type": "stream",
     "text": [
      "*************************************************************************\n",
      "For k =  25\n",
      "Accuracy =  88.0\n",
      "f1_score =  48.0\n",
      "precision_score =  81.0\n",
      "recall_score =  51.0\n"
     ]
    },
    {
     "name": "stderr",
     "output_type": "stream",
     "text": [
      "\r",
      " 87%|████████████████████████████████████████████████████████████████████▍          | 13/15 [2:29:20<22:53, 686.89s/it]"
     ]
    },
    {
     "name": "stdout",
     "output_type": "stream",
     "text": [
      "*************************************************************************\n",
      "For k =  27\n",
      "Accuracy =  88.0\n",
      "f1_score =  48.0\n",
      "precision_score =  85.0\n",
      "recall_score =  51.0\n"
     ]
    },
    {
     "name": "stderr",
     "output_type": "stream",
     "text": [
      "\r",
      " 93%|█████████████████████████████████████████████████████████████████████████▋     | 14/15 [2:40:18<11:17, 677.96s/it]"
     ]
    },
    {
     "name": "stdout",
     "output_type": "stream",
     "text": [
      "*************************************************************************\n",
      "For k =  29\n",
      "Accuracy =  88.0\n",
      "f1_score =  48.0\n",
      "precision_score =  84.0\n",
      "recall_score =  50.0\n"
     ]
    },
    {
     "name": "stderr",
     "output_type": "stream",
     "text": [
      "100%|███████████████████████████████████████████████████████████████████████████████| 15/15 [2:51:38<00:00, 678.79s/it]\n"
     ]
    }
   ],
   "source": [
    "for i in tqdm(range(1,30,2)):\n",
    "    # instantiate learning model (k = 30)\n",
    "    knn = KNeighborsClassifier(n_neighbors=i,algorithm='kd_tree')\n",
    "\n",
    "    # fitting the model on train Data\n",
    "    knn.fit(X_train, y_train)\n",
    "\n",
    "    # predict the response on the crossvalidation data\n",
    "    pred = knn.predict(X_cv)\n",
    "\n",
    "    print(\"*************************************************************************\")\n",
    "    print(\"For k = \",i)\n",
    "    print('Accuracy = ', np.round(accuracy_score(y_cv, pred)*100))\n",
    "    print(\"f1_score = \",np.round(f1_score(y_cv, pred, average='macro')*100))\n",
    "    print(\"precision_score = \",np.round(precision_score(y_cv, pred, average='macro')*100))\n",
    "    print(\"recall_score = \",np.round(recall_score(y_cv, pred, average='macro')*100))"
   ]
  },
  {
   "cell_type": "code",
   "execution_count": 71,
   "metadata": {},
   "outputs": [
    {
     "name": "stdout",
     "output_type": "stream",
     "text": [
      "***Test Data Report***\n",
      "Best k = 17 \n",
      "Accuracy =  87.98\n",
      "f1_score =  50.0\n",
      "precision_score =  82.0\n",
      "recall_score =  52.0\n"
     ]
    },
    {
     "data": {
      "image/png": "[encoded data removed]",
      "text/plain": [
       "<Figure size 432x288 with 2 Axes>"
      ]
     },
     "metadata": {
      "needs_background": "light"
     },
     "output_type": "display_data"
    }
   ],
   "source": [
    "knn = KNeighborsClassifier(n_neighbors=17,algorithm='kd_tree')\n",
    "knn.fit(X_train,y_train)\n",
    "pred = knn.predict(X_test)\n",
    "\n",
    "print(\"***Test Data Report***\")\n",
    "print(\"Best k = 17 \")\n",
    "print('Accuracy = ', accuracy_score(y_test, pred)*100)\n",
    "print(\"f1_score = \",np.round(f1_score(y_test, pred, average='macro')*100))\n",
    "print(\"precision_score = \",np.round(precision_score(y_test, pred, average='macro')*100))\n",
    "print(\"recall_score = \",np.round(recall_score(y_test, pred, average='macro')*100))\n",
    "skplt.metrics.plot_confusion_matrix(y_test, pred)\n",
    "plt.show()"
   ]
  },
  {
   "cell_type": "markdown",
   "metadata": {},
   "source": [
    "## OBSERVATION :-\n",
    "- > BOW | BRUTE |\n",
    "    1. K = 11\n",
    "    2. f1_score =  49.0\n",
    "    3. Accuracy =  87.85\n",
    "- > BOW | KD_TREE |\n",
    "    1. k = 17\n",
    "    2. f1_score =  50.0\n",
    "    3. Accuracy =  87.98\n",
    "- F1 Score is slightly larger in kd-tree as comared to brute force algorithm and also the accuracy is mre as well"
   ]
  },
  {
   "cell_type": "markdown",
   "metadata": {},
   "source": [
    "# TF - IDF"
   ]
  },
  {
   "cell_type": "code",
   "execution_count": 9,
   "metadata": {},
   "outputs": [
    {
     "name": "stdout",
     "output_type": "stream",
     "text": [
      "(40000, 2000)\n",
      "(10000, 2000)\n",
      "(10000, 2000)\n"
     ]
    }
   ],
   "source": [
    "tf_idf_vect = TfidfVectorizer(min_df=50,max_features=2000)\n",
    "X_train = tf_idf_vect.fit_transform(X_train_data['CleanedText'])\n",
    "X_cv = tf_idf_vect.transform(X_cv_data['CleanedText'])\n",
    "X_test = tf_idf_vect.transform(X_test_data['CleanedText'])\n",
    "print(X_train.shape)\n",
    "print(X_cv.shape)\n",
    "print(X_test.shape)"
   ]
  },
  {
   "cell_type": "markdown",
   "metadata": {},
   "source": [
    "# TF - IDF | BRUTE |"
   ]
  },
  {
   "cell_type": "code",
   "execution_count": 10,
   "metadata": {},
   "outputs": [
    {
     "name": "stderr",
     "output_type": "stream",
     "text": [
      "\r",
      "  0%|                                                                                           | 0/15 [00:00<?, ?it/s]"
     ]
    },
    {
     "name": "stdout",
     "output_type": "stream",
     "text": [
      "*************************************************************************\n",
      "For k =  1\n",
      "Accuracy =  87.11\n",
      "f1_score =  50.0\n",
      "precision_score =  59.0\n",
      "recall_score =  52.0\n"
     ]
    },
    {
     "name": "stderr",
     "output_type": "stream",
     "text": [
      "\r",
      "  7%|█████▌                                                                             | 1/15 [00:19<04:36, 19.78s/it]"
     ]
    },
    {
     "name": "stdout",
     "output_type": "stream",
     "text": [
      "*************************************************************************\n",
      "For k =  3\n",
      "Accuracy =  87.98\n",
      "f1_score =  56.0\n",
      "precision_score =  71.0\n",
      "recall_score =  55.0\n"
     ]
    },
    {
     "name": "stderr",
     "output_type": "stream",
     "text": [
      "\r",
      " 13%|███████████                                                                        | 2/15 [00:39<04:18, 19.87s/it]"
     ]
    },
    {
     "name": "stdout",
     "output_type": "stream",
     "text": [
      "*************************************************************************\n",
      "For k =  5\n",
      "Accuracy =  88.44\n",
      "f1_score =  56.0\n",
      "precision_score =  78.0\n",
      "recall_score =  55.0\n"
     ]
    },
    {
     "name": "stderr",
     "output_type": "stream",
     "text": [
      "\r",
      " 20%|████████████████▌                                                                  | 3/15 [01:02<04:07, 20.63s/it]"
     ]
    },
    {
     "name": "stdout",
     "output_type": "stream",
     "text": [
      "*************************************************************************\n",
      "For k =  7\n",
      "Accuracy =  88.61\n",
      "f1_score =  56.0\n",
      "precision_score =  82.0\n",
      "recall_score =  55.0\n"
     ]
    },
    {
     "name": "stderr",
     "output_type": "stream",
     "text": [
      "\r",
      " 27%|██████████████████████▏                                                            | 4/15 [01:24<03:52, 21.10s/it]"
     ]
    },
    {
     "name": "stdout",
     "output_type": "stream",
     "text": [
      "*************************************************************************\n",
      "For k =  9\n",
      "Accuracy =  88.69\n",
      "f1_score =  55.0\n",
      "precision_score =  85.0\n",
      "recall_score =  55.0\n"
     ]
    },
    {
     "name": "stderr",
     "output_type": "stream",
     "text": [
      "\r",
      " 33%|███████████████████████████▋                                                       | 5/15 [01:47<03:35, 21.56s/it]"
     ]
    },
    {
     "name": "stdout",
     "output_type": "stream",
     "text": [
      "*************************************************************************\n",
      "For k =  11\n",
      "Accuracy =  88.64\n",
      "f1_score =  55.0\n",
      "precision_score =  87.0\n",
      "recall_score =  54.0\n"
     ]
    },
    {
     "name": "stderr",
     "output_type": "stream",
     "text": [
      "\r",
      " 40%|█████████████████████████████████▏                                                 | 6/15 [02:09<03:15, 21.77s/it]"
     ]
    },
    {
     "name": "stdout",
     "output_type": "stream",
     "text": [
      "*************************************************************************\n",
      "For k =  13\n",
      "Accuracy =  88.64\n",
      "f1_score =  54.0\n",
      "precision_score =  88.0\n",
      "recall_score =  54.0\n"
     ]
    },
    {
     "name": "stderr",
     "output_type": "stream",
     "text": [
      "\r",
      " 47%|██████████████████████████████████████▋                                            | 7/15 [02:31<02:56, 22.03s/it]"
     ]
    },
    {
     "name": "stdout",
     "output_type": "stream",
     "text": [
      "*************************************************************************\n",
      "For k =  15\n",
      "Accuracy =  88.64999999999999\n",
      "f1_score =  54.0\n",
      "precision_score =  89.0\n",
      "recall_score =  54.0\n"
     ]
    },
    {
     "name": "stderr",
     "output_type": "stream",
     "text": [
      "\r",
      " 53%|████████████████████████████████████████████▎                                      | 8/15 [02:54<02:35, 22.18s/it]"
     ]
    },
    {
     "name": "stdout",
     "output_type": "stream",
     "text": [
      "*************************************************************************\n",
      "For k =  17\n",
      "Accuracy =  88.64\n",
      "f1_score =  54.0\n",
      "precision_score =  91.0\n",
      "recall_score =  54.0\n"
     ]
    },
    {
     "name": "stderr",
     "output_type": "stream",
     "text": [
      "\r",
      " 60%|█████████████████████████████████████████████████▊                                 | 9/15 [03:17<02:14, 22.47s/it]"
     ]
    },
    {
     "name": "stdout",
     "output_type": "stream",
     "text": [
      "*************************************************************************\n",
      "For k =  19\n",
      "Accuracy =  88.64999999999999\n",
      "f1_score =  54.0\n",
      "precision_score =  91.0\n",
      "recall_score =  54.0\n"
     ]
    },
    {
     "name": "stderr",
     "output_type": "stream",
     "text": [
      "\r",
      " 67%|██████████████████████████████████████████████████████▋                           | 10/15 [03:41<01:54, 22.90s/it]"
     ]
    },
    {
     "name": "stdout",
     "output_type": "stream",
     "text": [
      "*************************************************************************\n",
      "For k =  21\n",
      "Accuracy =  88.64\n",
      "f1_score =  54.0\n",
      "precision_score =  91.0\n",
      "recall_score =  54.0\n"
     ]
    },
    {
     "name": "stderr",
     "output_type": "stream",
     "text": [
      "\r",
      " 73%|████████████████████████████████████████████████████████████▏                     | 11/15 [04:05<01:32, 23.12s/it]"
     ]
    },
    {
     "name": "stdout",
     "output_type": "stream",
     "text": [
      "*************************************************************************\n",
      "For k =  23\n",
      "Accuracy =  88.59\n",
      "f1_score =  53.0\n",
      "precision_score =  91.0\n",
      "recall_score =  53.0\n"
     ]
    },
    {
     "name": "stderr",
     "output_type": "stream",
     "text": [
      "\r",
      " 80%|█████████████████████████████████████████████████████████████████▌                | 12/15 [04:28<01:09, 23.17s/it]"
     ]
    },
    {
     "name": "stdout",
     "output_type": "stream",
     "text": [
      "*************************************************************************\n",
      "For k =  25\n",
      "Accuracy =  88.46000000000001\n",
      "f1_score =  52.0\n",
      "precision_score =  90.0\n",
      "recall_score =  53.0\n"
     ]
    },
    {
     "name": "stderr",
     "output_type": "stream",
     "text": [
      "\r",
      " 87%|███████████████████████████████████████████████████████████████████████           | 13/15 [04:52<00:46, 23.44s/it]"
     ]
    },
    {
     "name": "stdout",
     "output_type": "stream",
     "text": [
      "*************************************************************************\n",
      "For k =  27\n",
      "Accuracy =  88.5\n",
      "f1_score =  53.0\n",
      "precision_score =  92.0\n",
      "recall_score =  53.0\n"
     ]
    },
    {
     "name": "stderr",
     "output_type": "stream",
     "text": [
      "\r",
      " 93%|████████████████████████████████████████████████████████████████████████████▌     | 14/15 [05:17<00:23, 23.81s/it]"
     ]
    },
    {
     "name": "stdout",
     "output_type": "stream",
     "text": [
      "*************************************************************************\n",
      "For k =  29\n",
      "Accuracy =  88.41\n",
      "f1_score =  52.0\n",
      "precision_score =  90.0\n",
      "recall_score =  53.0\n"
     ]
    },
    {
     "name": "stderr",
     "output_type": "stream",
     "text": [
      "100%|██████████████████████████████████████████████████████████████████████████████████| 15/15 [05:41<00:00, 24.03s/it]\n"
     ]
    }
   ],
   "source": [
    "for i in tqdm(range(1,30,2)):\n",
    "    # instantiate learning model (k = 30)\n",
    "    knn = KNeighborsClassifier(n_neighbors=i,algorithm='brute')\n",
    "\n",
    "    # fitting the model on train Data\n",
    "    knn.fit(X_train, y_train)\n",
    "\n",
    "    # predict the response on the crossvalidation data\n",
    "    pred = knn.predict(X_cv)\n",
    "\n",
    "    print(\"*************************************************************************\")\n",
    "    print(\"For k = \",i)\n",
    "    print('Accuracy = ', accuracy_score(y_cv, pred)*100)\n",
    "    print(\"f1_score = \",np.round(f1_score(y_cv, pred, average='macro')*100))\n",
    "    print(\"precision_score = \",np.round(precision_score(y_cv, pred, average='macro')*100))\n",
    "    print(\"recall_score = \",np.round(recall_score(y_cv, pred, average='macro')*100))"
   ]
  },
  {
   "cell_type": "code",
   "execution_count": 11,
   "metadata": {},
   "outputs": [
    {
     "name": "stdout",
     "output_type": "stream",
     "text": [
      "***Test Data Report***\n",
      "Best k = 7 \n",
      "Accuracy =  88.13\n",
      "f1_score =  54.0\n",
      "precision_score =  76.0\n",
      "recall_score =  54.0\n"
     ]
    },
    {
     "data": {
      "image/png": "[encoded data removed]",
      "text/plain": [
       "<Figure size 432x288 with 2 Axes>"
      ]
     },
     "metadata": {
      "needs_background": "light"
     },
     "output_type": "display_data"
    }
   ],
   "source": [
    "knn = KNeighborsClassifier(n_neighbors=7,algorithm='brute')\n",
    "knn.fit(X_train,y_train)\n",
    "pred = knn.predict(X_test)\n",
    "\n",
    "print(\"***Test Data Report***\")\n",
    "print(\"Best k = 7 \")\n",
    "print('Accuracy = ', accuracy_score(y_test, pred)*100)\n",
    "print(\"f1_score = \",np.round(f1_score(y_test, pred, average='macro')*100))\n",
    "print(\"precision_score = \",np.round(precision_score(y_test, pred, average='macro')*100))\n",
    "print(\"recall_score = \",np.round(recall_score(y_test, pred, average='macro')*100))\n",
    "skplt.metrics.plot_confusion_matrix(y_test, pred)\n",
    "plt.show()"
   ]
  },
  {
   "cell_type": "markdown",
   "metadata": {},
   "source": [
    "# TF - IDF | KD_TREE |"
   ]
  },
  {
   "cell_type": "code",
   "execution_count": 12,
   "metadata": {},
   "outputs": [
    {
     "name": "stdout",
     "output_type": "stream",
     "text": [
      "(40000, 2000)\n",
      "(10000, 2000)\n",
      "(10000, 2000)\n"
     ]
    }
   ],
   "source": [
    "train = tf_idf_vect.fit_transform(X_train_data['CleanedText'])\n",
    "cv = tf_idf_vect.transform(X_cv_data['CleanedText'])\n",
    "test = tf_idf_vect.transform(X_test_data['CleanedText'])\n",
    "print(train.shape)\n",
    "print(cv.shape)\n",
    "print(test.shape)"
   ]
  },
  {
   "cell_type": "code",
   "execution_count": 13,
   "metadata": {},
   "outputs": [
    {
     "data": {
      "text/plain": [
       "40000"
      ]
     },
     "execution_count": 13,
     "metadata": {},
     "output_type": "execute_result"
    }
   ],
   "source": [
    "from sklearn.decomposition import TruncatedSVD\n",
    "svd1 = TruncatedSVD(n_components=1999)\n",
    "X_train = svd1.fit_transform(train)\n",
    "len(X_train)"
   ]
  },
  {
   "cell_type": "code",
   "execution_count": 14,
   "metadata": {},
   "outputs": [
    {
     "data": {
      "image/png": "[encoded data removed]",
      "text/plain": [
       "<Figure size 432x288 with 1 Axes>"
      ]
     },
     "metadata": {
      "needs_background": "light"
     },
     "output_type": "display_data"
    }
   ],
   "source": [
    "# initializing the pca\n",
    "from sklearn import decomposition\n",
    "pca = decomposition.PCA()\n",
    "# PCA for dimensionality redcution (non-visualization)\n",
    "\n",
    "pca.n_components = 1999\n",
    "pca_data = pca.fit_transform(X_train)\n",
    "\n",
    "percentage_var_explained = pca.explained_variance_ / np.sum(pca.explained_variance_);\n",
    "\n",
    "cum_var_explained = np.cumsum(percentage_var_explained)\n",
    "\n",
    "# Plot the PCA spectrum\n",
    "plt.figure(1, figsize=(6, 4))\n",
    "\n",
    "plt.clf()\n",
    "plt.plot(cum_var_explained, linewidth=2)\n",
    "plt.axis('tight')\n",
    "plt.grid()\n",
    "plt.xlabel('n_components')\n",
    "plt.ylabel('Cumulative_explained_variance')\n",
    "plt.show()\n",
    "\n",
    "\n",
    "# If we take 1250-dimensions, approx. 90% of variance is expalined."
   ]
  },
  {
   "cell_type": "code",
   "execution_count": 15,
   "metadata": {},
   "outputs": [
    {
     "name": "stdout",
     "output_type": "stream",
     "text": [
      "(40000, 1250)\n",
      "(10000, 1250)\n",
      "(10000, 1250)\n"
     ]
    }
   ],
   "source": [
    "svd = TruncatedSVD(n_components=1250)\n",
    "X_train = svd.fit_transform(train)\n",
    "X_cv = svd.transform(cv)\n",
    "X_test = svd.transform(test)\n",
    "print(X_train.shape)\n",
    "print(X_cv.shape)\n",
    "print(X_test.shape)"
   ]
  },
  {
   "cell_type": "code",
   "execution_count": 16,
   "metadata": {},
   "outputs": [
    {
     "name": "stderr",
     "output_type": "stream",
     "text": [
      "\r",
      "  0%|                                                                                           | 0/15 [00:00<?, ?it/s]"
     ]
    },
    {
     "name": "stdout",
     "output_type": "stream",
     "text": [
      "*************************************************************************\n",
      "For k =  1\n",
      "Accuracy =  85.92\n",
      "f1_score =  53.0\n",
      "precision_score =  58.0\n",
      "recall_score =  53.0\n"
     ]
    },
    {
     "name": "stderr",
     "output_type": "stream",
     "text": [
      "\r",
      "  7%|█████▎                                                                         | 1/15 [17:26<4:04:04, 1046.00s/it]"
     ]
    },
    {
     "name": "stdout",
     "output_type": "stream",
     "text": [
      "*************************************************************************\n",
      "For k =  3\n",
      "Accuracy =  87.29\n",
      "f1_score =  53.0\n",
      "precision_score =  64.0\n",
      "recall_score =  53.0\n"
     ]
    },
    {
     "name": "stderr",
     "output_type": "stream",
     "text": [
      "\r",
      " 13%|██████████▌                                                                    | 2/15 [34:58<3:47:02, 1047.92s/it]"
     ]
    },
    {
     "name": "stdout",
     "output_type": "stream",
     "text": [
      "*************************************************************************\n",
      "For k =  5\n",
      "Accuracy =  87.87\n",
      "f1_score =  53.0\n",
      "precision_score =  70.0\n",
      "recall_score =  53.0\n"
     ]
    },
    {
     "name": "stderr",
     "output_type": "stream",
     "text": [
      "\r",
      " 20%|███████████████▊                                                               | 3/15 [52:16<3:28:58, 1044.88s/it]"
     ]
    },
    {
     "name": "stdout",
     "output_type": "stream",
     "text": [
      "*************************************************************************\n",
      "For k =  7\n",
      "Accuracy =  87.44\n",
      "f1_score =  56.0\n",
      "precision_score =  67.0\n",
      "recall_score =  55.0\n"
     ]
    },
    {
     "name": "stderr",
     "output_type": "stream",
     "text": [
      "\r",
      " 27%|████████████████████▌                                                        | 4/15 [1:10:51<3:15:25, 1065.98s/it]"
     ]
    },
    {
     "name": "stdout",
     "output_type": "stream",
     "text": [
      "*************************************************************************\n",
      "For k =  9\n",
      "Accuracy =  87.96000000000001\n",
      "f1_score =  57.0\n",
      "precision_score =  71.0\n",
      "recall_score =  56.0\n"
     ]
    },
    {
     "name": "stderr",
     "output_type": "stream",
     "text": [
      "\r",
      " 33%|█████████████████████████▋                                                   | 5/15 [1:29:45<3:01:05, 1086.55s/it]"
     ]
    },
    {
     "name": "stdout",
     "output_type": "stream",
     "text": [
      "*************************************************************************\n",
      "For k =  11\n",
      "Accuracy =  88.31\n",
      "f1_score =  57.0\n",
      "precision_score =  75.0\n",
      "recall_score =  55.0\n"
     ]
    },
    {
     "name": "stderr",
     "output_type": "stream",
     "text": [
      "\r",
      " 40%|██████████████████████████████▊                                              | 6/15 [1:47:43<2:42:34, 1083.81s/it]"
     ]
    },
    {
     "name": "stdout",
     "output_type": "stream",
     "text": [
      "*************************************************************************\n",
      "For k =  13\n",
      "Accuracy =  88.41\n",
      "f1_score =  56.0\n",
      "precision_score =  77.0\n",
      "recall_score =  55.0\n"
     ]
    },
    {
     "name": "stderr",
     "output_type": "stream",
     "text": [
      "\r",
      " 47%|███████████████████████████████████▉                                         | 7/15 [2:05:06<2:22:52, 1071.57s/it]"
     ]
    },
    {
     "name": "stdout",
     "output_type": "stream",
     "text": [
      "*************************************************************************\n",
      "For k =  15\n",
      "Accuracy =  88.39\n",
      "f1_score =  55.0\n",
      "precision_score =  79.0\n",
      "recall_score =  54.0\n"
     ]
    },
    {
     "name": "stderr",
     "output_type": "stream",
     "text": [
      "\r",
      " 53%|█████████████████████████████████████████                                    | 8/15 [2:22:39<2:04:22, 1066.12s/it]"
     ]
    },
    {
     "name": "stdout",
     "output_type": "stream",
     "text": [
      "*************************************************************************\n",
      "For k =  17\n",
      "Accuracy =  88.41\n",
      "f1_score =  53.0\n",
      "precision_score =  82.0\n",
      "recall_score =  53.0\n"
     ]
    },
    {
     "name": "stderr",
     "output_type": "stream",
     "text": [
      "\r",
      " 60%|██████████████████████████████████████████████▏                              | 9/15 [2:40:04<1:45:58, 1059.77s/it]"
     ]
    },
    {
     "name": "stdout",
     "output_type": "stream",
     "text": [
      "*************************************************************************\n",
      "For k =  19\n",
      "Accuracy =  88.35\n",
      "f1_score =  53.0\n",
      "precision_score =  81.0\n",
      "recall_score =  53.0\n"
     ]
    },
    {
     "name": "stderr",
     "output_type": "stream",
     "text": [
      "\r",
      " 67%|██████████████████████████████████████████████████▋                         | 10/15 [2:57:26<1:27:52, 1054.45s/it]"
     ]
    },
    {
     "name": "stdout",
     "output_type": "stream",
     "text": [
      "*************************************************************************\n",
      "For k =  21\n",
      "Accuracy =  88.49000000000001\n",
      "f1_score =  53.0\n",
      "precision_score =  87.0\n",
      "recall_score =  53.0\n"
     ]
    },
    {
     "name": "stderr",
     "output_type": "stream",
     "text": [
      "\r",
      " 73%|███████████████████████████████████████████████████████▋                    | 11/15 [3:15:32<1:10:55, 1063.93s/it]"
     ]
    },
    {
     "name": "stdout",
     "output_type": "stream",
     "text": [
      "*************************************************************************\n",
      "For k =  23\n",
      "Accuracy =  88.46000000000001\n",
      "f1_score =  53.0\n",
      "precision_score =  88.0\n",
      "recall_score =  53.0\n"
     ]
    },
    {
     "name": "stderr",
     "output_type": "stream",
     "text": [
      "\r",
      " 80%|██████████████████████████████████████████████████████████████▍               | 12/15 [3:33:44<53:37, 1072.36s/it]"
     ]
    },
    {
     "name": "stdout",
     "output_type": "stream",
     "text": [
      "*************************************************************************\n",
      "For k =  25\n",
      "Accuracy =  88.34\n",
      "f1_score =  52.0\n",
      "precision_score =  87.0\n",
      "recall_score =  53.0\n"
     ]
    },
    {
     "name": "stderr",
     "output_type": "stream",
     "text": [
      "\r",
      " 87%|███████████████████████████████████████████████████████████████████▌          | 13/15 [3:51:51<35:53, 1076.73s/it]"
     ]
    },
    {
     "name": "stdout",
     "output_type": "stream",
     "text": [
      "*************************************************************************\n",
      "For k =  27\n",
      "Accuracy =  88.31\n",
      "f1_score =  51.0\n",
      "precision_score =  88.0\n",
      "recall_score =  52.0\n"
     ]
    },
    {
     "name": "stderr",
     "output_type": "stream",
     "text": [
      "\r",
      " 93%|████████████████████████████████████████████████████████████████████████▊     | 14/15 [4:10:04<18:01, 1081.47s/it]"
     ]
    },
    {
     "name": "stdout",
     "output_type": "stream",
     "text": [
      "*************************************************************************\n",
      "For k =  29\n",
      "Accuracy =  88.31\n",
      "f1_score =  51.0\n",
      "precision_score =  92.0\n",
      "recall_score =  52.0\n"
     ]
    },
    {
     "name": "stderr",
     "output_type": "stream",
     "text": [
      "100%|██████████████████████████████████████████████████████████████████████████████| 15/15 [4:27:48<00:00, 1076.17s/it]\n"
     ]
    }
   ],
   "source": [
    "for i in tqdm(range(1,30,2)):\n",
    "    # instantiate learning model (k = 30)\n",
    "    knn = KNeighborsClassifier(n_neighbors=i,algorithm='kd_tree')\n",
    "\n",
    "    # fitting the model on train Data\n",
    "    knn.fit(X_train, y_train)\n",
    "\n",
    "    # predict the response on the crossvalidation data\n",
    "    pred = knn.predict(X_cv)\n",
    "\n",
    "    print(\"*************************************************************************\")\n",
    "    print(\"For k = \",i)\n",
    "    print('Accuracy = ', accuracy_score(y_cv, pred)*100)\n",
    "    print(\"f1_score = \",np.round(f1_score(y_cv, pred, average='macro')*100))\n",
    "    print(\"precision_score = \",np.round(precision_score(y_cv, pred, average='macro')*100))\n",
    "    print(\"recall_score = \",np.round(recall_score(y_cv, pred, average='macro')*100))"
   ]
  },
  {
   "cell_type": "code",
   "execution_count": 17,
   "metadata": {},
   "outputs": [
    {
     "name": "stdout",
     "output_type": "stream",
     "text": [
      "***Test Data Report***\n",
      "Best k = 13 \n",
      "Accuracy =  88.07000000000001\n",
      "f1_score =  55.0\n",
      "precision_score =  74.0\n",
      "recall_score =  54.0\n"
     ]
    },
    {
     "data": {
      "image/png": "[encoded data removed]",
      "text/plain": [
       "<Figure size 432x288 with 2 Axes>"
      ]
     },
     "metadata": {
      "needs_background": "light"
     },
     "output_type": "display_data"
    }
   ],
   "source": [
    "knn = KNeighborsClassifier(n_neighbors=13,algorithm='kd_tree')\n",
    "knn.fit(X_train,y_train)\n",
    "pred = knn.predict(X_test)\n",
    "\n",
    "print(\"***Test Data Report***\")\n",
    "print(\"Best k = 13 \")\n",
    "print('Accuracy = ', accuracy_score(y_test, pred)*100)\n",
    "print(\"f1_score = \",np.round(f1_score(y_test, pred, average='macro')*100))\n",
    "print(\"precision_score = \",np.round(precision_score(y_test, pred, average='macro')*100))\n",
    "print(\"recall_score = \",np.round(recall_score(y_test, pred, average='macro')*100))\n",
    "skplt.metrics.plot_confusion_matrix(y_test, pred)\n",
    "plt.show()"
   ]
  },
  {
   "cell_type": "markdown",
   "metadata": {},
   "source": [
    "## OBSERVATION :-\n",
    "- > TF-IDF | BRUTE |\n",
    "    1. K = 7\n",
    "    2. f1_score =  54.0\n",
    "    3. Accuracy =  88.13\n",
    "- > TF-IDF | KD_TREE |\n",
    "    1. k = 13\n",
    "    2. f1_score =  55.0\n",
    "    3. Accuracy =  88.07000000000001\n",
    "    \n",
    "- F1 score is better in kd-tree as comapared to brute force algorithm in TF-IDF"
   ]
  },
  {
   "cell_type": "markdown",
   "metadata": {},
   "source": [
    "# W2VEC"
   ]
  },
  {
   "cell_type": "code",
   "execution_count": 19,
   "metadata": {},
   "outputs": [
    {
     "name": "stderr",
     "output_type": "stream",
     "text": [
      "100%|██████████████████████████████████████████████████████████████████████████| 40000/40000 [00:11<00:00, 3599.09it/s]\n"
     ]
    }
   ],
   "source": [
    "import gensim\n",
    "i=0\n",
    "list_of_sent_train=[]\n",
    "for sent in tqdm(X_train_data['Text'].values):\n",
    "    filtered_sentence=[]\n",
    "    sent=cleanhtml(sent)\n",
    "    for w in sent.split():\n",
    "        for cleaned_words in cleanpunc(w).split():\n",
    "            if(cleaned_words.isalpha()):    # checking is the word is alphabet\n",
    "                filtered_sentence.append(cleaned_words.lower()) # appending to the list\n",
    "            else:\n",
    "                continue \n",
    "    list_of_sent_train.append(filtered_sentence)"
   ]
  },
  {
   "cell_type": "code",
   "execution_count": 20,
   "metadata": {},
   "outputs": [
    {
     "name": "stdout",
     "output_type": "stream",
     "text": [
      "this witty little book makes my son laugh at loud. i recite it in the car as we're driving along and he always can sing the refrain. he's learned about whales, India, drooping roses:  i love all the new words this book  introduces and the silliness of it all.  this is a classic book i am  willing to bet my son will STILL be able to recite from memory when he is  in college\n",
      "*****************************************************************\n",
      "['this', 'witty', 'little', 'book', 'makes', 'my', 'son', 'laugh', 'at', 'loud', 'i', 'recite', 'it', 'in', 'the', 'car', 'as', 'were', 'driving', 'along', 'and', 'he', 'always', 'can', 'sing', 'the', 'refrain', 'hes', 'learned', 'about', 'whales', 'india', 'drooping', 'i', 'love', 'all', 'the', 'new', 'words', 'this', 'book', 'introduces', 'and', 'the', 'silliness', 'of', 'it', 'all', 'this', 'is', 'a', 'classic', 'book', 'i', 'am', 'willing', 'to', 'bet', 'my', 'son', 'will', 'still', 'be', 'able', 'to', 'recite', 'from', 'memory', 'when', 'he', 'is', 'in', 'college']\n"
     ]
    }
   ],
   "source": [
    "print(X_train_data['Text'].values[0])\n",
    "print(\"*****************************************************************\")\n",
    "print(list_of_sent_train[0])"
   ]
  },
  {
   "cell_type": "code",
   "execution_count": 21,
   "metadata": {},
   "outputs": [],
   "source": [
    "w2v_model=gensim.models.Word2Vec(list_of_sent_train,min_count=5,size=50, workers=6)"
   ]
  },
  {
   "cell_type": "code",
   "execution_count": 22,
   "metadata": {},
   "outputs": [
    {
     "name": "stdout",
     "output_type": "stream",
     "text": [
      "12405\n"
     ]
    }
   ],
   "source": [
    "words = list(w2v_model.wv.vocab)\n",
    "print(len(words))"
   ]
  },
  {
   "cell_type": "code",
   "execution_count": 23,
   "metadata": {},
   "outputs": [
    {
     "data": {
      "text/plain": [
       "[('great', 0.8216289281845093),\n",
       " ('decent', 0.7488343715667725),\n",
       " ('fine', 0.7407888174057007),\n",
       " ('fantastic', 0.7270007133483887),\n",
       " ('amazing', 0.7051384449005127),\n",
       " ('bad', 0.6884120106697083),\n",
       " ('yummy', 0.6597673892974854),\n",
       " ('awesome', 0.6592874526977539),\n",
       " ('fabulous', 0.6558119058609009),\n",
       " ('ok', 0.6535512208938599)]"
      ]
     },
     "execution_count": 23,
     "metadata": {},
     "output_type": "execute_result"
    }
   ],
   "source": [
    "w2v_model.wv.most_similar('good')"
   ]
  },
  {
   "cell_type": "code",
   "execution_count": 24,
   "metadata": {},
   "outputs": [
    {
     "data": {
      "text/plain": [
       "[('satisfying', 0.8282861709594727),\n",
       " ('filling', 0.8066790103912354),\n",
       " ('yummy', 0.7988016605377197),\n",
       " ('delicious', 0.7879558801651001),\n",
       " ('light', 0.7516793608665466),\n",
       " ('flavorful', 0.7407199144363403),\n",
       " ('crunchy', 0.7264057993888855),\n",
       " ('moist', 0.7226179242134094),\n",
       " ('nutritious', 0.7146416902542114),\n",
       " ('addicting', 0.6973412036895752)]"
      ]
     },
     "execution_count": 24,
     "metadata": {},
     "output_type": "execute_result"
    }
   ],
   "source": [
    "w2v_model.wv.most_similar('tasty')"
   ]
  },
  {
   "cell_type": "code",
   "execution_count": 25,
   "metadata": {},
   "outputs": [
    {
     "name": "stderr",
     "output_type": "stream",
     "text": [
      "100%|██████████████████████████████████████████████████████████████████████████| 10000/10000 [00:03<00:00, 3187.41it/s]\n"
     ]
    }
   ],
   "source": [
    "import gensim\n",
    "i=0\n",
    "list_of_sent_cv=[]\n",
    "for sent in tqdm(X_cv_data['Text'].values):\n",
    "    filtered_sentence=[]\n",
    "    sent=cleanhtml(sent)\n",
    "    for w in sent.split():\n",
    "        for cleaned_words in cleanpunc(w).split():\n",
    "            if(cleaned_words.isalpha()):    # checking is the word is alphabet\n",
    "                filtered_sentence.append(cleaned_words.lower()) # appending to the list\n",
    "            else:\n",
    "                continue \n",
    "    list_of_sent_cv.append(filtered_sentence)"
   ]
  },
  {
   "cell_type": "code",
   "execution_count": 26,
   "metadata": {},
   "outputs": [
    {
     "name": "stderr",
     "output_type": "stream",
     "text": [
      "100%|██████████████████████████████████████████████████████████████████████████| 10000/10000 [00:02<00:00, 3620.47it/s]\n"
     ]
    }
   ],
   "source": [
    "import gensim\n",
    "i=0\n",
    "list_of_sent_test=[]\n",
    "for sent in tqdm(X_test_data['Text'].values):\n",
    "    filtered_sentence=[]\n",
    "    sent=cleanhtml(sent)\n",
    "    for w in sent.split():\n",
    "        for cleaned_words in cleanpunc(w).split():\n",
    "            if(cleaned_words.isalpha()):    # checking is the word is alphabet\n",
    "                filtered_sentence.append(cleaned_words.lower()) # appending to the list\n",
    "            else:\n",
    "                continue \n",
    "    list_of_sent_test.append(filtered_sentence)"
   ]
  },
  {
   "cell_type": "markdown",
   "metadata": {},
   "source": [
    "# AVG - W2VEC"
   ]
  },
  {
   "cell_type": "code",
   "execution_count": 27,
   "metadata": {},
   "outputs": [
    {
     "name": "stderr",
     "output_type": "stream",
     "text": [
      "100%|██████████████████████████████████████████████████████████████████████████| 40000/40000 [00:14<00:00, 2720.57it/s]\n"
     ]
    },
    {
     "name": "stdout",
     "output_type": "stream",
     "text": [
      "40000\n",
      "50\n"
     ]
    }
   ],
   "source": [
    "#TRAIN Data\n",
    "# average Word2Vec\n",
    "# compute average word2vec for each review.\n",
    "sent_vectors_train = []; # the avg-w2v for each sentence/review is stored in this list\n",
    "for sent in tqdm(list_of_sent_train): # for each review/sentence\n",
    "    sent_vec = np.zeros(50) # as word vectors are of zero length\n",
    "    cnt_words =0; # num of words with a valid vector in the sentence/review\n",
    "    for word in sent: # for each word in a review/sentence\n",
    "        try:\n",
    "            vec = w2v_model.wv[word]\n",
    "            sent_vec += vec\n",
    "            cnt_words += 1\n",
    "        except:\n",
    "            pass\n",
    "    sent_vec /= cnt_words\n",
    "    sent_vectors_train.append(sent_vec)\n",
    "print(len(sent_vectors_train))\n",
    "print(len(sent_vectors_train[0]))"
   ]
  },
  {
   "cell_type": "code",
   "execution_count": 28,
   "metadata": {},
   "outputs": [
    {
     "name": "stderr",
     "output_type": "stream",
     "text": [
      "100%|██████████████████████████████████████████████████████████████████████████| 10000/10000 [00:03<00:00, 2840.01it/s]\n"
     ]
    },
    {
     "name": "stdout",
     "output_type": "stream",
     "text": [
      "10000\n",
      "50\n"
     ]
    }
   ],
   "source": [
    "#CV Data\n",
    "# average Word2Vec\n",
    "# compute average word2vec for each review.\n",
    "sent_vectors_cv = []; # the avg-w2v for each sentence/review is stored in this list\n",
    "for sent in tqdm(list_of_sent_cv): # for each review/sentence\n",
    "    sent_vec = np.zeros(50) # as word vectors are of zero length\n",
    "    cnt_words =0; # num of words with a valid vector in the sentence/review\n",
    "    for word in sent: # for each word in a review/sentence\n",
    "        try:\n",
    "            vec = w2v_model.wv[word]\n",
    "            sent_vec += vec\n",
    "            cnt_words += 1\n",
    "        except:\n",
    "            pass\n",
    "    sent_vec /= cnt_words\n",
    "    sent_vectors_cv.append(sent_vec)\n",
    "print(len(sent_vectors_cv))\n",
    "print(len(sent_vectors_cv[0]))"
   ]
  },
  {
   "cell_type": "code",
   "execution_count": 29,
   "metadata": {},
   "outputs": [
    {
     "name": "stderr",
     "output_type": "stream",
     "text": [
      "100%|██████████████████████████████████████████████████████████████████████████| 10000/10000 [00:03<00:00, 2801.53it/s]\n"
     ]
    },
    {
     "name": "stdout",
     "output_type": "stream",
     "text": [
      "10000\n",
      "50\n"
     ]
    }
   ],
   "source": [
    "#TEST Data\n",
    "# average Word2Vec\n",
    "# compute average word2vec for each review.\n",
    "sent_vectors_test = []; # the avg-w2v for each sentence/review is stored in this list\n",
    "for sent in tqdm(list_of_sent_test): # for each review/sentence\n",
    "    sent_vec = np.zeros(50) # as word vectors are of zero length\n",
    "    cnt_words =0; # num of words with a valid vector in the sentence/review\n",
    "    for word in sent: # for each word in a review/sentence\n",
    "        try:\n",
    "            vec = w2v_model.wv[word]\n",
    "            sent_vec += vec\n",
    "            cnt_words += 1\n",
    "        except:\n",
    "            pass\n",
    "    sent_vec /= cnt_words\n",
    "    sent_vectors_test.append(sent_vec)\n",
    "print(len(sent_vectors_test))\n",
    "print(len(sent_vectors_test[0]))"
   ]
  },
  {
   "cell_type": "code",
   "execution_count": 30,
   "metadata": {},
   "outputs": [],
   "source": [
    "X_train = sent_vectors_train\n",
    "X_cv = sent_vectors_cv\n",
    "X_test = sent_vectors_test"
   ]
  },
  {
   "cell_type": "markdown",
   "metadata": {},
   "source": [
    "# AVG - W2VEC | BRUTE |"
   ]
  },
  {
   "cell_type": "code",
   "execution_count": 31,
   "metadata": {},
   "outputs": [
    {
     "name": "stderr",
     "output_type": "stream",
     "text": [
      "\r",
      "  0%|                                                                                           | 0/15 [00:00<?, ?it/s]"
     ]
    },
    {
     "name": "stdout",
     "output_type": "stream",
     "text": [
      "*************************************************************************\n",
      "For k =  1\n",
      "Accuracy =  85.17\n",
      "f1_score =  61.0\n",
      "precision_score =  63.0\n",
      "recall_score =  60.0\n"
     ]
    },
    {
     "name": "stderr",
     "output_type": "stream",
     "text": [
      "\r",
      "  7%|█████▌                                                                             | 1/15 [00:10<02:25, 10.40s/it]"
     ]
    },
    {
     "name": "stdout",
     "output_type": "stream",
     "text": [
      "*************************************************************************\n",
      "For k =  3\n",
      "Accuracy =  87.64\n",
      "f1_score =  61.0\n",
      "precision_score =  69.0\n",
      "recall_score =  59.0\n"
     ]
    },
    {
     "name": "stderr",
     "output_type": "stream",
     "text": [
      "\r",
      " 13%|███████████                                                                        | 2/15 [00:20<02:13, 10.29s/it]"
     ]
    },
    {
     "name": "stdout",
     "output_type": "stream",
     "text": [
      "*************************************************************************\n",
      "For k =  5\n",
      "Accuracy =  88.12\n",
      "f1_score =  60.0\n",
      "precision_score =  72.0\n",
      "recall_score =  58.0\n"
     ]
    },
    {
     "name": "stderr",
     "output_type": "stream",
     "text": [
      "\r",
      " 20%|████████████████▌                                                                  | 3/15 [00:35<02:21, 11.82s/it]"
     ]
    },
    {
     "name": "stdout",
     "output_type": "stream",
     "text": [
      "*************************************************************************\n",
      "For k =  7\n",
      "Accuracy =  88.5\n",
      "f1_score =  60.0\n",
      "precision_score =  75.0\n",
      "recall_score =  57.0\n"
     ]
    },
    {
     "name": "stderr",
     "output_type": "stream",
     "text": [
      "\r",
      " 27%|██████████████████████▏                                                            | 4/15 [00:49<02:14, 12.26s/it]"
     ]
    },
    {
     "name": "stdout",
     "output_type": "stream",
     "text": [
      "*************************************************************************\n",
      "For k =  9\n",
      "Accuracy =  88.56\n",
      "f1_score =  59.0\n",
      "precision_score =  76.0\n",
      "recall_score =  57.0\n"
     ]
    },
    {
     "name": "stderr",
     "output_type": "stream",
     "text": [
      "\r",
      " 33%|███████████████████████████▋                                                       | 5/15 [01:02<02:05, 12.59s/it]"
     ]
    },
    {
     "name": "stdout",
     "output_type": "stream",
     "text": [
      "*************************************************************************\n",
      "For k =  11\n",
      "Accuracy =  88.58\n",
      "f1_score =  58.0\n",
      "precision_score =  77.0\n",
      "recall_score =  56.0\n"
     ]
    },
    {
     "name": "stderr",
     "output_type": "stream",
     "text": [
      "\r",
      " 40%|█████████████████████████████████▏                                                 | 6/15 [01:16<01:56, 12.97s/it]"
     ]
    },
    {
     "name": "stdout",
     "output_type": "stream",
     "text": [
      "*************************************************************************\n",
      "For k =  13\n",
      "Accuracy =  88.59\n",
      "f1_score =  58.0\n",
      "precision_score =  77.0\n",
      "recall_score =  56.0\n"
     ]
    },
    {
     "name": "stderr",
     "output_type": "stream",
     "text": [
      "\r",
      " 47%|██████████████████████████████████████▋                                            | 7/15 [01:30<01:46, 13.32s/it]"
     ]
    },
    {
     "name": "stdout",
     "output_type": "stream",
     "text": [
      "*************************************************************************\n",
      "For k =  15\n",
      "Accuracy =  88.55\n",
      "f1_score =  57.0\n",
      "precision_score =  78.0\n",
      "recall_score =  56.0\n"
     ]
    },
    {
     "name": "stderr",
     "output_type": "stream",
     "text": [
      "\r",
      " 53%|████████████████████████████████████████████▎                                      | 8/15 [01:44<01:35, 13.62s/it]"
     ]
    },
    {
     "name": "stdout",
     "output_type": "stream",
     "text": [
      "*************************************************************************\n",
      "For k =  17\n",
      "Accuracy =  88.53999999999999\n",
      "f1_score =  57.0\n",
      "precision_score =  78.0\n",
      "recall_score =  55.0\n"
     ]
    },
    {
     "name": "stderr",
     "output_type": "stream",
     "text": [
      "\r",
      " 60%|█████████████████████████████████████████████████▊                                 | 9/15 [01:58<01:22, 13.68s/it]"
     ]
    },
    {
     "name": "stdout",
     "output_type": "stream",
     "text": [
      "*************************************************************************\n",
      "For k =  19\n",
      "Accuracy =  88.53999999999999\n",
      "f1_score =  56.0\n",
      "precision_score =  79.0\n",
      "recall_score =  55.0\n"
     ]
    },
    {
     "name": "stderr",
     "output_type": "stream",
     "text": [
      "\r",
      " 67%|██████████████████████████████████████████████████████▋                           | 10/15 [02:12<01:08, 13.77s/it]"
     ]
    },
    {
     "name": "stdout",
     "output_type": "stream",
     "text": [
      "*************************************************************************\n",
      "For k =  21\n",
      "Accuracy =  88.49000000000001\n",
      "f1_score =  56.0\n",
      "precision_score =  78.0\n",
      "recall_score =  55.0\n"
     ]
    },
    {
     "name": "stderr",
     "output_type": "stream",
     "text": [
      "\r",
      " 73%|████████████████████████████████████████████████████████████▏                     | 11/15 [02:26<00:54, 13.70s/it]"
     ]
    },
    {
     "name": "stdout",
     "output_type": "stream",
     "text": [
      "*************************************************************************\n",
      "For k =  23\n",
      "Accuracy =  88.5\n",
      "f1_score =  56.0\n",
      "precision_score =  79.0\n",
      "recall_score =  55.0\n"
     ]
    },
    {
     "name": "stderr",
     "output_type": "stream",
     "text": [
      "\r",
      " 80%|█████████████████████████████████████████████████████████████████▌                | 12/15 [02:39<00:40, 13.62s/it]"
     ]
    },
    {
     "name": "stdout",
     "output_type": "stream",
     "text": [
      "*************************************************************************\n",
      "For k =  25\n",
      "Accuracy =  88.55\n",
      "f1_score =  56.0\n",
      "precision_score =  80.0\n",
      "recall_score =  55.0\n"
     ]
    },
    {
     "name": "stderr",
     "output_type": "stream",
     "text": [
      "\r",
      " 87%|███████████████████████████████████████████████████████████████████████           | 13/15 [02:53<00:27, 13.64s/it]"
     ]
    },
    {
     "name": "stdout",
     "output_type": "stream",
     "text": [
      "*************************************************************************\n",
      "For k =  27\n",
      "Accuracy =  88.5\n",
      "f1_score =  55.0\n",
      "precision_score =  80.0\n",
      "recall_score =  55.0\n"
     ]
    },
    {
     "name": "stderr",
     "output_type": "stream",
     "text": [
      "\r",
      " 93%|████████████████████████████████████████████████████████████████████████████▌     | 14/15 [03:07<00:13, 13.86s/it]"
     ]
    },
    {
     "name": "stdout",
     "output_type": "stream",
     "text": [
      "*************************************************************************\n",
      "For k =  29\n",
      "Accuracy =  88.46000000000001\n",
      "f1_score =  55.0\n",
      "precision_score =  80.0\n",
      "recall_score =  54.0\n"
     ]
    },
    {
     "name": "stderr",
     "output_type": "stream",
     "text": [
      "100%|██████████████████████████████████████████████████████████████████████████████████| 15/15 [03:22<00:00, 14.02s/it]\n"
     ]
    }
   ],
   "source": [
    "for i in tqdm(range(1,30,2)):\n",
    "    # instantiate learning model (k = 30)\n",
    "    knn = KNeighborsClassifier(n_neighbors=i,algorithm='brute')\n",
    "\n",
    "    # fitting the model on train Data\n",
    "    knn.fit(X_train, y_train)\n",
    "\n",
    "    # predict the response on the crossvalidation data\n",
    "    pred = knn.predict(X_cv)\n",
    "\n",
    "    print(\"*************************************************************************\")\n",
    "    print(\"For k = \",i)\n",
    "    print('Accuracy = ', accuracy_score(y_cv, pred)*100)\n",
    "    print(\"f1_score = \",np.round(f1_score(y_cv, pred, average='macro')*100))\n",
    "    print(\"precision_score = \",np.round(precision_score(y_cv, pred, average='macro')*100))\n",
    "    print(\"recall_score = \",np.round(recall_score(y_cv, pred, average='macro')*100))"
   ]
  },
  {
   "cell_type": "code",
   "execution_count": 32,
   "metadata": {},
   "outputs": [
    {
     "name": "stdout",
     "output_type": "stream",
     "text": [
      "***Test Data Report***\n",
      "Best k = 17 \n",
      "Accuracy =  88.39\n",
      "f1_score =  56.0\n",
      "precision_score =  78.0\n",
      "recall_score =  55.0\n"
     ]
    },
    {
     "data": {
      "image/png": "[encoded data removed]",
      "text/plain": [
       "<Figure size 432x288 with 2 Axes>"
      ]
     },
     "metadata": {
      "needs_background": "light"
     },
     "output_type": "display_data"
    }
   ],
   "source": [
    "knn = KNeighborsClassifier(n_neighbors=17,algorithm='brute')\n",
    "knn.fit(X_train,y_train)\n",
    "pred = knn.predict(X_test)\n",
    "\n",
    "print(\"***Test Data Report***\")\n",
    "print(\"Best k = 17 \")\n",
    "print('Accuracy = ', accuracy_score(y_test, pred)*100)\n",
    "print(\"f1_score = \",np.round(f1_score(y_test, pred, average='macro')*100))\n",
    "print(\"precision_score = \",np.round(precision_score(y_test, pred, average='macro')*100))\n",
    "print(\"recall_score = \",np.round(recall_score(y_test, pred, average='macro')*100))\n",
    "skplt.metrics.plot_confusion_matrix(y_test, pred)\n",
    "plt.show()"
   ]
  },
  {
   "cell_type": "markdown",
   "metadata": {},
   "source": [
    "# AVG - W2VEC | KD_TREE |"
   ]
  },
  {
   "cell_type": "code",
   "execution_count": 33,
   "metadata": {},
   "outputs": [
    {
     "name": "stderr",
     "output_type": "stream",
     "text": [
      "\r",
      "  0%|                                                                                           | 0/15 [00:00<?, ?it/s]"
     ]
    },
    {
     "name": "stdout",
     "output_type": "stream",
     "text": [
      "*************************************************************************\n",
      "For k =  1\n",
      "Accuracy =  85.17\n",
      "f1_score =  61.0\n",
      "precision_score =  63.0\n",
      "recall_score =  60.0\n"
     ]
    },
    {
     "name": "stderr",
     "output_type": "stream",
     "text": [
      "\r",
      "  7%|█████▌                                                                             | 1/15 [01:11<16:38, 71.34s/it]"
     ]
    },
    {
     "name": "stdout",
     "output_type": "stream",
     "text": [
      "*************************************************************************\n",
      "For k =  3\n",
      "Accuracy =  87.64\n",
      "f1_score =  61.0\n",
      "precision_score =  69.0\n",
      "recall_score =  59.0\n"
     ]
    },
    {
     "name": "stderr",
     "output_type": "stream",
     "text": [
      "\r",
      " 13%|███████████                                                                        | 2/15 [02:27<15:47, 72.88s/it]"
     ]
    },
    {
     "name": "stdout",
     "output_type": "stream",
     "text": [
      "*************************************************************************\n",
      "For k =  5\n",
      "Accuracy =  88.12\n",
      "f1_score =  60.0\n",
      "precision_score =  72.0\n",
      "recall_score =  58.0\n"
     ]
    },
    {
     "name": "stderr",
     "output_type": "stream",
     "text": [
      "\r",
      " 20%|████████████████▌                                                                  | 3/15 [03:42<14:42, 73.50s/it]"
     ]
    },
    {
     "name": "stdout",
     "output_type": "stream",
     "text": [
      "*************************************************************************\n",
      "For k =  7\n",
      "Accuracy =  88.5\n",
      "f1_score =  60.0\n",
      "precision_score =  75.0\n",
      "recall_score =  57.0\n"
     ]
    },
    {
     "name": "stderr",
     "output_type": "stream",
     "text": [
      "\r",
      " 27%|██████████████████████▏                                                            | 4/15 [04:58<13:34, 74.05s/it]"
     ]
    },
    {
     "name": "stdout",
     "output_type": "stream",
     "text": [
      "*************************************************************************\n",
      "For k =  9\n",
      "Accuracy =  88.56\n",
      "f1_score =  59.0\n",
      "precision_score =  76.0\n",
      "recall_score =  57.0\n"
     ]
    },
    {
     "name": "stderr",
     "output_type": "stream",
     "text": [
      "\r",
      " 33%|███████████████████████████▋                                                       | 5/15 [06:13<12:24, 74.49s/it]"
     ]
    },
    {
     "name": "stdout",
     "output_type": "stream",
     "text": [
      "*************************************************************************\n",
      "For k =  11\n",
      "Accuracy =  88.58\n",
      "f1_score =  58.0\n",
      "precision_score =  77.0\n",
      "recall_score =  56.0\n"
     ]
    },
    {
     "name": "stderr",
     "output_type": "stream",
     "text": [
      "\r",
      " 40%|█████████████████████████████████▏                                                 | 6/15 [07:30<11:18, 75.34s/it]"
     ]
    },
    {
     "name": "stdout",
     "output_type": "stream",
     "text": [
      "*************************************************************************\n",
      "For k =  13\n",
      "Accuracy =  88.59\n",
      "f1_score =  58.0\n",
      "precision_score =  77.0\n",
      "recall_score =  56.0\n"
     ]
    },
    {
     "name": "stderr",
     "output_type": "stream",
     "text": [
      "\r",
      " 47%|██████████████████████████████████████▋                                            | 7/15 [08:48<10:06, 75.87s/it]"
     ]
    },
    {
     "name": "stdout",
     "output_type": "stream",
     "text": [
      "*************************************************************************\n",
      "For k =  15\n",
      "Accuracy =  88.55\n",
      "f1_score =  57.0\n",
      "precision_score =  78.0\n",
      "recall_score =  56.0\n"
     ]
    },
    {
     "name": "stderr",
     "output_type": "stream",
     "text": [
      "\r",
      " 53%|████████████████████████████████████████████▎                                      | 8/15 [10:04<08:52, 76.09s/it]"
     ]
    },
    {
     "name": "stdout",
     "output_type": "stream",
     "text": [
      "*************************************************************************\n",
      "For k =  17\n",
      "Accuracy =  88.53999999999999\n",
      "f1_score =  57.0\n",
      "precision_score =  78.0\n",
      "recall_score =  55.0\n"
     ]
    },
    {
     "name": "stderr",
     "output_type": "stream",
     "text": [
      "\r",
      " 60%|█████████████████████████████████████████████████▊                                 | 9/15 [11:21<07:37, 76.30s/it]"
     ]
    },
    {
     "name": "stdout",
     "output_type": "stream",
     "text": [
      "*************************************************************************\n",
      "For k =  19\n",
      "Accuracy =  88.53999999999999\n",
      "f1_score =  56.0\n",
      "precision_score =  79.0\n",
      "recall_score =  55.0\n"
     ]
    },
    {
     "name": "stderr",
     "output_type": "stream",
     "text": [
      "\r",
      " 67%|██████████████████████████████████████████████████████▋                           | 10/15 [12:38<06:22, 76.49s/it]"
     ]
    },
    {
     "name": "stdout",
     "output_type": "stream",
     "text": [
      "*************************************************************************\n",
      "For k =  21\n",
      "Accuracy =  88.49000000000001\n",
      "f1_score =  56.0\n",
      "precision_score =  78.0\n",
      "recall_score =  55.0\n"
     ]
    },
    {
     "name": "stderr",
     "output_type": "stream",
     "text": [
      "\r",
      " 73%|████████████████████████████████████████████████████████████▏                     | 11/15 [13:56<05:07, 76.95s/it]"
     ]
    },
    {
     "name": "stdout",
     "output_type": "stream",
     "text": [
      "*************************************************************************\n",
      "For k =  23\n",
      "Accuracy =  88.5\n",
      "f1_score =  56.0\n",
      "precision_score =  79.0\n",
      "recall_score =  55.0\n"
     ]
    },
    {
     "name": "stderr",
     "output_type": "stream",
     "text": [
      "\r",
      " 80%|█████████████████████████████████████████████████████████████████▌                | 12/15 [15:14<03:52, 77.40s/it]"
     ]
    },
    {
     "name": "stdout",
     "output_type": "stream",
     "text": [
      "*************************************************************************\n",
      "For k =  25\n",
      "Accuracy =  88.55\n",
      "f1_score =  56.0\n",
      "precision_score =  80.0\n",
      "recall_score =  55.0\n"
     ]
    },
    {
     "name": "stderr",
     "output_type": "stream",
     "text": [
      "\r",
      " 87%|███████████████████████████████████████████████████████████████████████           | 13/15 [16:32<02:34, 77.38s/it]"
     ]
    },
    {
     "name": "stdout",
     "output_type": "stream",
     "text": [
      "*************************************************************************\n",
      "For k =  27\n",
      "Accuracy =  88.5\n",
      "f1_score =  55.0\n",
      "precision_score =  80.0\n",
      "recall_score =  55.0\n"
     ]
    },
    {
     "name": "stderr",
     "output_type": "stream",
     "text": [
      "\r",
      " 93%|████████████████████████████████████████████████████████████████████████████▌     | 14/15 [17:51<01:17, 77.88s/it]"
     ]
    },
    {
     "name": "stdout",
     "output_type": "stream",
     "text": [
      "*************************************************************************\n",
      "For k =  29\n",
      "Accuracy =  88.46000000000001\n",
      "f1_score =  55.0\n",
      "precision_score =  80.0\n",
      "recall_score =  54.0\n"
     ]
    },
    {
     "name": "stderr",
     "output_type": "stream",
     "text": [
      "100%|██████████████████████████████████████████████████████████████████████████████████| 15/15 [19:09<00:00, 77.94s/it]\n"
     ]
    }
   ],
   "source": [
    "for i in tqdm(range(1,30,2)):\n",
    "    # instantiate learning model (k = 30)\n",
    "    knn = KNeighborsClassifier(n_neighbors=i,algorithm='kd_tree')\n",
    "\n",
    "    # fitting the model on train Data\n",
    "    knn.fit(X_train, y_train)\n",
    "\n",
    "    # predict the response on the crossvalidation data\n",
    "    pred = knn.predict(X_cv)\n",
    "\n",
    "    print(\"*************************************************************************\")\n",
    "    print(\"For k = \",i)\n",
    "    print('Accuracy = ', accuracy_score(y_cv, pred)*100)\n",
    "    print(\"f1_score = \",np.round(f1_score(y_cv, pred, average='macro')*100))\n",
    "    print(\"precision_score = \",np.round(precision_score(y_cv, pred, average='macro')*100))\n",
    "    print(\"recall_score = \",np.round(recall_score(y_cv, pred, average='macro')*100))"
   ]
  },
  {
   "cell_type": "code",
   "execution_count": 36,
   "metadata": {},
   "outputs": [
    {
     "name": "stdout",
     "output_type": "stream",
     "text": [
      "***Test Data Report***\n",
      "Best k = 17 \n",
      "Accuracy =  88.39\n",
      "f1_score =  56.0\n",
      "precision_score =  78.0\n",
      "recall_score =  55.0\n"
     ]
    },
    {
     "data": {
      "image/png": "[encoded data removed]",
      "text/plain": [
       "<Figure size 432x288 with 2 Axes>"
      ]
     },
     "metadata": {
      "needs_background": "light"
     },
     "output_type": "display_data"
    }
   ],
   "source": [
    "knn = KNeighborsClassifier(n_neighbors=17,algorithm='kd_tree')\n",
    "knn.fit(X_train,y_train)\n",
    "pred = knn.predict(X_test)\n",
    "\n",
    "print(\"***Test Data Report***\")\n",
    "print(\"Best k = 17 \")\n",
    "print('Accuracy = ', accuracy_score(y_test, pred)*100)\n",
    "print(\"f1_score = \",np.round(f1_score(y_test, pred, average='macro')*100))\n",
    "print(\"precision_score = \",np.round(precision_score(y_test, pred, average='macro')*100))\n",
    "print(\"recall_score = \",np.round(recall_score(y_test, pred, average='macro')*100))\n",
    "skplt.metrics.plot_confusion_matrix(y_test, pred)\n",
    "plt.show()"
   ]
  },
  {
   "cell_type": "markdown",
   "metadata": {},
   "source": [
    "## OBSERVATION :-\n",
    "- > AVG W2VEC | BRUTE |\n",
    "    1. K = 17\n",
    "    2. f1_score =  56\n",
    "    3. Accuracy =  88.39\n",
    "- > AVG W2VEC | KD_TREE |\n",
    "    1. k = 17\n",
    "    2. f1_score =  56\n",
    "    3. Accuracy =  88.39\n",
    "- Test data report for both the algorithms in AVG-W2VEC give similar results and K is same in both the cases as well"
   ]
  },
  {
   "cell_type": "markdown",
   "metadata": {},
   "source": [
    "# TF - IDF W2VEC"
   ]
  },
  {
   "cell_type": "code",
   "execution_count": 37,
   "metadata": {},
   "outputs": [
    {
     "name": "stdout",
     "output_type": "stream",
     "text": [
      "(40000, 24413)\n",
      "(10000, 24413)\n",
      "(10000, 24413)\n"
     ]
    }
   ],
   "source": [
    "tfidf_vect = TfidfVectorizer()\n",
    "train_tfidf_w2v = tfidf_vect.fit_transform(X_train_data[\"CleanedText\"])\n",
    "cv_tfidf_w2v = tfidf_vect.transform(X_cv_data[\"CleanedText\"])\n",
    "test_tfidf_w2v = tfidf_vect.transform(X_test_data[\"CleanedText\"])\n",
    "print(train_tfidf_w2v.shape)\n",
    "print(cv_tfidf_w2v.shape)\n",
    "print(test_tfidf_w2v.shape)"
   ]
  },
  {
   "cell_type": "code",
   "execution_count": 39,
   "metadata": {},
   "outputs": [
    {
     "name": "stderr",
     "output_type": "stream",
     "text": [
      "100%|████████████████████████████████████████████████████████████████████████████| 40000/40000 [30:23<00:00, 21.94it/s]\n"
     ]
    }
   ],
   "source": [
    "# TF-IDF weighted Word2Vec\n",
    "tfidf_feat = tfidf_vect.get_feature_names() # tfidf words/col-names\n",
    "# final_tf_idf is the sparse matrix with row= sentence, col=word and cell_val = tfidf\n",
    "\n",
    "tfidf_sent_vectors_train = []; # the tfidf-w2v for each sentence/review is stored in this list\n",
    "row=0;\n",
    "for sent in tqdm(list_of_sent_train): # for each review/sentence\n",
    "    sent_vec = np.zeros(50) # as word vectors are of zero length\n",
    "    weight_sum =0; # num of words with a valid vector in the sentence/review\n",
    "    for word in sent: # for each word in a review/sentence\n",
    "        try:\n",
    "            vec = w2v_model.wv[word]\n",
    "            # obtain the tf_idfidf of a word in a sentence/review\n",
    "            tf_idf = train_tfidf_w2v[row, tfidf_feat.index(word)]\n",
    "            sent_vec += (vec * tf_idf)\n",
    "            weight_sum += tf_idf\n",
    "        except:\n",
    "            pass\n",
    "    sent_vec /= weight_sum\n",
    "    tfidf_sent_vectors_train.append(sent_vec)\n",
    "    row += 1"
   ]
  },
  {
   "cell_type": "code",
   "execution_count": 40,
   "metadata": {},
   "outputs": [
    {
     "name": "stderr",
     "output_type": "stream",
     "text": [
      "100%|████████████████████████████████████████████████████████████████████████████| 10000/10000 [07:54<00:00, 19.53it/s]\n"
     ]
    }
   ],
   "source": [
    "# TF-IDF weighted Word2Vec\n",
    "tfidf_feat = tfidf_vect.get_feature_names() # tfidf words/col-names\n",
    "# final_tf_idf is the sparse matrix with row= sentence, col=word and cell_val = tfidf\n",
    "\n",
    "tfidf_sent_vectors_cv = []; # the tfidf-w2v for each sentence/review is stored in this list\n",
    "row=0;\n",
    "for sent in tqdm(list_of_sent_cv): # for each review/sentence\n",
    "    sent_vec = np.zeros(50) # as word vectors are of zero length\n",
    "    weight_sum =0; # num of words with a valid vector in the sentence/review\n",
    "    for word in sent: # for each word in a review/sentence\n",
    "        try:\n",
    "            vec = w2v_model.wv[word]\n",
    "            # obtain the tf_idfidf of a word in a sentence/review\n",
    "            tf_idf = cv_tfidf_w2v[row, tfidf_feat.index(word)]\n",
    "            sent_vec += (vec * tf_idf)\n",
    "            weight_sum += tf_idf\n",
    "        except:\n",
    "            pass\n",
    "    sent_vec /= weight_sum\n",
    "    tfidf_sent_vectors_cv.append(sent_vec)\n",
    "    row += 1"
   ]
  },
  {
   "cell_type": "code",
   "execution_count": 41,
   "metadata": {},
   "outputs": [
    {
     "name": "stderr",
     "output_type": "stream",
     "text": [
      "100%|████████████████████████████████████████████████████████████████████████████| 10000/10000 [07:38<00:00, 21.81it/s]\n"
     ]
    }
   ],
   "source": [
    "# TF-IDF weighted Word2Vec\n",
    "tfidf_feat = tfidf_vect.get_feature_names() # tfidf words/col-names\n",
    "# final_tf_idf is the sparse matrix with row= sentence, col=word and cell_val = tfidf\n",
    "\n",
    "tfidf_sent_vectors_test = []; # the tfidf-w2v for each sentence/review is stored in this list\n",
    "row=0;\n",
    "for sent in tqdm(list_of_sent_test): # for each review/sentence\n",
    "    sent_vec = np.zeros(50) # as word vectors are of zero length\n",
    "    weight_sum =0; # num of words with a valid vector in the sentence/review\n",
    "    for word in sent: # for each word in a review/sentence\n",
    "        try:\n",
    "            vec = w2v_model.wv[word]\n",
    "            # obtain the tf_idfidf of a word in a sentence/review\n",
    "            tf_idf = test_tfidf_w2v[row, tfidf_feat.index(word)]\n",
    "            sent_vec += (vec * tf_idf)\n",
    "            weight_sum += tf_idf\n",
    "        except:\n",
    "            pass\n",
    "    sent_vec /= weight_sum\n",
    "    tfidf_sent_vectors_test.append(sent_vec)\n",
    "    row += 1"
   ]
  },
  {
   "cell_type": "code",
   "execution_count": 52,
   "metadata": {},
   "outputs": [],
   "source": [
    "X_train = tfidf_sent_vectors_train\n",
    "X_cv = tfidf_sent_vectors_cv\n",
    "X_test = tfidf_sent_vectors_test"
   ]
  },
  {
   "cell_type": "code",
   "execution_count": 53,
   "metadata": {},
   "outputs": [],
   "source": [
    "X_train = np.nan_to_num(X_train)\n",
    "X_cv = np.nan_to_num(X_cv)\n",
    "X_test = np.nan_to_num(X_test)\n"
   ]
  },
  {
   "cell_type": "markdown",
   "metadata": {},
   "source": [
    "# TF-IDF - W2VEC | BRUTE |"
   ]
  },
  {
   "cell_type": "code",
   "execution_count": 54,
   "metadata": {},
   "outputs": [
    {
     "name": "stderr",
     "output_type": "stream",
     "text": [
      "\r",
      "  0%|                                                                                           | 0/15 [00:00<?, ?it/s]"
     ]
    },
    {
     "name": "stdout",
     "output_type": "stream",
     "text": [
      "*************************************************************************\n",
      "For k =  1\n",
      "Accuracy =  82.0\n",
      "f1_score =  57.0\n",
      "precision_score =  57.0\n",
      "recall_score =  57.0\n"
     ]
    },
    {
     "name": "stderr",
     "output_type": "stream",
     "text": [
      "\r",
      "  7%|█████▌                                                                             | 1/15 [00:11<02:36, 11.16s/it]"
     ]
    },
    {
     "name": "stdout",
     "output_type": "stream",
     "text": [
      "*************************************************************************\n",
      "For k =  3\n",
      "Accuracy =  86.0\n",
      "f1_score =  57.0\n",
      "precision_score =  62.0\n",
      "recall_score =  56.0\n"
     ]
    },
    {
     "name": "stderr",
     "output_type": "stream",
     "text": [
      "\r",
      " 13%|███████████                                                                        | 2/15 [00:22<02:24, 11.10s/it]"
     ]
    },
    {
     "name": "stdout",
     "output_type": "stream",
     "text": [
      "*************************************************************************\n",
      "For k =  5\n",
      "Accuracy =  87.0\n",
      "f1_score =  56.0\n",
      "precision_score =  66.0\n",
      "recall_score =  55.0\n"
     ]
    },
    {
     "name": "stderr",
     "output_type": "stream",
     "text": [
      "\r",
      " 20%|████████████████▌                                                                  | 3/15 [00:36<02:24, 12.03s/it]"
     ]
    },
    {
     "name": "stdout",
     "output_type": "stream",
     "text": [
      "*************************************************************************\n",
      "For k =  7\n",
      "Accuracy =  88.0\n",
      "f1_score =  55.0\n",
      "precision_score =  69.0\n",
      "recall_score =  54.0\n"
     ]
    },
    {
     "name": "stderr",
     "output_type": "stream",
     "text": [
      "\r",
      " 27%|██████████████████████▏                                                            | 4/15 [00:50<02:19, 12.67s/it]"
     ]
    },
    {
     "name": "stdout",
     "output_type": "stream",
     "text": [
      "*************************************************************************\n",
      "For k =  9\n",
      "Accuracy =  88.0\n",
      "f1_score =  55.0\n",
      "precision_score =  72.0\n",
      "recall_score =  54.0\n"
     ]
    },
    {
     "name": "stderr",
     "output_type": "stream",
     "text": [
      "\r",
      " 33%|███████████████████████████▋                                                       | 5/15 [01:04<02:11, 13.18s/it]"
     ]
    },
    {
     "name": "stdout",
     "output_type": "stream",
     "text": [
      "*************************************************************************\n",
      "For k =  11\n",
      "Accuracy =  88.0\n",
      "f1_score =  54.0\n",
      "precision_score =  73.0\n",
      "recall_score =  54.0\n"
     ]
    },
    {
     "name": "stderr",
     "output_type": "stream",
     "text": [
      "\r",
      " 40%|█████████████████████████████████▏                                                 | 6/15 [01:20<02:04, 13.79s/it]"
     ]
    },
    {
     "name": "stdout",
     "output_type": "stream",
     "text": [
      "*************************************************************************\n",
      "For k =  13\n",
      "Accuracy =  88.0\n",
      "f1_score =  53.0\n",
      "precision_score =  75.0\n",
      "recall_score =  53.0\n"
     ]
    },
    {
     "name": "stderr",
     "output_type": "stream",
     "text": [
      "\r",
      " 47%|██████████████████████████████████████▋                                            | 7/15 [01:33<01:50, 13.82s/it]"
     ]
    },
    {
     "name": "stdout",
     "output_type": "stream",
     "text": [
      "*************************************************************************\n",
      "For k =  15\n",
      "Accuracy =  88.0\n",
      "f1_score =  52.0\n",
      "precision_score =  75.0\n",
      "recall_score =  53.0\n"
     ]
    },
    {
     "name": "stderr",
     "output_type": "stream",
     "text": [
      "\r",
      " 53%|████████████████████████████████████████████▎                                      | 8/15 [01:47<01:36, 13.74s/it]"
     ]
    },
    {
     "name": "stdout",
     "output_type": "stream",
     "text": [
      "*************************************************************************\n",
      "For k =  17\n",
      "Accuracy =  88.0\n",
      "f1_score =  52.0\n",
      "precision_score =  76.0\n",
      "recall_score =  53.0\n"
     ]
    },
    {
     "name": "stderr",
     "output_type": "stream",
     "text": [
      "\r",
      " 60%|█████████████████████████████████████████████████▊                                 | 9/15 [02:01<01:22, 13.68s/it]"
     ]
    },
    {
     "name": "stdout",
     "output_type": "stream",
     "text": [
      "*************************************************************************\n",
      "For k =  19\n",
      "Accuracy =  88.0\n",
      "f1_score =  52.0\n",
      "precision_score =  76.0\n",
      "recall_score =  52.0\n"
     ]
    },
    {
     "name": "stderr",
     "output_type": "stream",
     "text": [
      "\r",
      " 67%|██████████████████████████████████████████████████████▋                           | 10/15 [02:14<01:08, 13.75s/it]"
     ]
    },
    {
     "name": "stdout",
     "output_type": "stream",
     "text": [
      "*************************************************************************\n",
      "For k =  21\n",
      "Accuracy =  88.0\n",
      "f1_score =  52.0\n",
      "precision_score =  77.0\n",
      "recall_score =  53.0\n"
     ]
    },
    {
     "name": "stderr",
     "output_type": "stream",
     "text": [
      "\r",
      " 73%|████████████████████████████████████████████████████████████▏                     | 11/15 [02:28<00:54, 13.65s/it]"
     ]
    },
    {
     "name": "stdout",
     "output_type": "stream",
     "text": [
      "*************************************************************************\n",
      "For k =  23\n",
      "Accuracy =  88.0\n",
      "f1_score =  51.0\n",
      "precision_score =  77.0\n",
      "recall_score =  52.0\n"
     ]
    },
    {
     "name": "stderr",
     "output_type": "stream",
     "text": [
      "\r",
      " 80%|█████████████████████████████████████████████████████████████████▌                | 12/15 [02:42<00:41, 13.81s/it]"
     ]
    },
    {
     "name": "stdout",
     "output_type": "stream",
     "text": [
      "*************************************************************************\n",
      "For k =  25\n",
      "Accuracy =  88.0\n",
      "f1_score =  51.0\n",
      "precision_score =  77.0\n",
      "recall_score =  52.0\n"
     ]
    },
    {
     "name": "stderr",
     "output_type": "stream",
     "text": [
      "\r",
      " 87%|███████████████████████████████████████████████████████████████████████           | 13/15 [02:56<00:27, 13.71s/it]"
     ]
    },
    {
     "name": "stdout",
     "output_type": "stream",
     "text": [
      "*************************************************************************\n",
      "For k =  27\n",
      "Accuracy =  88.0\n",
      "f1_score =  51.0\n",
      "precision_score =  77.0\n",
      "recall_score =  52.0\n"
     ]
    },
    {
     "name": "stderr",
     "output_type": "stream",
     "text": [
      "\r",
      " 93%|████████████████████████████████████████████████████████████████████████████▌     | 14/15 [03:09<00:13, 13.70s/it]"
     ]
    },
    {
     "name": "stdout",
     "output_type": "stream",
     "text": [
      "*************************************************************************\n",
      "For k =  29\n",
      "Accuracy =  88.0\n",
      "f1_score =  51.0\n",
      "precision_score =  78.0\n",
      "recall_score =  52.0\n"
     ]
    },
    {
     "name": "stderr",
     "output_type": "stream",
     "text": [
      "100%|██████████████████████████████████████████████████████████████████████████████████| 15/15 [03:23<00:00, 13.63s/it]\n"
     ]
    }
   ],
   "source": [
    "for i in tqdm(range(1,30,2)):\n",
    "    # instantiate learning model (k = 30)\n",
    "    knn = KNeighborsClassifier(n_neighbors=i,algorithm='brute')\n",
    "\n",
    "    # fitting the model on train Data\n",
    "    knn.fit(X_train, y_train)\n",
    "\n",
    "    # predict the response on the crossvalidation data\n",
    "    pred = knn.predict(X_cv)\n",
    "\n",
    "    print(\"*************************************************************************\")\n",
    "    print(\"For k = \",i)\n",
    "    print('Accuracy = ', accuracy_score(y_cv, pred)*100)\n",
    "    print(\"f1_score = \",np.round(f1_score(y_cv, pred, average='macro')*100))\n",
    "    print(\"precision_score = \",np.round(precision_score(y_cv, pred, average='macro')*100))\n",
    "    print(\"recall_score = \",np.round(recall_score(y_cv, pred, average='macro')*100))"
   ]
  },
  {
   "cell_type": "code",
   "execution_count": 58,
   "metadata": {},
   "outputs": [
    {
     "name": "stdout",
     "output_type": "stream",
     "text": [
      "***Test Data Report***\n",
      "Best k = 19 \n",
      "Accuracy =  88.0\n",
      "f1_score =  51.0\n",
      "precision_score =  74.0\n",
      "recall_score =  52.0\n"
     ]
    },
    {
     "data": {
      "image/png": "[encoded data removed]",
      "text/plain": [
       "<Figure size 432x288 with 2 Axes>"
      ]
     },
     "metadata": {
      "needs_background": "light"
     },
     "output_type": "display_data"
    }
   ],
   "source": [
    "knn = KNeighborsClassifier(n_neighbors=21,algorithm='brute')\n",
    "knn.fit(X_train,y_train)\n",
    "pred = knn.predict(X_test)\n",
    "\n",
    "print(\"***Test Data Report***\")\n",
    "print(\"Best k = 21 \")\n",
    "print('Accuracy = ', accuracy_score(y_test, pred)*100)\n",
    "print(\"f1_score = \",np.round(f1_score(y_test, pred, average='macro')*100))\n",
    "print(\"precision_score = \",np.round(precision_score(y_test, pred, average='macro')*100))\n",
    "print(\"recall_score = \",np.round(recall_score(y_test, pred, average='macro')*100))\n",
    "skplt.metrics.plot_confusion_matrix(y_test, pred)\n",
    "plt.show()"
   ]
  },
  {
   "cell_type": "markdown",
   "metadata": {},
   "source": [
    "# TF-IDF - W2VEC | KD_TREE |"
   ]
  },
  {
   "cell_type": "code",
   "execution_count": 62,
   "metadata": {},
   "outputs": [
    {
     "name": "stderr",
     "output_type": "stream",
     "text": [
      "\r",
      "  0%|                                                                                           | 0/15 [00:00<?, ?it/s]"
     ]
    },
    {
     "name": "stdout",
     "output_type": "stream",
     "text": [
      "*************************************************************************\n",
      "For k =  1\n",
      "Accuracy =  82.0\n",
      "f1_score =  57.0\n",
      "precision_score =  57.0\n",
      "recall_score =  57.0\n"
     ]
    },
    {
     "name": "stderr",
     "output_type": "stream",
     "text": [
      "\r",
      "  7%|█████▌                                                                             | 1/15 [01:13<17:04, 73.20s/it]"
     ]
    },
    {
     "name": "stdout",
     "output_type": "stream",
     "text": [
      "*************************************************************************\n",
      "For k =  3\n",
      "Accuracy =  86.0\n",
      "f1_score =  57.0\n",
      "precision_score =  62.0\n",
      "recall_score =  56.0\n"
     ]
    },
    {
     "name": "stderr",
     "output_type": "stream",
     "text": [
      "\r",
      " 13%|███████████                                                                        | 2/15 [02:29<16:03, 74.10s/it]"
     ]
    },
    {
     "name": "stdout",
     "output_type": "stream",
     "text": [
      "*************************************************************************\n",
      "For k =  5\n",
      "Accuracy =  87.0\n",
      "f1_score =  56.0\n",
      "precision_score =  66.0\n",
      "recall_score =  55.0\n"
     ]
    },
    {
     "name": "stderr",
     "output_type": "stream",
     "text": [
      "\r",
      " 20%|████████████████▌                                                                  | 3/15 [03:40<14:40, 73.34s/it]"
     ]
    },
    {
     "name": "stdout",
     "output_type": "stream",
     "text": [
      "*************************************************************************\n",
      "For k =  7\n",
      "Accuracy =  88.0\n",
      "f1_score =  55.0\n",
      "precision_score =  69.0\n",
      "recall_score =  54.0\n"
     ]
    },
    {
     "name": "stderr",
     "output_type": "stream",
     "text": [
      "\r",
      " 27%|██████████████████████▏                                                            | 4/15 [05:01<13:49, 75.38s/it]"
     ]
    },
    {
     "name": "stdout",
     "output_type": "stream",
     "text": [
      "*************************************************************************\n",
      "For k =  9\n",
      "Accuracy =  88.0\n",
      "f1_score =  55.0\n",
      "precision_score =  72.0\n",
      "recall_score =  54.0\n"
     ]
    },
    {
     "name": "stderr",
     "output_type": "stream",
     "text": [
      "\r",
      " 33%|███████████████████████████▋                                                       | 5/15 [06:20<12:46, 76.63s/it]"
     ]
    },
    {
     "name": "stdout",
     "output_type": "stream",
     "text": [
      "*************************************************************************\n",
      "For k =  11\n",
      "Accuracy =  88.0\n",
      "f1_score =  54.0\n",
      "precision_score =  73.0\n",
      "recall_score =  54.0\n"
     ]
    },
    {
     "name": "stderr",
     "output_type": "stream",
     "text": [
      "\r",
      " 40%|█████████████████████████████████▏                                                 | 6/15 [07:35<11:26, 76.24s/it]"
     ]
    },
    {
     "name": "stdout",
     "output_type": "stream",
     "text": [
      "*************************************************************************\n",
      "For k =  13\n",
      "Accuracy =  88.0\n",
      "f1_score =  53.0\n",
      "precision_score =  75.0\n",
      "recall_score =  53.0\n"
     ]
    },
    {
     "name": "stderr",
     "output_type": "stream",
     "text": [
      "\r",
      " 47%|██████████████████████████████████████▋                                            | 7/15 [08:52<10:11, 76.38s/it]"
     ]
    },
    {
     "name": "stdout",
     "output_type": "stream",
     "text": [
      "*************************************************************************\n",
      "For k =  15\n",
      "Accuracy =  88.0\n",
      "f1_score =  52.0\n",
      "precision_score =  75.0\n",
      "recall_score =  53.0\n"
     ]
    },
    {
     "name": "stderr",
     "output_type": "stream",
     "text": [
      "\r",
      " 53%|████████████████████████████████████████████▎                                      | 8/15 [10:06<08:49, 75.70s/it]"
     ]
    },
    {
     "name": "stdout",
     "output_type": "stream",
     "text": [
      "*************************************************************************\n",
      "For k =  17\n",
      "Accuracy =  88.0\n",
      "f1_score =  52.0\n",
      "precision_score =  76.0\n",
      "recall_score =  53.0\n"
     ]
    },
    {
     "name": "stderr",
     "output_type": "stream",
     "text": [
      "\r",
      " 60%|█████████████████████████████████████████████████▊                                 | 9/15 [11:22<07:34, 75.70s/it]"
     ]
    },
    {
     "name": "stdout",
     "output_type": "stream",
     "text": [
      "*************************************************************************\n",
      "For k =  19\n",
      "Accuracy =  88.0\n",
      "f1_score =  52.0\n",
      "precision_score =  76.0\n",
      "recall_score =  52.0\n"
     ]
    },
    {
     "name": "stderr",
     "output_type": "stream",
     "text": [
      "\r",
      " 67%|██████████████████████████████████████████████████████▋                           | 10/15 [12:36<06:15, 75.04s/it]"
     ]
    },
    {
     "name": "stdout",
     "output_type": "stream",
     "text": [
      "*************************************************************************\n",
      "For k =  21\n",
      "Accuracy =  88.0\n",
      "f1_score =  52.0\n",
      "precision_score =  77.0\n",
      "recall_score =  53.0\n"
     ]
    },
    {
     "name": "stderr",
     "output_type": "stream",
     "text": [
      "\r",
      " 73%|████████████████████████████████████████████████████████████▏                     | 11/15 [13:52<05:02, 75.53s/it]"
     ]
    },
    {
     "name": "stdout",
     "output_type": "stream",
     "text": [
      "*************************************************************************\n",
      "For k =  23\n",
      "Accuracy =  88.0\n",
      "f1_score =  51.0\n",
      "precision_score =  77.0\n",
      "recall_score =  52.0\n"
     ]
    },
    {
     "name": "stderr",
     "output_type": "stream",
     "text": [
      "\r",
      " 80%|█████████████████████████████████████████████████████████████████▌                | 12/15 [15:07<03:46, 75.40s/it]"
     ]
    },
    {
     "name": "stdout",
     "output_type": "stream",
     "text": [
      "*************************************************************************\n",
      "For k =  25\n",
      "Accuracy =  88.0\n",
      "f1_score =  51.0\n",
      "precision_score =  77.0\n",
      "recall_score =  52.0\n"
     ]
    },
    {
     "name": "stderr",
     "output_type": "stream",
     "text": [
      "\r",
      " 87%|███████████████████████████████████████████████████████████████████████           | 13/15 [16:22<02:30, 75.27s/it]"
     ]
    },
    {
     "name": "stdout",
     "output_type": "stream",
     "text": [
      "*************************************************************************\n",
      "For k =  27\n",
      "Accuracy =  88.0\n",
      "f1_score =  51.0\n",
      "precision_score =  77.0\n",
      "recall_score =  52.0\n"
     ]
    },
    {
     "name": "stderr",
     "output_type": "stream",
     "text": [
      "\r",
      " 93%|████████████████████████████████████████████████████████████████████████████▌     | 14/15 [17:37<01:15, 75.23s/it]"
     ]
    },
    {
     "name": "stdout",
     "output_type": "stream",
     "text": [
      "*************************************************************************\n",
      "For k =  29\n",
      "Accuracy =  88.0\n",
      "f1_score =  51.0\n",
      "precision_score =  78.0\n",
      "recall_score =  52.0\n"
     ]
    },
    {
     "name": "stderr",
     "output_type": "stream",
     "text": [
      "100%|██████████████████████████████████████████████████████████████████████████████████| 15/15 [18:52<00:00, 75.12s/it]\n"
     ]
    }
   ],
   "source": [
    "for i in tqdm(range(1,30,2)):\n",
    "    # instantiate learning model (k = 30)\n",
    "    knn = KNeighborsClassifier(n_neighbors=i,algorithm='kd_tree')\n",
    "\n",
    "    # fitting the model on train Data\n",
    "    knn.fit(X_train, y_train)\n",
    "\n",
    "    # predict the response on the crossvalidation data\n",
    "    pred = knn.predict(X_cv)\n",
    "\n",
    "    print(\"*************************************************************************\")\n",
    "    print(\"For k = \",i)\n",
    "    print('Accuracy = ', accuracy_score(y_cv, pred)*100)\n",
    "    print(\"f1_score = \",np.round(f1_score(y_cv, pred, average='macro')*100))\n",
    "    print(\"precision_score = \",np.round(precision_score(y_cv, pred, average='macro')*100))\n",
    "    print(\"recall_score = \",np.round(recall_score(y_cv, pred, average='macro')*100))"
   ]
  },
  {
   "cell_type": "code",
   "execution_count": 63,
   "metadata": {},
   "outputs": [
    {
     "name": "stdout",
     "output_type": "stream",
     "text": [
      "***Test Data Report***\n",
      "Best k = 21 \n",
      "Accuracy =  88.0\n",
      "f1_score =  51.0\n",
      "precision_score =  74.0\n",
      "recall_score =  52.0\n"
     ]
    },
    {
     "data": {
      "image/png": "[encoded data removed]",
      "text/plain": [
       "<Figure size 432x288 with 2 Axes>"
      ]
     },
     "metadata": {
      "needs_background": "light"
     },
     "output_type": "display_data"
    }
   ],
   "source": [
    "knn = KNeighborsClassifier(n_neighbors=21,algorithm='kd_tree')\n",
    "knn.fit(X_train,y_train)\n",
    "pred = knn.predict(X_test)\n",
    "\n",
    "print(\"***Test Data Report***\")\n",
    "print(\"Best k = 21 \")\n",
    "print('Accuracy = ', accuracy_score(y_test, pred)*100)\n",
    "print(\"f1_score = \",np.round(f1_score(y_test, pred, average='macro')*100))\n",
    "print(\"precision_score = \",np.round(precision_score(y_test, pred, average='macro')*100))\n",
    "print(\"recall_score = \",np.round(recall_score(y_test, pred, average='macro')*100))\n",
    "skplt.metrics.plot_confusion_matrix(y_test, pred)\n",
    "plt.show()"
   ]
  },
  {
   "cell_type": "markdown",
   "metadata": {},
   "source": [
    "## OBSERVATION :-\n",
    "\n",
    "- > TF-IDF W2VEC | BRUTE |\n",
    "    1. K = 19\n",
    "    2. f1_score =  51.0\n",
    "    3. Accuracy =  88.0\n",
    "- > TF-IDF W2VEC | KD_TREE |\n",
    "    1. K = 21\n",
    "    2. f1_score =  51.0\n",
    "    3. Accuracy =  88.0\n",
    "- Test data report for both the algorithms in TFIDF-W2VEC give similar results but k is Different in both cases"
   ]
  },
  {
   "cell_type": "markdown",
   "metadata": {},
   "source": [
    "# RESULT"
   ]
  },
  {
   "cell_type": "code",
   "execution_count": 38,
   "metadata": {},
   "outputs": [
    {
     "data": {
      "text/html": [
       "<table>\n",
       "<tbody>\n",
       "<tr><td>S.NO.</td><td>MODEL || KNN ||         </td><td>Best K</td><td>F1_SCORE</td><td>Test Accuracy</td></tr>\n",
       "<tr><td>1    </td><td>BOW | brute |           </td><td>11    </td><td>49      </td><td>87.85        </td></tr>\n",
       "<tr><td>2    </td><td>BOW | kd_tree |         </td><td>17    </td><td>50      </td><td>87.98        </td></tr>\n",
       "<tr><td>3    </td><td>TF-IDF | brute |        </td><td>7     </td><td>54      </td><td>88.13        </td></tr>\n",
       "<tr><td>4    </td><td>TF-IDF | kd_tree |      </td><td>13    </td><td>55      </td><td>88.07        </td></tr>\n",
       "<tr><td>5    </td><td>AVG W2VEC | brute |     </td><td>17    </td><td>56      </td><td>88.39        </td></tr>\n",
       "<tr><td>6    </td><td>AVG W2VEC | kd_tree |   </td><td>17    </td><td>56      </td><td>88.39        </td></tr>\n",
       "<tr><td>7    </td><td>TF-IDF W2VEC | brute |  </td><td>19    </td><td>51.0    </td><td>88           </td></tr>\n",
       "<tr><td>8    </td><td>TF-IDF W2VEC | kd_tree |</td><td>21    </td><td>51.0    </td><td>88           </td></tr>\n",
       "</tbody>\n",
       "</table>"
      ],
      "text/plain": [
       "<IPython.core.display.HTML object>"
      ]
     },
     "metadata": {},
     "output_type": "display_data"
    }
   ],
   "source": [
    "from IPython.display import HTML, display\n",
    "import tabulate\n",
    "table = [[\"S.NO.\",\"MODEL || KNN ||\",\"Best K\",\"F1_SCORE\",\"Test Accuracy\"],\n",
    "         [\"1\",\"BOW | brute |\",\"11\",\"49\",\"87.85\"],\n",
    "         [\"2\",\"BOW | kd_tree |\",\"17\",\"50\",\"87.98\"],\n",
    "         [\"3\",\"TF-IDF | brute |\",\"7\",\"54\",\"88.13\"],\n",
    "         [\"4\",\"TF-IDF | kd_tree |\",\"13\",\"55\",\"88.07\"],\n",
    "         [\"5\",\"AVG W2VEC | brute |\",\"17\",\"56\",\"88.39\"],\n",
    "         [\"6\",\"AVG W2VEC | kd_tree |\",\"17\",\"56\",\"88.39\"],\n",
    "         [\"7\",\"TF-IDF W2VEC | brute |\",\"19\",\"51.0\",\"88\"],\n",
    "         [\"8\",\"TF-IDF W2VEC | kd_tree |\",\"21\",\"51.0\",\"88\"]]\n",
    "display(HTML(tabulate.tabulate(table, tablefmt='html')))"
   ]
  },
  {
   "cell_type": "markdown",
   "metadata": {},
   "source": [
    "# CONCLUSION\n",
    "- AVG W2VEC(KD-TREE) & AVG W2VEC(BRUTE) gives the best accuracy rates amoung the models i.e 88.39\n",
    "- BOW(BRUTE) gives the the least accuracy among the models.\n",
    "- As amazon fine fodd reviews is a highly imbalanced dataset, so f1_score, precision_score, recall_score plays major role in understanding the model performance rather than the accuracy rates, as we can see the the above results"
   ]
  }
 ],
 "metadata": {
  "kernelspec": {
   "display_name": "Python 3",
   "language": "python",
   "name": "python3"
  },
  "language_info": {
   "codemirror_mode": {
    "name": "ipython",
    "version": 3
   },
   "file_extension": ".py",
   "mimetype": "text/x-python",
   "name": "python",
   "nbconvert_exporter": "python",
   "pygments_lexer": "ipython3",
   "version": "3.7.0"
  }
 },
 "nbformat": 4,
 "nbformat_minor": 2
}
