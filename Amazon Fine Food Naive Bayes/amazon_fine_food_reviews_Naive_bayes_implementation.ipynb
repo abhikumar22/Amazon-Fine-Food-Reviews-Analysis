{
 "cells": [
  {
   "cell_type": "markdown",
   "metadata": {},
   "source": [
    "# OBJECTIVE\n",
    "- Performing naive bayes algorithm to amazon fine food reviews\n",
    "- Techniques used - BOW , TFIDF\n",
    "- Using Multinomial version of Naive bayes as because the multinomial Naive Bayes classifier is suitable for classification with discrete features (e.g., word counts for text classification) and multinomial distribution normally requires integer feature counts"
   ]
  },
  {
   "cell_type": "code",
   "execution_count": 1,
   "metadata": {},
   "outputs": [],
   "source": [
    "#importing necessary packages\n",
    "import numpy as np\n",
    "import pandas as pd\n",
    "import matplotlib.pyplot as plt\n",
    "from sklearn.neighbors import KNeighborsClassifier\n",
    "from sklearn.metrics import accuracy_score\n",
    "from sklearn.model_selection import cross_val_score\n",
    "from collections import Counter\n",
    "from sklearn.metrics import accuracy_score"
   ]
  },
  {
   "cell_type": "code",
   "execution_count": 2,
   "metadata": {},
   "outputs": [
    {
     "name": "stderr",
     "output_type": "stream",
     "text": [
      "C:\\Users\\lenovo\\Anaconda3\\lib\\site-packages\\gensim\\utils.py:1197: UserWarning: detected Windows; aliasing chunkize to chunkize_serial\n",
      "  warnings.warn(\"detected Windows; aliasing chunkize to chunkize_serial\")\n"
     ]
    }
   ],
   "source": [
    "%matplotlib inline\n",
    "import warnings\n",
    "warnings.filterwarnings(\"ignore\")\n",
    "\n",
    "import sqlite3\n",
    "import pandas as pd\n",
    "import numpy as np\n",
    "import nltk\n",
    "import string\n",
    "import matplotlib.pyplot as plt\n",
    "import seaborn as sns\n",
    "from sklearn.feature_extraction.text import TfidfTransformer\n",
    "from sklearn.feature_extraction.text import TfidfVectorizer\n",
    "from sklearn.metrics import accuracy_score,precision_score,recall_score,confusion_matrix,classification_report,f1_score\n",
    "import scikitplot as skplt\n",
    "\n",
    "from sklearn.feature_extraction.text import CountVectorizer\n",
    "from sklearn.metrics import confusion_matrix\n",
    "from sklearn import metrics\n",
    "from sklearn.metrics import roc_curve, auc\n",
    "from nltk.stem.porter import PorterStemmer\n",
    "\n",
    "import re\n",
    "# Tutorial about Python regular expressions: https://pymotw.com/2/re/\n",
    "import string\n",
    "from nltk.corpus import stopwords\n",
    "from nltk.stem import PorterStemmer\n",
    "from nltk.stem.wordnet import WordNetLemmatizer\n",
    "\n",
    "from gensim.models import Word2Vec\n",
    "from gensim.models import KeyedVectors\n",
    "import pickle\n",
    "\n",
    "from tqdm import tqdm\n",
    "import os"
   ]
  },
  {
   "cell_type": "code",
   "execution_count": 3,
   "metadata": {},
   "outputs": [
    {
     "name": "stdout",
     "output_type": "stream",
     "text": [
      "(525814, 10)\n"
     ]
    }
   ],
   "source": [
    "# using the SQLite Table to read data.\n",
    "con = sqlite3.connect('database.sqlite') \n",
    "\n",
    "#filtering only positive and negative reviews i.e. \n",
    "# not taking into consideration those reviews with Score=3\n",
    "filtered_data = pd.read_sql_query(\"\"\" SELECT * FROM Reviews WHERE Score != 3 \"\"\", con) \n",
    "print(filtered_data.shape)"
   ]
  },
  {
   "cell_type": "code",
   "execution_count": 4,
   "metadata": {},
   "outputs": [
    {
     "name": "stdout",
     "output_type": "stream",
     "text": [
      "Number of data points in our data (525814, 10)\n"
     ]
    },
    {
     "data": {
      "text/html": [
       "<div>\n",
       "<style scoped>\n",
       "    .dataframe tbody tr th:only-of-type {\n",
       "        vertical-align: middle;\n",
       "    }\n",
       "\n",
       "    .dataframe tbody tr th {\n",
       "        vertical-align: top;\n",
       "    }\n",
       "\n",
       "    .dataframe thead th {\n",
       "        text-align: right;\n",
       "    }\n",
       "</style>\n",
       "<table border=\"1\" class=\"dataframe\">\n",
       "  <thead>\n",
       "    <tr style=\"text-align: right;\">\n",
       "      <th></th>\n",
       "      <th>Id</th>\n",
       "      <th>ProductId</th>\n",
       "      <th>UserId</th>\n",
       "      <th>ProfileName</th>\n",
       "      <th>HelpfulnessNumerator</th>\n",
       "      <th>HelpfulnessDenominator</th>\n",
       "      <th>Score</th>\n",
       "      <th>Time</th>\n",
       "      <th>Summary</th>\n",
       "      <th>Text</th>\n",
       "    </tr>\n",
       "  </thead>\n",
       "  <tbody>\n",
       "    <tr>\n",
       "      <th>0</th>\n",
       "      <td>1</td>\n",
       "      <td>B001E4KFG0</td>\n",
       "      <td>A3SGXH7AUHU8GW</td>\n",
       "      <td>delmartian</td>\n",
       "      <td>1</td>\n",
       "      <td>1</td>\n",
       "      <td>positive</td>\n",
       "      <td>1303862400</td>\n",
       "      <td>Good Quality Dog Food</td>\n",
       "      <td>I have bought several of the Vitality canned d...</td>\n",
       "    </tr>\n",
       "    <tr>\n",
       "      <th>1</th>\n",
       "      <td>2</td>\n",
       "      <td>B00813GRG4</td>\n",
       "      <td>A1D87F6ZCVE5NK</td>\n",
       "      <td>dll pa</td>\n",
       "      <td>0</td>\n",
       "      <td>0</td>\n",
       "      <td>negative</td>\n",
       "      <td>1346976000</td>\n",
       "      <td>Not as Advertised</td>\n",
       "      <td>Product arrived labeled as Jumbo Salted Peanut...</td>\n",
       "    </tr>\n",
       "    <tr>\n",
       "      <th>2</th>\n",
       "      <td>3</td>\n",
       "      <td>B000LQOCH0</td>\n",
       "      <td>ABXLMWJIXXAIN</td>\n",
       "      <td>Natalia Corres \"Natalia Corres\"</td>\n",
       "      <td>1</td>\n",
       "      <td>1</td>\n",
       "      <td>positive</td>\n",
       "      <td>1219017600</td>\n",
       "      <td>\"Delight\" says it all</td>\n",
       "      <td>This is a confection that has been around a fe...</td>\n",
       "    </tr>\n",
       "  </tbody>\n",
       "</table>\n",
       "</div>"
      ],
      "text/plain": [
       "   Id   ProductId          UserId                      ProfileName  \\\n",
       "0   1  B001E4KFG0  A3SGXH7AUHU8GW                       delmartian   \n",
       "1   2  B00813GRG4  A1D87F6ZCVE5NK                           dll pa   \n",
       "2   3  B000LQOCH0   ABXLMWJIXXAIN  Natalia Corres \"Natalia Corres\"   \n",
       "\n",
       "   HelpfulnessNumerator  HelpfulnessDenominator     Score        Time  \\\n",
       "0                     1                       1  positive  1303862400   \n",
       "1                     0                       0  negative  1346976000   \n",
       "2                     1                       1  positive  1219017600   \n",
       "\n",
       "                 Summary                                               Text  \n",
       "0  Good Quality Dog Food  I have bought several of the Vitality canned d...  \n",
       "1      Not as Advertised  Product arrived labeled as Jumbo Salted Peanut...  \n",
       "2  \"Delight\" says it all  This is a confection that has been around a fe...  "
      ]
     },
     "execution_count": 4,
     "metadata": {},
     "output_type": "execute_result"
    }
   ],
   "source": [
    "# Give reviews with Score>3 a positive rating, and reviews with a score<3 a negative rating.\n",
    "def partition(x):\n",
    "    if x < 3:\n",
    "        return 'negative'\n",
    "    return 'positive'\n",
    "\n",
    "#changing reviews with score less than 3 to be positive and vice-versa\n",
    "actualScore = filtered_data['Score']\n",
    "positiveNegative = actualScore.map(partition) \n",
    "filtered_data['Score'] = positiveNegative\n",
    "print(\"Number of data points in our data\", filtered_data.shape)\n",
    "filtered_data.head(3)"
   ]
  },
  {
   "cell_type": "code",
   "execution_count": 5,
   "metadata": {},
   "outputs": [
    {
     "data": {
      "text/plain": [
       "positive    443777\n",
       "negative     82037\n",
       "Name: Score, dtype: int64"
      ]
     },
     "execution_count": 5,
     "metadata": {},
     "output_type": "execute_result"
    }
   ],
   "source": [
    "filtered_data['Score'].value_counts() #Data points in each class"
   ]
  },
  {
   "cell_type": "code",
   "execution_count": 6,
   "metadata": {},
   "outputs": [
    {
     "data": {
      "text/plain": [
       "(525814, 10)"
      ]
     },
     "execution_count": 6,
     "metadata": {},
     "output_type": "execute_result"
    }
   ],
   "source": [
    "#Sorting the data taking productid as the parameter\n",
    "sorted_data=filtered_data.sort_values('ProductId', axis=0, ascending=True, inplace=False, kind='quicksort', na_position='last')\n",
    "sorted_data.shape"
   ]
  },
  {
   "cell_type": "code",
   "execution_count": 7,
   "metadata": {},
   "outputs": [
    {
     "data": {
      "text/plain": [
       "(364173, 10)"
      ]
     },
     "execution_count": 7,
     "metadata": {},
     "output_type": "execute_result"
    }
   ],
   "source": [
    "#Deleting the dublicates reviews which is created when user writed a review for the product, it automatically generates for the same product of different color etc\n",
    "final = sorted_data.drop_duplicates(subset={\"UserId\",\"ProfileName\",\"Time\",\"Text\"}, keep='first', inplace=False)\n",
    "final.shape"
   ]
  },
  {
   "cell_type": "code",
   "execution_count": 8,
   "metadata": {},
   "outputs": [
    {
     "data": {
      "text/plain": [
       "69.25890143662969"
      ]
     },
     "execution_count": 8,
     "metadata": {},
     "output_type": "execute_result"
    }
   ],
   "source": [
    "#Checking to see how much % of data still remains\n",
    "(final['Id'].size*1.0)/(filtered_data['Id'].size*1.0)*100"
   ]
  },
  {
   "cell_type": "code",
   "execution_count": 9,
   "metadata": {},
   "outputs": [
    {
     "name": "stdout",
     "output_type": "stream",
     "text": [
      "      Id   ProductId          UserId              ProfileName  \\\n",
      "0  64422  B000MIDROQ  A161DK06JJMCYF  J. E. Stephens \"Jeanne\"   \n",
      "1  44737  B001EQ55RW  A2V0I904FH7ABY                      Ram   \n",
      "\n",
      "   HelpfulnessNumerator  HelpfulnessDenominator  Score        Time  \\\n",
      "0                     3                       1      5  1224892800   \n",
      "1                     3                       2      4  1212883200   \n",
      "\n",
      "                                        Summary  \\\n",
      "0             Bought This for My Son at College   \n",
      "1  Pure cocoa taste with crunchy almonds inside   \n",
      "\n",
      "                                                Text  \n",
      "0  My son loves spaghetti so I didn't hesitate or...  \n",
      "1  It was almost a 'love at first bite' - the per...  \n"
     ]
    }
   ],
   "source": [
    "duplicate_data= pd.read_sql_query(\"\"\"SELECT * FROM Reviews WHERE Score != 3 AND Id=44737 OR Id=64422 ORDER BY ProductID\"\"\", con)\n",
    "print(duplicate_data)"
   ]
  },
  {
   "cell_type": "code",
   "execution_count": 10,
   "metadata": {},
   "outputs": [
    {
     "name": "stdout",
     "output_type": "stream",
     "text": [
      "(364171, 10)\n"
     ]
    },
    {
     "data": {
      "text/plain": [
       "positive    307061\n",
       "negative     57110\n",
       "Name: Score, dtype: int64"
      ]
     },
     "execution_count": 10,
     "metadata": {},
     "output_type": "execute_result"
    }
   ],
   "source": [
    "#Dropping the data which has HelpfulnessNumerator<HelpfulnessDenominator which is impossible\n",
    "final=final[final.HelpfulnessNumerator<=final.HelpfulnessDenominator]\n",
    "#Before starting the next phase of preprocessing lets see the number of entries left\n",
    "print(final.shape)\n",
    "\n",
    "#How many positive and negative reviews are present in our dataset?\n",
    "final['Score'].value_counts()"
   ]
  },
  {
   "cell_type": "code",
   "execution_count": 11,
   "metadata": {},
   "outputs": [
    {
     "data": {
      "text/plain": [
       "69.25852107399194"
      ]
     },
     "execution_count": 11,
     "metadata": {},
     "output_type": "execute_result"
    }
   ],
   "source": [
    "#Checking to see how much % of data still remains\n",
    "(final['Id'].size*1.0)/(filtered_data['Id'].size*1.0)*100"
   ]
  },
  {
   "cell_type": "code",
   "execution_count": 12,
   "metadata": {},
   "outputs": [
    {
     "name": "stdout",
     "output_type": "stream",
     "text": [
      "(364171, 10)\n"
     ]
    }
   ],
   "source": [
    "print(final.shape)"
   ]
  },
  {
   "cell_type": "code",
   "execution_count": 13,
   "metadata": {},
   "outputs": [],
   "source": [
    "stop = set(stopwords.words('english')) #set of stopwords\n",
    "sno = nltk.stem.SnowballStemmer('english') #initialising the snowball stemmer\n",
    "\n",
    "def cleanhtml(sentence): #function to clean the word of any html-tags\n",
    "    cleanr = re.compile('<.*?>')\n",
    "    cleantext = re.sub(cleanr, ' ', sentence)\n",
    "    return cleantext\n",
    "def cleanpunc(sentence): #function to clean the word of any punctuation or special characters\n",
    "    cleaned = re.sub(r'[?|!|\\'|\"|#]',r'',sentence)\n",
    "    cleaned = re.sub(r'[.|,|)|(|\\|/]',r' ',cleaned)\n",
    "    return  cleaned"
   ]
  },
  {
   "cell_type": "code",
   "execution_count": 14,
   "metadata": {},
   "outputs": [
    {
     "name": "stderr",
     "output_type": "stream",
     "text": [
      "100%|█████████████████████████████████████████████████████████████████████████| 364171/364171 [09:00<00:00, 673.70it/s]\n"
     ]
    }
   ],
   "source": [
    "#Code for implementing step-by-step the checks mentioned in the pre-processing phase\n",
    "# this code takes a while to run as it needs to run on 500k sentences.\n",
    "from tqdm import tqdm\n",
    "i=0\n",
    "str1=' '\n",
    "final_string=[]\n",
    "all_positive_words=[] # store words from +ve reviews here\n",
    "all_negative_words=[] # store words from -ve reviews here.\n",
    "s=''\n",
    "for sent in tqdm(final['Text'].values):\n",
    "    filtered_sentence=[]\n",
    "    #print(sent);\n",
    "    sent=cleanhtml(sent) # remove HTMl tags\n",
    "    for w in sent.split():\n",
    "        for cleaned_words in cleanpunc(w).split():\n",
    "            if((cleaned_words.isalpha()) & (len(cleaned_words)>2)):    \n",
    "                if(cleaned_words.lower() not in stop):\n",
    "                    s=(sno.stem(cleaned_words.lower())).encode('utf8')\n",
    "                    filtered_sentence.append(s)\n",
    "                    if (final['Score'].values)[i] == 'positive': \n",
    "                        all_positive_words.append(s) #list of all words used to describe positive reviews\n",
    "                    if(final['Score'].values)[i] == 'negative':\n",
    "                        all_negative_words.append(s) #list of all words used to describe negative reviews reviews\n",
    "                else:\n",
    "                    continue\n",
    "            else:\n",
    "                continue \n",
    "    #print(filtered_sentence)\n",
    "    str1 = b\" \".join(filtered_sentence) #final string of cleaned words\n",
    "    #print(\"***********************************************************************\")\n",
    "    \n",
    "    final_string.append(str1)\n",
    "    i+=1"
   ]
  },
  {
   "cell_type": "code",
   "execution_count": 15,
   "metadata": {},
   "outputs": [
    {
     "data": {
      "text/html": [
       "<div>\n",
       "<style scoped>\n",
       "    .dataframe tbody tr th:only-of-type {\n",
       "        vertical-align: middle;\n",
       "    }\n",
       "\n",
       "    .dataframe tbody tr th {\n",
       "        vertical-align: top;\n",
       "    }\n",
       "\n",
       "    .dataframe thead th {\n",
       "        text-align: right;\n",
       "    }\n",
       "</style>\n",
       "<table border=\"1\" class=\"dataframe\">\n",
       "  <thead>\n",
       "    <tr style=\"text-align: right;\">\n",
       "      <th></th>\n",
       "      <th>Id</th>\n",
       "      <th>ProductId</th>\n",
       "      <th>UserId</th>\n",
       "      <th>ProfileName</th>\n",
       "      <th>HelpfulnessNumerator</th>\n",
       "      <th>HelpfulnessDenominator</th>\n",
       "      <th>Score</th>\n",
       "      <th>Time</th>\n",
       "      <th>Summary</th>\n",
       "      <th>Text</th>\n",
       "      <th>CleanedText</th>\n",
       "    </tr>\n",
       "  </thead>\n",
       "  <tbody>\n",
       "    <tr>\n",
       "      <th>138706</th>\n",
       "      <td>150524</td>\n",
       "      <td>0006641040</td>\n",
       "      <td>ACITT7DI6IDDL</td>\n",
       "      <td>shari zychinski</td>\n",
       "      <td>0</td>\n",
       "      <td>0</td>\n",
       "      <td>positive</td>\n",
       "      <td>939340800</td>\n",
       "      <td>EVERY book is educational</td>\n",
       "      <td>this witty little book makes my son laugh at l...</td>\n",
       "      <td>witti littl book make son laugh loud recit car...</td>\n",
       "    </tr>\n",
       "    <tr>\n",
       "      <th>138688</th>\n",
       "      <td>150506</td>\n",
       "      <td>0006641040</td>\n",
       "      <td>A2IW4PEEKO2R0U</td>\n",
       "      <td>Tracy</td>\n",
       "      <td>1</td>\n",
       "      <td>1</td>\n",
       "      <td>positive</td>\n",
       "      <td>1194739200</td>\n",
       "      <td>Love the book, miss the hard cover version</td>\n",
       "      <td>I grew up reading these Sendak books, and watc...</td>\n",
       "      <td>grew read sendak book watch realli rosi movi i...</td>\n",
       "    </tr>\n",
       "    <tr>\n",
       "      <th>138689</th>\n",
       "      <td>150507</td>\n",
       "      <td>0006641040</td>\n",
       "      <td>A1S4A3IQ2MU7V4</td>\n",
       "      <td>sally sue \"sally sue\"</td>\n",
       "      <td>1</td>\n",
       "      <td>1</td>\n",
       "      <td>positive</td>\n",
       "      <td>1191456000</td>\n",
       "      <td>chicken soup with rice months</td>\n",
       "      <td>This is a fun way for children to learn their ...</td>\n",
       "      <td>fun way children learn month year learn poem t...</td>\n",
       "    </tr>\n",
       "  </tbody>\n",
       "</table>\n",
       "</div>"
      ],
      "text/plain": [
       "            Id   ProductId          UserId            ProfileName  \\\n",
       "138706  150524  0006641040   ACITT7DI6IDDL        shari zychinski   \n",
       "138688  150506  0006641040  A2IW4PEEKO2R0U                  Tracy   \n",
       "138689  150507  0006641040  A1S4A3IQ2MU7V4  sally sue \"sally sue\"   \n",
       "\n",
       "        HelpfulnessNumerator  HelpfulnessDenominator     Score        Time  \\\n",
       "138706                     0                       0  positive   939340800   \n",
       "138688                     1                       1  positive  1194739200   \n",
       "138689                     1                       1  positive  1191456000   \n",
       "\n",
       "                                           Summary  \\\n",
       "138706                   EVERY book is educational   \n",
       "138688  Love the book, miss the hard cover version   \n",
       "138689               chicken soup with rice months   \n",
       "\n",
       "                                                     Text  \\\n",
       "138706  this witty little book makes my son laugh at l...   \n",
       "138688  I grew up reading these Sendak books, and watc...   \n",
       "138689  This is a fun way for children to learn their ...   \n",
       "\n",
       "                                              CleanedText  \n",
       "138706  witti littl book make son laugh loud recit car...  \n",
       "138688  grew read sendak book watch realli rosi movi i...  \n",
       "138689  fun way children learn month year learn poem t...  "
      ]
     },
     "execution_count": 15,
     "metadata": {},
     "output_type": "execute_result"
    }
   ],
   "source": [
    "final['CleanedText']=final_string #adding a column of CleanedText which displays the data after pre-processing of the review \n",
    "final['CleanedText']=final['CleanedText'].str.decode(\"utf-8\")\n",
    "final.head(3)"
   ]
  },
  {
   "cell_type": "code",
   "execution_count": 128,
   "metadata": {},
   "outputs": [
    {
     "data": {
      "text/plain": [
       "(364171, 11)"
      ]
     },
     "execution_count": 128,
     "metadata": {},
     "output_type": "execute_result"
    }
   ],
   "source": [
    "final.shape"
   ]
  },
  {
   "cell_type": "code",
   "execution_count": 129,
   "metadata": {},
   "outputs": [],
   "source": [
    "final_data=final.sort_values('Time', axis=0, ascending=True, inplace=False, kind='quicksort', na_position='last')"
   ]
  },
  {
   "cell_type": "code",
   "execution_count": 130,
   "metadata": {},
   "outputs": [
    {
     "name": "stdout",
     "output_type": "stream",
     "text": [
      "Data\n",
      "(264171, 11)\n",
      "(100000, 11)\n",
      "Label\n",
      "(264171,)\n",
      "(100000,)\n"
     ]
    }
   ],
   "source": [
    "X_train_data = final_data[:264171]\n",
    "X_test_data = final_data[264171:364171]\n",
    "y_train = X_train_data['Score']\n",
    "y_test = X_test_data['Score']\n",
    "print(\"Data\")\n",
    "print(X_train_data.shape)\n",
    "print(X_test_data.shape)\n",
    "print(\"Label\")\n",
    "print(y_train.shape)\n",
    "print(y_test.shape)"
   ]
  },
  {
   "cell_type": "markdown",
   "metadata": {},
   "source": [
    "# BOW"
   ]
  },
  {
   "cell_type": "code",
   "execution_count": 19,
   "metadata": {},
   "outputs": [
    {
     "name": "stdout",
     "output_type": "stream",
     "text": [
      "(264171, 60276)\n",
      "(100000, 60276)\n"
     ]
    }
   ],
   "source": [
    "count_vect = CountVectorizer()\n",
    "X_train = count_vect.fit_transform(X_train_data['CleanedText'])\n",
    "X_test = count_vect.transform(X_test_data['CleanedText'])\n",
    "print(X_train.shape)\n",
    "print(X_test.shape)"
   ]
  },
  {
   "cell_type": "code",
   "execution_count": 28,
   "metadata": {},
   "outputs": [
    {
     "name": "stderr",
     "output_type": "stream",
     "text": [
      "100%|██████████████████████████████████████████████████████████████████████████████████| 13/13 [01:53<00:00,  8.74s/it]\n"
     ]
    }
   ],
   "source": [
    "# Importing libraries\n",
    "from sklearn.naive_bayes import MultinomialNB\n",
    "from sklearn.model_selection import cross_val_score\n",
    "from sklearn.metrics import accuracy_score,confusion_matrix,f1_score,precision_score,recall_score\n",
    "\n",
    "# Creating alpha values in the range from 10^-3 to 10^3\n",
    "alpha = [] #creating empty list for alpha\n",
    "i = 0.001\n",
    "while(i<=1000):\n",
    "    alpha.append(np.round(i,3))\n",
    "    i *= 3\n",
    "\n",
    "# empty list cv_scores that will hold cross-validation scores\n",
    "cv_scores = []\n",
    "\n",
    "# performing 10-fold cross validation on train data\n",
    "for k in tqdm(alpha):\n",
    "    model = MultinomialNB(alpha = k)\n",
    "    scores = cross_val_score(model, X_train, y_train, cv=10, scoring='f1_macro', n_jobs=-1)\n",
    "    cv_scores.append(scores.mean()) "
   ]
  },
  {
   "cell_type": "code",
   "execution_count": 29,
   "metadata": {},
   "outputs": [
    {
     "name": "stdout",
     "output_type": "stream",
     "text": [
      "\n",
      "The optimal value of alpha is 0.729.\n"
     ]
    },
    {
     "data": {
      "image/png": "[encoded data removed]",
      "text/plain": [
       "<Figure size 432x288 with 1 Axes>"
      ]
     },
     "metadata": {
      "needs_background": "light"
     },
     "output_type": "display_data"
    },
    {
     "name": "stdout",
     "output_type": "stream",
     "text": [
      "\n",
      "*******Train Data Report******\n",
      "\n",
      "Alpha values :\n",
      " [0.001, 0.003, 0.009, 0.027, 0.081, 0.243, 0.729, 2.187, 6.561, 19.683, 59.049, 177.147, 531.441]\n",
      "\n",
      "F1 Score for each value of alpha :\n",
      "  [79.846 80.05  80.193 80.404 80.591 80.736 80.744 80.038 72.756 52.321\n",
      " 46.084 45.935 45.936]\n"
     ]
    }
   ],
   "source": [
    "# determining best value of alpha\n",
    "optimal_alpha = alpha[cv_scores.index(max(cv_scores))]\n",
    "print('\\nThe optimal value of alpha is %.3f.' % optimal_alpha)\n",
    "# plot accuracy vs alpha \n",
    "plt.plot(alpha, cv_scores)\n",
    "plt.xlabel('Value of alpha',size=10)\n",
    "plt.ylabel('Accuracy',size=10)\n",
    "plt.title('Accuracy VS Alpha Plot',size=16)\n",
    "plt.grid()\n",
    "plt.show()\n",
    "print(\"\\n*******Train Data Report******\");\n",
    "print(\"\\nAlpha values :\\n\",alpha)\n",
    "print(\"\\nF1 Score for each value of alpha :\\n \", np.round(cv_scores,5)*100)"
   ]
  },
  {
   "cell_type": "code",
   "execution_count": 30,
   "metadata": {},
   "outputs": [],
   "source": [
    "# instantiate learning model alpha = optimal_alpha\n",
    "model_bow_multinomial = MultinomialNB(alpha = optimal_alpha)\n",
    "\n",
    "# fitting the model\n",
    "model_bow_multinomial.fit(X_train,y_train)\n",
    "\n",
    "# predict the response\n",
    "pred = model_bow_multinomial.predict(X_test)"
   ]
  },
  {
   "cell_type": "code",
   "execution_count": 31,
   "metadata": {},
   "outputs": [
    {
     "name": "stdout",
     "output_type": "stream",
     "text": [
      "***Test Data Report***\n",
      "Accuracy =  89.513\n",
      "f1_score =  81.74891662072893\n",
      "precision_score =  81.75252123854102\n",
      "recall_score =  81.74531353243107\n"
     ]
    },
    {
     "data": {
      "image/png": "[encoded data removed]",
      "text/plain": [
       "<Figure size 432x288 with 2 Axes>"
      ]
     },
     "metadata": {
      "needs_background": "light"
     },
     "output_type": "display_data"
    }
   ],
   "source": [
    "print(\"***Test Data Report***\")\n",
    "print('Accuracy = ', accuracy_score(y_test, pred)*100)\n",
    "print(\"f1_score = \",f1_score(y_test, pred, average='macro')*100)\n",
    "print(\"precision_score = \",precision_score(y_test, pred, average='macro')*100)\n",
    "print(\"recall_score = \",recall_score(y_test, pred, average='macro')*100)\n",
    "skplt.metrics.plot_confusion_matrix(y_test, pred)\n",
    "plt.show()"
   ]
  },
  {
   "cell_type": "code",
   "execution_count": 32,
   "metadata": {},
   "outputs": [
    {
     "name": "stdout",
     "output_type": "stream",
     "text": [
      "TPR = 0.93650\n",
      "FPR = 0.30145\n",
      "TNR = 0.69855\n",
      "FNR = 0.06350\n"
     ]
    }
   ],
   "source": [
    "True_Negative, False_Negative, False_Positive, True_Positive = confusion_matrix(y_test, pred).ravel()\n",
    "\n",
    "Total_Positive = False_Negative + True_Positive\n",
    "Total_Negative = True_Negative + False_Positive\n",
    "\n",
    "TPR = True_Positive/Total_Positive \n",
    "FPR = False_Positive/Total_Negative\n",
    "TNR = True_Negative/Total_Negative\n",
    "FNR = False_Negative/ Total_Positive \n",
    "print(\"TPR = %.5f\"%(TPR))\n",
    "print(\"FPR = %.5f\"%(FPR))\n",
    "print(\"TNR = %.5f\"%(TNR))\n",
    "print(\"FNR = %.5f\"%(FNR))"
   ]
  },
  {
   "cell_type": "code",
   "execution_count": 35,
   "metadata": {},
   "outputs": [
    {
     "name": "stdout",
     "output_type": "stream",
     "text": [
      "Actual Data\n",
      "------------\n",
      "positive    82609\n",
      "negative    17391\n",
      "Name: Score, dtype: int64\n",
      "\n",
      "\n",
      "After Prediction\n",
      "------------\n",
      "Positive = 82614\n",
      "Negative = 17386\n"
     ]
    }
   ],
   "source": [
    "print(\"Actual Data\")\n",
    "print(\"------------\")\n",
    "print(X_test_data[\"Score\"].value_counts())\n",
    "print(\"\\n\")\n",
    "print(\"After Prediction\")\n",
    "print(\"------------\")\n",
    "print(\"Positive =\",Total_Positive)\n",
    "print(\"Negative =\",Total_Negative)"
   ]
  },
  {
   "cell_type": "code",
   "execution_count": 41,
   "metadata": {},
   "outputs": [
    {
     "name": "stdout",
     "output_type": "stream",
     "text": [
      "['negative' 'positive']\n"
     ]
    }
   ],
   "source": [
    "print(model_bow_multinomial.classes_)\n",
    "# Finding log probabilities\n",
    "class_feature = model_bow_multinomial.feature_log_prob_\n",
    "\n",
    "#  row_0 is for 'negative' class and row_1 is for 'positive' class\n",
    "negative_feature = class_feature[0]\n",
    "positive_feature = class_feature[1]\n",
    "\n",
    "# Getting all feature names from the count vectorizer\n",
    "feature_name = count_vect.get_feature_names()\n",
    "\n",
    "#sorting\n",
    "sorted_negative_feature = np.argsort(negative_feature)[::-1]\n",
    "sorted_positive_feature = np.argsort(positive_feature)[::-1]"
   ]
  },
  {
   "cell_type": "code",
   "execution_count": 42,
   "metadata": {},
   "outputs": [
    {
     "name": "stdout",
     "output_type": "stream",
     "text": [
      "Negative feature top 10 :\n",
      "-------\n",
      "tast\t -->\t-4.228348  \n",
      "like\t -->\t-4.308579  \n",
      "product\t -->\t-4.481159  \n",
      "one\t -->\t-4.754288  \n",
      "flavor\t -->\t-4.789130  \n",
      "would\t -->\t-4.900548  \n",
      "tri\t -->\t-4.905776  \n",
      "good\t -->\t-5.064903  \n",
      "coffe\t -->\t-5.092030  \n",
      "use\t -->\t-5.096412  \n",
      "\n",
      "Positive feature top 10 :\n",
      "-------\n",
      "like\t -->\t-4.440633  \n",
      "tast\t -->\t-4.510265  \n",
      "good\t -->\t-4.648948  \n",
      "flavor\t -->\t-4.667679  \n",
      "love\t -->\t-4.696167  \n",
      "great\t -->\t-4.719393  \n",
      "use\t -->\t-4.739908  \n",
      "one\t -->\t-4.795349  \n",
      "product\t -->\t-4.882274  \n",
      "tea\t -->\t-4.892647  \n"
     ]
    }
   ],
   "source": [
    "print(\"Negative feature top 10 :\")\n",
    "print(\"-------\")\n",
    "for i in list(sorted_negative_feature[0:10]):\n",
    "    print(\"%s\\t -->\\t%f  \"%(feature_name[i],negative_feature[i]))\n",
    "    \n",
    "print(\"\\nPositive feature top 10 :\")\n",
    "print(\"-------\")\n",
    "for i in list(sorted_positive_feature[0:10]):\n",
    "    print(\"%s\\t -->\\t%f  \"%(feature_name[i],positive_feature[i]))"
   ]
  },
  {
   "cell_type": "markdown",
   "metadata": {},
   "source": [
    "# TFIDF"
   ]
  },
  {
   "cell_type": "code",
   "execution_count": 131,
   "metadata": {},
   "outputs": [
    {
     "name": "stdout",
     "output_type": "stream",
     "text": [
      "(264171, 60276)\n",
      "(100000, 60276)\n"
     ]
    }
   ],
   "source": [
    "tf_idf_vect = TfidfVectorizer()\n",
    "X_train = tf_idf_vect.fit_transform(X_train_data['CleanedText'])\n",
    "X_test = tf_idf_vect.transform(X_test_data['CleanedText'])\n",
    "print(X_train.shape)\n",
    "print(X_test.shape)"
   ]
  },
  {
   "cell_type": "code",
   "execution_count": 132,
   "metadata": {},
   "outputs": [
    {
     "name": "stderr",
     "output_type": "stream",
     "text": [
      "100%|██████████████████████████████████████████████████████████████████████████████████| 13/13 [01:46<00:00,  8.20s/it]\n"
     ]
    }
   ],
   "source": [
    "# Importing libraries\n",
    "from sklearn.naive_bayes import MultinomialNB\n",
    "from sklearn.model_selection import cross_val_score\n",
    "from sklearn.metrics import accuracy_score,confusion_matrix,f1_score,precision_score,recall_score\n",
    "\n",
    "# Creating alpha values in the range from 10^-3 to 10^3\n",
    "alpha = [] #creating empty list for alpha\n",
    "i = 0.001\n",
    "while(i<=1000):\n",
    "    alpha.append(np.round(i,3))\n",
    "    i *= 3\n",
    "\n",
    "# empty list cv_scores that will hold cross-validation scores\n",
    "cv_scores = []\n",
    "\n",
    "# performing 10-fold cross validation on train data\n",
    "for k in tqdm(alpha):\n",
    "    model = MultinomialNB(alpha = k)\n",
    "    scores = cross_val_score(model, X_train, y_train, cv=10, scoring='f1_macro', n_jobs=-1)\n",
    "    cv_scores.append(scores.mean()) "
   ]
  },
  {
   "cell_type": "code",
   "execution_count": 133,
   "metadata": {},
   "outputs": [
    {
     "name": "stdout",
     "output_type": "stream",
     "text": [
      "\n",
      "The optimal value of alpha is 0.027.\n"
     ]
    },
    {
     "data": {
      "image/png": "[encoded data removed]",
      "text/plain": [
       "<Figure size 432x288 with 1 Axes>"
      ]
     },
     "metadata": {
      "needs_background": "light"
     },
     "output_type": "display_data"
    },
    {
     "name": "stdout",
     "output_type": "stream",
     "text": [
      "\n",
      "*******Train Data Report******\n",
      "\n",
      "Alpha values :\n",
      " [0.001, 0.003, 0.009, 0.027, 0.081, 0.243, 0.729, 2.187, 6.561, 19.683, 59.049, 177.147, 531.441]\n",
      "\n",
      "F1 Score for each value of alpha :\n",
      "  [66.261 66.435 66.632 66.704 66.201 63.724 56.72  47.862 45.969 45.935\n",
      " 45.936 45.936 45.936]\n"
     ]
    }
   ],
   "source": [
    "# determining best value of alpha\n",
    "optimal_alpha = alpha[cv_scores.index(max(cv_scores))]\n",
    "print('\\nThe optimal value of alpha is %.3f.' % optimal_alpha)\n",
    "# plot accuracy vs alpha \n",
    "plt.plot(alpha, cv_scores)\n",
    "plt.xlabel('Value of alpha',size=10)\n",
    "plt.ylabel('Accuracy',size=10)\n",
    "plt.title('Accuracy VS Alpha Plot',size=16)\n",
    "plt.grid()\n",
    "plt.show()\n",
    "print(\"\\n*******Train Data Report******\");\n",
    "print(\"\\nAlpha values :\\n\",alpha)\n",
    "print(\"\\nF1 Score for each value of alpha :\\n \", np.round(cv_scores,5)*100)"
   ]
  },
  {
   "cell_type": "code",
   "execution_count": 134,
   "metadata": {},
   "outputs": [],
   "source": [
    "# instantiate learning model alpha = optimal_alpha\n",
    "model_tfidf_multinomial = MultinomialNB(alpha = optimal_alpha)\n",
    "\n",
    "# fitting the model\n",
    "model_tfidf_multinomial.fit(X_train,y_train)\n",
    "\n",
    "# predict the response\n",
    "pred = model_tfidf_multinomial.predict(X_test)"
   ]
  },
  {
   "cell_type": "code",
   "execution_count": 135,
   "metadata": {},
   "outputs": [
    {
     "name": "stdout",
     "output_type": "stream",
     "text": [
      "***Test Data Report***\n",
      "Accuracy =  86.54899999999999\n",
      "f1_score =  66.39939123081\n",
      "precision_score =  87.28432391793031\n",
      "recall_score =  62.72361870673669\n"
     ]
    },
    {
     "data": {
      "image/png": "[encoded data removed]",
      "text/plain": [
       "<Figure size 432x288 with 2 Axes>"
      ]
     },
     "metadata": {
      "needs_background": "light"
     },
     "output_type": "display_data"
    }
   ],
   "source": [
    "print(\"***Test Data Report***\")\n",
    "print('Accuracy = ', accuracy_score(y_test, pred)*100)\n",
    "print(\"f1_score = \",f1_score(y_test, pred, average='macro')*100)\n",
    "print(\"precision_score = \",precision_score(y_test, pred, average='macro')*100)\n",
    "print(\"recall_score = \",recall_score(y_test, pred, average='macro')*100)\n",
    "skplt.metrics.plot_confusion_matrix(y_test, pred)\n",
    "plt.show()"
   ]
  },
  {
   "cell_type": "code",
   "execution_count": 136,
   "metadata": {},
   "outputs": [
    {
     "name": "stdout",
     "output_type": "stream",
     "text": [
      "TPR = 0.86464\n",
      "FPR = 0.11896\n",
      "TNR = 0.88104\n",
      "FNR = 0.13536\n"
     ]
    }
   ],
   "source": [
    "True_Negative, False_Negative, False_Positive, True_Positive = confusion_matrix(y_test, pred).ravel()\n",
    "\n",
    "Total_Positive = False_Negative + True_Positive\n",
    "Total_Negative = True_Negative + False_Positive\n",
    "\n",
    "TPR = True_Positive/Total_Positive \n",
    "FPR = False_Positive/Total_Negative\n",
    "TNR = True_Negative/Total_Negative\n",
    "FNR = False_Negative/ Total_Positive \n",
    "print(\"TPR = %.5f\"%(TPR))\n",
    "print(\"FPR = %.5f\"%(FPR))\n",
    "print(\"TNR = %.5f\"%(TNR))\n",
    "print(\"FNR = %.5f\"%(FNR))"
   ]
  },
  {
   "cell_type": "code",
   "execution_count": 137,
   "metadata": {},
   "outputs": [
    {
     "name": "stdout",
     "output_type": "stream",
     "text": [
      "Actual Data\n",
      "------------\n",
      "positive    82609\n",
      "negative    17391\n",
      "Name: Score, dtype: int64\n",
      "\n",
      "\n",
      "After Prediction\n",
      "------------\n",
      "Positive = 94830\n",
      "Negative = 5170\n"
     ]
    }
   ],
   "source": [
    "print(\"Actual Data\")\n",
    "print(\"------------\")\n",
    "print(X_test_data[\"Score\"].value_counts())\n",
    "print(\"\\n\")\n",
    "print(\"After Prediction\")\n",
    "print(\"------------\")\n",
    "print(\"Positive =\",Total_Positive)\n",
    "print(\"Negative =\",Total_Negative)"
   ]
  },
  {
   "cell_type": "code",
   "execution_count": 140,
   "metadata": {},
   "outputs": [
    {
     "name": "stdout",
     "output_type": "stream",
     "text": [
      "['negative' 'positive']\n"
     ]
    }
   ],
   "source": [
    "print(model_tfidf_multinomial.classes_)\n",
    "# Finding log probabilities\n",
    "class_feature = model_tfidf_multinomial.feature_log_prob_\n",
    "\n",
    "#  row_0 is for 'negative' class and row_1 is for 'positive' class\n",
    "negative_feature = class_feature[0]\n",
    "positive_feature = class_feature[1]\n",
    "\n",
    "# Getting all feature names from the count vectorizer\n",
    "feature_name = tf_idf_vect.get_feature_names()\n",
    "\n",
    "#sorting\n",
    "sorted_negative_feature = np.argsort(negative_feature)[::-1]\n",
    "sorted_positive_feature = np.argsort(positive_feature)[::-1]"
   ]
  },
  {
   "cell_type": "code",
   "execution_count": 143,
   "metadata": {},
   "outputs": [
    {
     "name": "stdout",
     "output_type": "stream",
     "text": [
      "Negative feature top 10 :\n",
      "-------\n",
      "tast\t -->\t-4.835084  \n",
      "like\t -->\t-4.987042  \n",
      "product\t -->\t-5.036189  \n",
      "would\t -->\t-5.326079  \n",
      "flavor\t -->\t-5.343088  \n",
      "coffe\t -->\t-5.359105  \n",
      "one\t -->\t-5.376012  \n",
      "tri\t -->\t-5.473543  \n",
      "buy\t -->\t-5.495681  \n",
      "order\t -->\t-5.504335  \n",
      "\n",
      "Positive feature top 10 :\n",
      "-------\n",
      "great\t -->\t-5.064847  \n",
      "love\t -->\t-5.077613  \n",
      "tast\t -->\t-5.140636  \n",
      "good\t -->\t-5.142874  \n",
      "like\t -->\t-5.158900  \n",
      "tea\t -->\t-5.177470  \n",
      "flavor\t -->\t-5.214627  \n",
      "coffe\t -->\t-5.246916  \n",
      "product\t -->\t-5.317709  \n",
      "use\t -->\t-5.332519  \n"
     ]
    }
   ],
   "source": [
    "print(\"Negative feature top 10 :\")\n",
    "print(\"-------\")\n",
    "for i in list(sorted_negative_feature[0:10]):\n",
    "    print(\"%s\\t -->\\t%f  \"%(feature_name[i],negative_feature[i]))\n",
    "    \n",
    "print(\"\\nPositive feature top 10 :\")\n",
    "print(\"-------\")\n",
    "for i in list(sorted_positive_feature[0:10]):\n",
    "    print(\"%s\\t -->\\t%f  \"%(feature_name[i],positive_feature[i]))"
   ]
  },
  {
   "cell_type": "markdown",
   "metadata": {},
   "source": [
    "### Trying to improve the percentageof each scores by adding words from summary to text and then again performing the bow and tfidf techniques"
   ]
  },
  {
   "cell_type": "code",
   "execution_count": 148,
   "metadata": {},
   "outputs": [],
   "source": [
    "#Again"
   ]
  },
  {
   "cell_type": "code",
   "execution_count": 149,
   "metadata": {},
   "outputs": [
    {
     "data": {
      "text/plain": [
       "(364171, 11)"
      ]
     },
     "execution_count": 149,
     "metadata": {},
     "output_type": "execute_result"
    }
   ],
   "source": [
    "final_data.shape"
   ]
  },
  {
   "cell_type": "code",
   "execution_count": 150,
   "metadata": {},
   "outputs": [
    {
     "data": {
      "text/html": [
       "<div>\n",
       "<style scoped>\n",
       "    .dataframe tbody tr th:only-of-type {\n",
       "        vertical-align: middle;\n",
       "    }\n",
       "\n",
       "    .dataframe tbody tr th {\n",
       "        vertical-align: top;\n",
       "    }\n",
       "\n",
       "    .dataframe thead th {\n",
       "        text-align: right;\n",
       "    }\n",
       "</style>\n",
       "<table border=\"1\" class=\"dataframe\">\n",
       "  <thead>\n",
       "    <tr style=\"text-align: right;\">\n",
       "      <th></th>\n",
       "      <th>Id</th>\n",
       "      <th>ProductId</th>\n",
       "      <th>UserId</th>\n",
       "      <th>ProfileName</th>\n",
       "      <th>HelpfulnessNumerator</th>\n",
       "      <th>HelpfulnessDenominator</th>\n",
       "      <th>Score</th>\n",
       "      <th>Time</th>\n",
       "      <th>Summary</th>\n",
       "      <th>Text</th>\n",
       "      <th>CleanedText</th>\n",
       "    </tr>\n",
       "  </thead>\n",
       "  <tbody>\n",
       "    <tr>\n",
       "      <th>138706</th>\n",
       "      <td>150524</td>\n",
       "      <td>0006641040</td>\n",
       "      <td>ACITT7DI6IDDL</td>\n",
       "      <td>shari zychinski</td>\n",
       "      <td>0</td>\n",
       "      <td>0</td>\n",
       "      <td>positive</td>\n",
       "      <td>939340800</td>\n",
       "      <td>EVERY book is educational</td>\n",
       "      <td>this witty little book makes my son laugh at l...</td>\n",
       "      <td>witti littl book make son laugh loud recit car...</td>\n",
       "    </tr>\n",
       "    <tr>\n",
       "      <th>138683</th>\n",
       "      <td>150501</td>\n",
       "      <td>0006641040</td>\n",
       "      <td>AJ46FKXOVC7NR</td>\n",
       "      <td>Nicholas A Mesiano</td>\n",
       "      <td>2</td>\n",
       "      <td>2</td>\n",
       "      <td>positive</td>\n",
       "      <td>940809600</td>\n",
       "      <td>This whole series is great way to spend time w...</td>\n",
       "      <td>I can remember seeing the show when it aired o...</td>\n",
       "      <td>rememb see show air televis year ago child sis...</td>\n",
       "    </tr>\n",
       "  </tbody>\n",
       "</table>\n",
       "</div>"
      ],
      "text/plain": [
       "            Id   ProductId         UserId         ProfileName  \\\n",
       "138706  150524  0006641040  ACITT7DI6IDDL     shari zychinski   \n",
       "138683  150501  0006641040  AJ46FKXOVC7NR  Nicholas A Mesiano   \n",
       "\n",
       "        HelpfulnessNumerator  HelpfulnessDenominator     Score       Time  \\\n",
       "138706                     0                       0  positive  939340800   \n",
       "138683                     2                       2  positive  940809600   \n",
       "\n",
       "                                                  Summary  \\\n",
       "138706                          EVERY book is educational   \n",
       "138683  This whole series is great way to spend time w...   \n",
       "\n",
       "                                                     Text  \\\n",
       "138706  this witty little book makes my son laugh at l...   \n",
       "138683  I can remember seeing the show when it aired o...   \n",
       "\n",
       "                                              CleanedText  \n",
       "138706  witti littl book make son laugh loud recit car...  \n",
       "138683  rememb see show air televis year ago child sis...  "
      ]
     },
     "execution_count": 150,
     "metadata": {},
     "output_type": "execute_result"
    }
   ],
   "source": [
    "final_data.head(2)"
   ]
  },
  {
   "cell_type": "code",
   "execution_count": 151,
   "metadata": {},
   "outputs": [],
   "source": [
    "final_data[\"Combined_Text\"] = final_data['Text'] + ' ' + final_data['Summary']"
   ]
  },
  {
   "cell_type": "code",
   "execution_count": 152,
   "metadata": {},
   "outputs": [
    {
     "name": "stdout",
     "output_type": "stream",
     "text": [
      "*Text* ::  I have bought several of the Vitality canned dog food products and have found them all to be of good quality. The product looks more like a stew than a processed meat and it smells better. My Labrador is finicky and she appreciates this product better than  most.\n",
      "*Summary* ::  Good Quality Dog Food\n",
      "*Combined* ::  I have bought several of the Vitality canned dog food products and have found them all to be of good quality. The product looks more like a stew than a processed meat and it smells better. My Labrador is finicky and she appreciates this product better than  most. Good Quality Dog Food\n"
     ]
    }
   ],
   "source": [
    "print(\"*Text* :: \",final_data['Text'][0])\n",
    "print(\"*Summary* :: \",final_data['Summary'][0])\n",
    "print(\"*Combined* :: \",final_data[\"Combined_Text\"][0])\n"
   ]
  },
  {
   "cell_type": "code",
   "execution_count": 153,
   "metadata": {},
   "outputs": [
    {
     "name": "stderr",
     "output_type": "stream",
     "text": [
      "100%|█████████████████████████████████████████████████████████████████████████| 364171/364171 [09:41<00:00, 626.39it/s]\n"
     ]
    }
   ],
   "source": [
    "#Code for implementing step-by-step the checks mentioned in the pre-processing phase\n",
    "# this code takes a while to run as it needs to run on 500k sentences.\n",
    "from tqdm import tqdm\n",
    "i=0\n",
    "str1=' '\n",
    "final_string=[]\n",
    "all_positive_words=[] # store words from +ve reviews here\n",
    "all_negative_words=[] # store words from -ve reviews here.\n",
    "s=''\n",
    "for sent in tqdm(final_data['Combined_Text'].values):\n",
    "    filtered_sentence=[]\n",
    "    #print(sent);\n",
    "    sent=cleanhtml(sent) # remove HTMl tags\n",
    "    for w in sent.split():\n",
    "        for cleaned_words in cleanpunc(w).split():\n",
    "            if((cleaned_words.isalpha()) & (len(cleaned_words)>2)):    \n",
    "                if(cleaned_words.lower() not in stop):\n",
    "                    s=(sno.stem(cleaned_words.lower())).encode('utf8')\n",
    "                    filtered_sentence.append(s)\n",
    "                    if (final['Score'].values)[i] == 'positive': \n",
    "                        all_positive_words.append(s) #list of all words used to describe positive reviews\n",
    "                    if(final['Score'].values)[i] == 'negative':\n",
    "                        all_negative_words.append(s) #list of all words used to describe negative reviews reviews\n",
    "                else:\n",
    "                    continue\n",
    "            else:\n",
    "                continue \n",
    "    #print(filtered_sentence)\n",
    "    str1 = b\" \".join(filtered_sentence) #final string of cleaned words\n",
    "    #print(\"***********************************************************************\")\n",
    "    \n",
    "    final_string.append(str1)\n",
    "    i+=1"
   ]
  },
  {
   "cell_type": "code",
   "execution_count": 154,
   "metadata": {},
   "outputs": [
    {
     "data": {
      "text/html": [
       "<div>\n",
       "<style scoped>\n",
       "    .dataframe tbody tr th:only-of-type {\n",
       "        vertical-align: middle;\n",
       "    }\n",
       "\n",
       "    .dataframe tbody tr th {\n",
       "        vertical-align: top;\n",
       "    }\n",
       "\n",
       "    .dataframe thead th {\n",
       "        text-align: right;\n",
       "    }\n",
       "</style>\n",
       "<table border=\"1\" class=\"dataframe\">\n",
       "  <thead>\n",
       "    <tr style=\"text-align: right;\">\n",
       "      <th></th>\n",
       "      <th>Id</th>\n",
       "      <th>ProductId</th>\n",
       "      <th>UserId</th>\n",
       "      <th>ProfileName</th>\n",
       "      <th>HelpfulnessNumerator</th>\n",
       "      <th>HelpfulnessDenominator</th>\n",
       "      <th>Score</th>\n",
       "      <th>Time</th>\n",
       "      <th>Summary</th>\n",
       "      <th>Text</th>\n",
       "      <th>CleanedText</th>\n",
       "      <th>Combined_Text</th>\n",
       "      <th>Cleaned_combined</th>\n",
       "    </tr>\n",
       "  </thead>\n",
       "  <tbody>\n",
       "    <tr>\n",
       "      <th>138706</th>\n",
       "      <td>150524</td>\n",
       "      <td>0006641040</td>\n",
       "      <td>ACITT7DI6IDDL</td>\n",
       "      <td>shari zychinski</td>\n",
       "      <td>0</td>\n",
       "      <td>0</td>\n",
       "      <td>positive</td>\n",
       "      <td>939340800</td>\n",
       "      <td>EVERY book is educational</td>\n",
       "      <td>this witty little book makes my son laugh at l...</td>\n",
       "      <td>witti littl book make son laugh loud recit car...</td>\n",
       "      <td>this witty little book makes my son laugh at l...</td>\n",
       "      <td>witti littl book make son laugh loud recit car...</td>\n",
       "    </tr>\n",
       "    <tr>\n",
       "      <th>138683</th>\n",
       "      <td>150501</td>\n",
       "      <td>0006641040</td>\n",
       "      <td>AJ46FKXOVC7NR</td>\n",
       "      <td>Nicholas A Mesiano</td>\n",
       "      <td>2</td>\n",
       "      <td>2</td>\n",
       "      <td>positive</td>\n",
       "      <td>940809600</td>\n",
       "      <td>This whole series is great way to spend time w...</td>\n",
       "      <td>I can remember seeing the show when it aired o...</td>\n",
       "      <td>rememb see show air televis year ago child sis...</td>\n",
       "      <td>I can remember seeing the show when it aired o...</td>\n",
       "      <td>rememb see show air televis year ago child sis...</td>\n",
       "    </tr>\n",
       "    <tr>\n",
       "      <th>417839</th>\n",
       "      <td>451856</td>\n",
       "      <td>B00004CXX9</td>\n",
       "      <td>AIUWLEQ1ADEG5</td>\n",
       "      <td>Elizabeth Medina</td>\n",
       "      <td>0</td>\n",
       "      <td>0</td>\n",
       "      <td>positive</td>\n",
       "      <td>944092800</td>\n",
       "      <td>Entertainingl Funny!</td>\n",
       "      <td>Beetlejuice is a well written movie ..... ever...</td>\n",
       "      <td>beetlejuic well written movi everyth excel act...</td>\n",
       "      <td>Beetlejuice is a well written movie ..... ever...</td>\n",
       "      <td>beetlejuic well written movi everyth excel act...</td>\n",
       "    </tr>\n",
       "  </tbody>\n",
       "</table>\n",
       "</div>"
      ],
      "text/plain": [
       "            Id   ProductId         UserId         ProfileName  \\\n",
       "138706  150524  0006641040  ACITT7DI6IDDL     shari zychinski   \n",
       "138683  150501  0006641040  AJ46FKXOVC7NR  Nicholas A Mesiano   \n",
       "417839  451856  B00004CXX9  AIUWLEQ1ADEG5    Elizabeth Medina   \n",
       "\n",
       "        HelpfulnessNumerator  HelpfulnessDenominator     Score       Time  \\\n",
       "138706                     0                       0  positive  939340800   \n",
       "138683                     2                       2  positive  940809600   \n",
       "417839                     0                       0  positive  944092800   \n",
       "\n",
       "                                                  Summary  \\\n",
       "138706                          EVERY book is educational   \n",
       "138683  This whole series is great way to spend time w...   \n",
       "417839                               Entertainingl Funny!   \n",
       "\n",
       "                                                     Text  \\\n",
       "138706  this witty little book makes my son laugh at l...   \n",
       "138683  I can remember seeing the show when it aired o...   \n",
       "417839  Beetlejuice is a well written movie ..... ever...   \n",
       "\n",
       "                                              CleanedText  \\\n",
       "138706  witti littl book make son laugh loud recit car...   \n",
       "138683  rememb see show air televis year ago child sis...   \n",
       "417839  beetlejuic well written movi everyth excel act...   \n",
       "\n",
       "                                            Combined_Text  \\\n",
       "138706  this witty little book makes my son laugh at l...   \n",
       "138683  I can remember seeing the show when it aired o...   \n",
       "417839  Beetlejuice is a well written movie ..... ever...   \n",
       "\n",
       "                                         Cleaned_combined  \n",
       "138706  witti littl book make son laugh loud recit car...  \n",
       "138683  rememb see show air televis year ago child sis...  \n",
       "417839  beetlejuic well written movi everyth excel act...  "
      ]
     },
     "execution_count": 154,
     "metadata": {},
     "output_type": "execute_result"
    }
   ],
   "source": [
    "final_data['Cleaned_combined']=final_string #adding a column of Cleaned_combined which displays the data after pre-processing of the review \n",
    "final_data['Cleaned_combined']=final_data['Cleaned_combined'].str.decode(\"utf-8\")\n",
    "final_data.head(3)"
   ]
  },
  {
   "cell_type": "code",
   "execution_count": 155,
   "metadata": {},
   "outputs": [
    {
     "name": "stdout",
     "output_type": "stream",
     "text": [
      "Data\n",
      "(264171, 13)\n",
      "(100000, 13)\n",
      "Label\n",
      "(264171,)\n",
      "(100000,)\n"
     ]
    }
   ],
   "source": [
    "X_train_data = final_data[:264171]\n",
    "X_test_data = final_data[264171:364171]\n",
    "y_train = X_train_data['Score']\n",
    "y_test = X_test_data['Score']\n",
    "print(\"Data\")\n",
    "print(X_train_data.shape)\n",
    "print(X_test_data.shape)\n",
    "print(\"Label\")\n",
    "print(y_train.shape)\n",
    "print(y_test.shape)"
   ]
  },
  {
   "cell_type": "markdown",
   "metadata": {},
   "source": [
    "# BOW"
   ]
  },
  {
   "cell_type": "code",
   "execution_count": 172,
   "metadata": {},
   "outputs": [
    {
     "name": "stdout",
     "output_type": "stream",
     "text": [
      "(264171, 63890)\n",
      "(100000, 63890)\n"
     ]
    }
   ],
   "source": [
    "count_vect = CountVectorizer()\n",
    "X_train = count_vect.fit_transform(X_train_data['Cleaned_combined'])\n",
    "X_test = count_vect.transform(X_test_data['Cleaned_combined'])\n",
    "print(X_train.shape)\n",
    "print(X_test.shape)"
   ]
  },
  {
   "cell_type": "code",
   "execution_count": 173,
   "metadata": {},
   "outputs": [
    {
     "name": "stderr",
     "output_type": "stream",
     "text": [
      "100%|██████████████████████████████████████████████████████████████████████████████████| 13/13 [02:02<00:00,  9.56s/it]\n"
     ]
    }
   ],
   "source": [
    "# Importing libraries\n",
    "from sklearn.naive_bayes import MultinomialNB\n",
    "from sklearn.model_selection import cross_val_score\n",
    "from sklearn.metrics import accuracy_score,confusion_matrix,f1_score,precision_score,recall_score\n",
    "\n",
    "# Creating alpha values in the range from 10^-3 to 10^3\n",
    "alpha = [] #creating empty list for alpha\n",
    "i = 0.001\n",
    "while(i<=1000):\n",
    "    alpha.append(np.round(i,3))\n",
    "    i *= 3\n",
    "\n",
    "# empty list cv_scores that will hold cross-validation scores\n",
    "cv_scores = []\n",
    "\n",
    "# performing 10-fold cross validation on train data\n",
    "for k in tqdm(alpha):\n",
    "    model = MultinomialNB(alpha = k)\n",
    "    scores = cross_val_score(model, X_train, y_train, cv=10, scoring='f1_macro', n_jobs=-1)\n",
    "    cv_scores.append(scores.mean()) "
   ]
  },
  {
   "cell_type": "code",
   "execution_count": 174,
   "metadata": {},
   "outputs": [
    {
     "name": "stdout",
     "output_type": "stream",
     "text": [
      "\n",
      "The optimal value of alpha is 0.729.\n"
     ]
    },
    {
     "data": {
      "image/png": "[encoded data removed]",
      "text/plain": [
       "<Figure size 432x288 with 1 Axes>"
      ]
     },
     "metadata": {
      "needs_background": "light"
     },
     "output_type": "display_data"
    },
    {
     "name": "stdout",
     "output_type": "stream",
     "text": [
      "\n",
      "*******Train Data Report******\n",
      "\n",
      "Alpha values :\n",
      " [0.001, 0.003, 0.009, 0.027, 0.081, 0.243, 0.729, 2.187, 6.561, 19.683, 59.049, 177.147, 531.441]\n",
      "\n",
      "F1 Score for each value of alpha :\n",
      "  [82.435 82.626 82.812 83.012 83.178 83.294 83.383 83.083 77.168 56.069\n",
      " 46.351 45.936 45.936]\n"
     ]
    }
   ],
   "source": [
    "# determining best value of alpha\n",
    "optimal_alpha = alpha[cv_scores.index(max(cv_scores))]\n",
    "print('\\nThe optimal value of alpha is %.3f.' % optimal_alpha)\n",
    "# plot accuracy vs alpha \n",
    "plt.plot(alpha, cv_scores)\n",
    "plt.xlabel('Value of alpha',size=10)\n",
    "plt.ylabel('Accuracy',size=10)\n",
    "plt.title('Accuracy VS Alpha Plot',size=16)\n",
    "plt.grid()\n",
    "plt.show()\n",
    "print(\"\\n*******Train Data Report******\");\n",
    "print(\"\\nAlpha values :\\n\",alpha)\n",
    "print(\"\\nF1 Score for each value of alpha :\\n \", np.round(cv_scores,5)*100)"
   ]
  },
  {
   "cell_type": "code",
   "execution_count": 175,
   "metadata": {},
   "outputs": [],
   "source": [
    "# instantiate learning model alpha = optimal_alpha\n",
    "model_bow_multinomial = MultinomialNB(alpha = optimal_alpha)\n",
    "\n",
    "# fitting the model\n",
    "model_bow_multinomial.fit(X_train,y_train)\n",
    "\n",
    "# predict the response\n",
    "pred = model_bow_multinomial.predict(X_test)"
   ]
  },
  {
   "cell_type": "code",
   "execution_count": 176,
   "metadata": {},
   "outputs": [
    {
     "name": "stdout",
     "output_type": "stream",
     "text": [
      "***Test Data Report***\n",
      "Accuracy =  90.813\n",
      "f1_score =  84.27198358700288\n",
      "precision_score =  83.73654683373397\n",
      "recall_score =  84.84052854375908\n"
     ]
    },
    {
     "data": {
      "image/png": "[encoded data removed]",
      "text/plain": [
       "<Figure size 432x288 with 2 Axes>"
      ]
     },
     "metadata": {
      "needs_background": "light"
     },
     "output_type": "display_data"
    }
   ],
   "source": [
    "print(\"***Test Data Report***\")\n",
    "print('Accuracy = ', accuracy_score(y_test, pred)*100)\n",
    "print(\"f1_score = \",f1_score(y_test, pred, average='macro')*100)\n",
    "print(\"precision_score = \",precision_score(y_test, pred, average='macro')*100)\n",
    "print(\"recall_score = \",recall_score(y_test, pred, average='macro')*100)\n",
    "skplt.metrics.plot_confusion_matrix(y_test, pred)\n",
    "plt.show()"
   ]
  },
  {
   "cell_type": "code",
   "execution_count": 177,
   "metadata": {},
   "outputs": [
    {
     "name": "stdout",
     "output_type": "stream",
     "text": [
      "TPR = 0.94835\n",
      "FPR = 0.27362\n",
      "TNR = 0.72638\n",
      "FNR = 0.05165\n"
     ]
    }
   ],
   "source": [
    "True_Negative, False_Negative, False_Positive, True_Positive = confusion_matrix(y_test, pred).ravel()\n",
    "\n",
    "Total_Positive = False_Negative + True_Positive\n",
    "Total_Negative = True_Negative + False_Positive\n",
    "\n",
    "TPR = True_Positive/Total_Positive \n",
    "FPR = False_Positive/Total_Negative\n",
    "TNR = True_Negative/Total_Negative\n",
    "FNR = False_Negative/ Total_Positive \n",
    "print(\"TPR = %.5f\"%(TPR))\n",
    "print(\"FPR = %.5f\"%(FPR))\n",
    "print(\"TNR = %.5f\"%(TNR))\n",
    "print(\"FNR = %.5f\"%(FNR))"
   ]
  },
  {
   "cell_type": "code",
   "execution_count": 178,
   "metadata": {},
   "outputs": [
    {
     "name": "stdout",
     "output_type": "stream",
     "text": [
      "Actual Data\n",
      "------------\n",
      "positive    82609\n",
      "negative    17391\n",
      "Name: Score, dtype: int64\n",
      "\n",
      "\n",
      "After Prediction\n",
      "------------\n",
      "Positive = 81880\n",
      "Negative = 18120\n"
     ]
    }
   ],
   "source": [
    "print(\"Actual Data\")\n",
    "print(\"------------\")\n",
    "print(X_test_data[\"Score\"].value_counts())\n",
    "print(\"\\n\")\n",
    "print(\"After Prediction\")\n",
    "print(\"------------\")\n",
    "print(\"Positive =\",Total_Positive)\n",
    "print(\"Negative =\",Total_Negative)"
   ]
  },
  {
   "cell_type": "code",
   "execution_count": 179,
   "metadata": {},
   "outputs": [
    {
     "name": "stdout",
     "output_type": "stream",
     "text": [
      "['negative' 'positive']\n"
     ]
    }
   ],
   "source": [
    "print(model_bow_multinomial.classes_)\n",
    "# Finding log probabilities\n",
    "class_feature = model_bow_multinomial.feature_log_prob_\n",
    "\n",
    "#  row_0 is for 'negative' class and row_1 is for 'positive' class\n",
    "negative_feature = class_feature[0]\n",
    "positive_feature = class_feature[1]\n",
    "\n",
    "# Getting all feature names from the count vectorizer\n",
    "feature_name = count_vect.get_feature_names()\n",
    "\n",
    "#sorting\n",
    "sorted_negative_feature = np.argsort(negative_feature)[::-1]\n",
    "sorted_positive_feature = np.argsort(positive_feature)[::-1]"
   ]
  },
  {
   "cell_type": "code",
   "execution_count": 180,
   "metadata": {},
   "outputs": [
    {
     "name": "stdout",
     "output_type": "stream",
     "text": [
      "Negative feature top 10 :\n",
      "-------\n",
      "tast\t -->\t-4.176562  \n",
      "like\t -->\t-4.296535  \n",
      "product\t -->\t-4.479295  \n",
      "flavor\t -->\t-4.767179  \n",
      "one\t -->\t-4.788565  \n",
      "would\t -->\t-4.943865  \n",
      "tri\t -->\t-4.953348  \n",
      "good\t -->\t-4.966215  \n",
      "coffe\t -->\t-5.068428  \n",
      "use\t -->\t-5.125153  \n",
      "\n",
      "Positive feature top 10 :\n",
      "-------\n",
      "great\t -->\t-4.418422  \n",
      "like\t -->\t-4.467804  \n",
      "tast\t -->\t-4.477669  \n",
      "good\t -->\t-4.487088  \n",
      "love\t -->\t-4.579291  \n",
      "flavor\t -->\t-4.665427  \n",
      "use\t -->\t-4.791853  \n",
      "tea\t -->\t-4.816060  \n",
      "product\t -->\t-4.830119  \n",
      "one\t -->\t-4.835603  \n"
     ]
    }
   ],
   "source": [
    "print(\"Negative feature top 10 :\")\n",
    "print(\"-------\")\n",
    "for i in list(sorted_negative_feature[0:10]):\n",
    "    print(\"%s\\t -->\\t%f  \"%(feature_name[i],negative_feature[i]))\n",
    "    \n",
    "print(\"\\nPositive feature top 10 :\")\n",
    "print(\"-------\")\n",
    "for i in list(sorted_positive_feature[0:10]):\n",
    "    print(\"%s\\t -->\\t%f  \"%(feature_name[i],positive_feature[i]))"
   ]
  },
  {
   "cell_type": "markdown",
   "metadata": {},
   "source": [
    "# TFIDF"
   ]
  },
  {
   "cell_type": "code",
   "execution_count": 156,
   "metadata": {},
   "outputs": [
    {
     "name": "stdout",
     "output_type": "stream",
     "text": [
      "(264171, 63890)\n",
      "(100000, 63890)\n"
     ]
    }
   ],
   "source": [
    "tf_idf_vect = TfidfVectorizer()\n",
    "X_train = tf_idf_vect.fit_transform(X_train_data['Cleaned_combined'])\n",
    "X_test = tf_idf_vect.transform(X_test_data['Cleaned_combined'])\n",
    "print(X_train.shape)\n",
    "print(X_test.shape)"
   ]
  },
  {
   "cell_type": "code",
   "execution_count": 157,
   "metadata": {},
   "outputs": [
    {
     "name": "stderr",
     "output_type": "stream",
     "text": [
      "100%|██████████████████████████████████████████████████████████████████████████████████| 13/13 [01:47<00:00,  8.15s/it]\n"
     ]
    }
   ],
   "source": [
    "# Importing libraries\n",
    "from sklearn.naive_bayes import MultinomialNB\n",
    "from sklearn.model_selection import cross_val_score\n",
    "from sklearn.metrics import accuracy_score,confusion_matrix,f1_score,precision_score,recall_score\n",
    "\n",
    "# Creating alpha values in the range from 10^-3 to 10^3\n",
    "alpha = [] #creating empty list for alpha\n",
    "i = 0.001\n",
    "while(i<=1000):\n",
    "    alpha.append(np.round(i,3))\n",
    "    i *= 3\n",
    "\n",
    "# empty list cv_scores that will hold cross-validation scores\n",
    "cv_scores = []\n",
    "\n",
    "# performing 10-fold cross validation on train data\n",
    "for k in tqdm(alpha):\n",
    "    model = MultinomialNB(alpha = k)\n",
    "    scores = cross_val_score(model, X_train, y_train, cv=10, scoring='f1_macro', n_jobs=-1)\n",
    "    cv_scores.append(scores.mean()) "
   ]
  },
  {
   "cell_type": "code",
   "execution_count": 158,
   "metadata": {},
   "outputs": [
    {
     "name": "stdout",
     "output_type": "stream",
     "text": [
      "\n",
      "The optimal value of alpha is 0.027.\n"
     ]
    },
    {
     "data": {
      "image/png": "[encoded data removed]",
      "text/plain": [
       "<Figure size 432x288 with 1 Axes>"
      ]
     },
     "metadata": {
      "needs_background": "light"
     },
     "output_type": "display_data"
    },
    {
     "name": "stdout",
     "output_type": "stream",
     "text": [
      "\n",
      "*******Train Data Report******\n",
      "\n",
      "Alpha values :\n",
      " [0.001, 0.003, 0.009, 0.027, 0.081, 0.243, 0.729, 2.187, 6.561, 19.683, 59.049, 177.147, 531.441]\n",
      "\n",
      "F1 Score for each value of alpha :\n",
      "  [70.237 70.458 70.698 70.769 70.303 67.842 60.316 49.243 46.037 45.935\n",
      " 45.936 45.936 45.936]\n"
     ]
    }
   ],
   "source": [
    "# determining best value of alpha\n",
    "optimal_alpha = alpha[cv_scores.index(max(cv_scores))]\n",
    "print('\\nThe optimal value of alpha is %.3f.' % optimal_alpha)\n",
    "# plot accuracy vs alpha \n",
    "plt.plot(alpha, cv_scores)\n",
    "plt.xlabel('Value of alpha',size=10)\n",
    "plt.ylabel('Accuracy',size=10)\n",
    "plt.title('Accuracy VS Alpha Plot',size=16)\n",
    "plt.grid()\n",
    "plt.show()\n",
    "print(\"\\n*******Train Data Report******\");\n",
    "print(\"\\nAlpha values :\\n\",alpha)\n",
    "print(\"\\nF1 Score for each value of alpha :\\n \", np.round(cv_scores,5)*100)"
   ]
  },
  {
   "cell_type": "code",
   "execution_count": 159,
   "metadata": {},
   "outputs": [],
   "source": [
    "# instantiate learning model alpha = optimal_alpha\n",
    "model_tfidf_multinomial = MultinomialNB(alpha = optimal_alpha)\n",
    "\n",
    "# fitting the model\n",
    "model_tfidf_multinomial.fit(X_train,y_train)\n",
    "\n",
    "# predict the response\n",
    "pred = model_tfidf_multinomial.predict(X_test)"
   ]
  },
  {
   "cell_type": "code",
   "execution_count": 160,
   "metadata": {},
   "outputs": [
    {
     "name": "stdout",
     "output_type": "stream",
     "text": [
      "***Test Data Report***\n",
      "Accuracy =  87.738\n",
      "f1_score =  70.69600501136074\n",
      "precision_score =  88.975124529424\n",
      "recall_score =  66.13070458241911\n"
     ]
    },
    {
     "data": {
      "image/png": "[encoded data removed]",
      "text/plain": [
       "<Figure size 432x288 with 2 Axes>"
      ]
     },
     "metadata": {
      "needs_background": "light"
     },
     "output_type": "display_data"
    }
   ],
   "source": [
    "print(\"***Test Data Report***\")\n",
    "print('Accuracy = ', accuracy_score(y_test, pred)*100)\n",
    "print(\"f1_score = \",f1_score(y_test, pred, average='macro')*100)\n",
    "print(\"precision_score = \",precision_score(y_test, pred, average='macro')*100)\n",
    "print(\"recall_score = \",recall_score(y_test, pred, average='macro')*100)\n",
    "skplt.metrics.plot_confusion_matrix(y_test, pred)\n",
    "plt.show()"
   ]
  },
  {
   "cell_type": "code",
   "execution_count": 161,
   "metadata": {},
   "outputs": [
    {
     "name": "stdout",
     "output_type": "stream",
     "text": [
      "TPR = 0.87558\n",
      "FPR = 0.09608\n",
      "TNR = 0.90392\n",
      "FNR = 0.12442\n"
     ]
    }
   ],
   "source": [
    "True_Negative, False_Negative, False_Positive, True_Positive = confusion_matrix(y_test, pred).ravel()\n",
    "\n",
    "Total_Positive = False_Negative + True_Positive\n",
    "Total_Negative = True_Negative + False_Positive\n",
    "\n",
    "TPR = True_Positive/Total_Positive \n",
    "FPR = False_Positive/Total_Negative\n",
    "TNR = True_Negative/Total_Negative\n",
    "FNR = False_Negative/ Total_Positive \n",
    "print(\"TPR = %.5f\"%(TPR))\n",
    "print(\"FPR = %.5f\"%(FPR))\n",
    "print(\"TNR = %.5f\"%(TNR))\n",
    "print(\"FNR = %.5f\"%(FNR))"
   ]
  },
  {
   "cell_type": "code",
   "execution_count": 162,
   "metadata": {},
   "outputs": [
    {
     "name": "stdout",
     "output_type": "stream",
     "text": [
      "Actual Data\n",
      "------------\n",
      "positive    82609\n",
      "negative    17391\n",
      "Name: Score, dtype: int64\n",
      "\n",
      "\n",
      "After Prediction\n",
      "------------\n",
      "Positive = 93651\n",
      "Negative = 6349\n"
     ]
    }
   ],
   "source": [
    "print(\"Actual Data\")\n",
    "print(\"------------\")\n",
    "print(X_test_data[\"Score\"].value_counts())\n",
    "print(\"\\n\")\n",
    "print(\"After Prediction\")\n",
    "print(\"------------\")\n",
    "print(\"Positive =\",Total_Positive)\n",
    "print(\"Negative =\",Total_Negative)"
   ]
  },
  {
   "cell_type": "code",
   "execution_count": 163,
   "metadata": {},
   "outputs": [
    {
     "name": "stdout",
     "output_type": "stream",
     "text": [
      "['negative' 'positive']\n"
     ]
    }
   ],
   "source": [
    "print(model_tfidf_multinomial.classes_)\n",
    "# Finding log probabilities\n",
    "class_feature = model_tfidf_multinomial.feature_log_prob_\n",
    "\n",
    "#  row_0 is for 'negative' class and row_1 is for 'positive' class\n",
    "negative_feature = class_feature[0]\n",
    "positive_feature = class_feature[1]\n",
    "\n",
    "# Getting all feature names from the count vectorizer\n",
    "feature_name = tf_idf_vect.get_feature_names()\n",
    "\n",
    "#sorting\n",
    "sorted_negative_feature = np.argsort(negative_feature)[::-1]\n",
    "sorted_positive_feature = np.argsort(positive_feature)[::-1]"
   ]
  },
  {
   "cell_type": "code",
   "execution_count": 164,
   "metadata": {},
   "outputs": [
    {
     "name": "stdout",
     "output_type": "stream",
     "text": [
      "Negative feature top 10 :\n",
      "-------\n",
      "tast\t -->\t-4.809819  \n",
      "like\t -->\t-4.993000  \n",
      "product\t -->\t-5.075751  \n",
      "flavor\t -->\t-5.333150  \n",
      "coffe\t -->\t-5.345334  \n",
      "would\t -->\t-5.384816  \n",
      "one\t -->\t-5.425288  \n",
      "disappoint\t -->\t-5.494400  \n",
      "buy\t -->\t-5.502796  \n",
      "tri\t -->\t-5.532694  \n",
      "\n",
      "Positive feature top 10 :\n",
      "-------\n",
      "great\t -->\t-4.873781  \n",
      "love\t -->\t-5.015109  \n",
      "good\t -->\t-5.033500  \n",
      "tea\t -->\t-5.079043  \n",
      "tast\t -->\t-5.129286  \n",
      "coffe\t -->\t-5.156811  \n",
      "like\t -->\t-5.204510  \n",
      "flavor\t -->\t-5.226146  \n",
      "product\t -->\t-5.289252  \n",
      "use\t -->\t-5.399474  \n"
     ]
    }
   ],
   "source": [
    "print(\"Negative feature top 10 :\")\n",
    "print(\"-------\")\n",
    "for i in list(sorted_negative_feature[0:10]):\n",
    "    print(\"%s\\t -->\\t%f  \"%(feature_name[i],negative_feature[i]))\n",
    "    \n",
    "print(\"\\nPositive feature top 10 :\")\n",
    "print(\"-------\")\n",
    "for i in list(sorted_positive_feature[0:10]):\n",
    "    print(\"%s\\t -->\\t%f  \"%(feature_name[i],positive_feature[i]))"
   ]
  },
  {
   "cell_type": "markdown",
   "metadata": {},
   "source": [
    "# RESULT"
   ]
  },
  {
   "cell_type": "code",
   "execution_count": 193,
   "metadata": {},
   "outputs": [
    {
     "data": {
      "text/html": [
       "<table>\n",
       "<tbody>\n",
       "<tr><td>S.NO.</td><td>MODEL               </td><td>Best alpha</td><td>F1_SCORE </td><td>Test Accuracy</td></tr>\n",
       "<tr><td>1    </td><td>BOW[Text]           </td><td>0.729     </td><td>81.748916</td><td>89.513       </td></tr>\n",
       "<tr><td>2    </td><td>BOW[Text+Summary]   </td><td>0.729     </td><td>84.271983</td><td>90.813       </td></tr>\n",
       "<tr><td>3    </td><td>TF-IDF[Text]        </td><td>0.027     </td><td>66.39939 </td><td>86.54899     </td></tr>\n",
       "<tr><td>4    </td><td>TF-IDF[Text+Summary]</td><td>0.027     </td><td>70.696005</td><td>87.738       </td></tr>\n",
       "</tbody>\n",
       "</table>"
      ],
      "text/plain": [
       "<IPython.core.display.HTML object>"
      ]
     },
     "metadata": {},
     "output_type": "display_data"
    }
   ],
   "source": [
    "from IPython.display import HTML, display\n",
    "import tabulate\n",
    "table = [[\"S.NO.\",\"MODEL\",\"Best alpha\",\"F1_SCORE\",\"Test Accuracy\"],\n",
    "         [\"1\",\"BOW[Text]\",\"0.729\",\"81.748916\",\"89.513\"],\n",
    "         [\"2\",\"BOW[Text+Summary]\",\"0.729\",\"84.271983\",\"90.813\"],\n",
    "         [\"3\",\"TF-IDF[Text]\",\"0.027\",\"66.39939\",\"86.54899\"],\n",
    "         [\"4\",\"TF-IDF[Text+Summary]\",\"0.027\",\"70.696005\",\"87.738\"]]\n",
    "display(HTML(tabulate.tabulate(table, tablefmt='html')))"
   ]
  },
  {
   "cell_type": "markdown",
   "metadata": {},
   "source": [
    "# CONCLUSION"
   ]
  },
  {
   "cell_type": "markdown",
   "metadata": {},
   "source": [
    "- > As Stated in the result table that when summary of every product is added to the actual reviews then it gives better performance as compared to the model which takes only the text of the reviews in both bow and tfidf vectorization\n",
    "- > But when summary is also take then many points of the negative class gets predicted to be positive class in the model which decreses the stability of the model, and it makes model more biased towards positive points.\n",
    "- > Bow vectorizer[TEXT] is the best model as compared to tfidf vectorizer as it gives better stats\n",
    "- > BOW Vectorizer[TEXT] is performing well in unseen data and hence its stats are good.\n",
    "- > Naive bayes is the simplest algorithm and it takes very much less time then KNN."
   ]
  }
 ],
 "metadata": {
  "kernelspec": {
   "display_name": "Python 3",
   "language": "python",
   "name": "python3"
  },
  "language_info": {
   "codemirror_mode": {
    "name": "ipython",
    "version": 3
   },
   "file_extension": ".py",
   "mimetype": "text/x-python",
   "name": "python",
   "nbconvert_exporter": "python",
   "pygments_lexer": "ipython3",
   "version": "3.7.0"
  }
 },
 "nbformat": 4,
 "nbformat_minor": 2
}
