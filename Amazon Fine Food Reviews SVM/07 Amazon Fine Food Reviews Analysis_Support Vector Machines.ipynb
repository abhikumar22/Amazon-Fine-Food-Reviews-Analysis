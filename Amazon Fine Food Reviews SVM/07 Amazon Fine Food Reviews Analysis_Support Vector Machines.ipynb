{
 "cells": [
  {
   "cell_type": "markdown",
   "metadata": {},
   "source": [
    "# Amazon Fine Food Reviews Analysis\n",
    "\n",
    "\n",
    "Data Source: https://www.kaggle.com/snap/amazon-fine-food-reviews <br>\n",
    "\n",
    "EDA: https://nycdatascience.com/blog/student-works/amazon-fine-foods-visualization/\n",
    "\n",
    "\n",
    "The Amazon Fine Food Reviews dataset consists of reviews of fine foods from Amazon.<br>\n",
    "\n",
    "Number of reviews: 568,454<br>\n",
    "Number of users: 256,059<br>\n",
    "Number of products: 74,258<br>\n",
    "Timespan: Oct 1999 - Oct 2012<br>\n",
    "Number of Attributes/Columns in data: 10 \n",
    "\n",
    "Attribute Information:\n",
    "\n",
    "1. Id\n",
    "2. ProductId - unique identifier for the product\n",
    "3. UserId - unqiue identifier for the user\n",
    "4. ProfileName\n",
    "5. HelpfulnessNumerator - number of users who found the review helpful\n",
    "6. HelpfulnessDenominator - number of users who indicated whether they found the review helpful or not\n",
    "7. Score - rating between 1 and 5\n",
    "8. Time - timestamp for the review\n",
    "9. Summary - brief summary of the review\n",
    "10. Text - text of the review\n",
    "\n",
    "\n",
    "#### Objective:\n",
    "Given a review, determine whether the review is positive (rating of 4 or 5) or negative (rating of 1 or 2).\n",
    "\n",
    "<br>\n",
    "[Q] How to determine if a review is positive or negative?<br>\n",
    "<br> \n",
    "[Ans] We could use Score/Rating. A rating of 4 or 5 can be cosnidered as a positive review. A rating of 1 or 2 can be considered as negative one. A review of rating 3 is considered nuetral and such reviews are ignored from our analysis. This is an approximate and proxy way of determining the polarity (positivity/negativity) of a review.\n",
    "\n",
    "\n"
   ]
  },
  {
   "cell_type": "markdown",
   "metadata": {},
   "source": [
    "# [1]. Reading Data"
   ]
  },
  {
   "cell_type": "markdown",
   "metadata": {},
   "source": [
    "## [1.1] Loading the data\n",
    "\n",
    "The dataset is available in two forms\n",
    "1. .csv file\n",
    "2. SQLite Database\n",
    "\n",
    "In order to load the data, We have used the SQLITE dataset as it is easier to query the data and visualise the data efficiently.\n",
    "<br> \n",
    "\n",
    "Here as we only want to get the global sentiment of the recommendations (positive or negative), we will purposefully ignore all Scores equal to 3. If the score is above 3, then the recommendation wil be set to \"positive\". Otherwise, it will be set to \"negative\"."
   ]
  },
  {
   "cell_type": "code",
   "execution_count": 1,
   "metadata": {},
   "outputs": [
    {
     "name": "stderr",
     "output_type": "stream",
     "text": [
      "C:\\Users\\lenovo\\Anaconda3\\lib\\site-packages\\gensim\\utils.py:1197: UserWarning: detected Windows; aliasing chunkize to chunkize_serial\n",
      "  warnings.warn(\"detected Windows; aliasing chunkize to chunkize_serial\")\n"
     ]
    }
   ],
   "source": [
    "%matplotlib inline\n",
    "import warnings\n",
    "warnings.filterwarnings(\"ignore\")\n",
    "\n",
    "\n",
    "import sqlite3\n",
    "import pandas as pd\n",
    "import numpy as np\n",
    "import nltk\n",
    "import string\n",
    "import matplotlib.pyplot as plt\n",
    "import seaborn as sns\n",
    "from sklearn.feature_extraction.text import TfidfTransformer\n",
    "from sklearn.feature_extraction.text import TfidfVectorizer\n",
    "\n",
    "from sklearn.feature_extraction.text import CountVectorizer\n",
    "from sklearn.metrics import confusion_matrix\n",
    "from sklearn import metrics\n",
    "from sklearn.metrics import roc_curve, auc\n",
    "from nltk.stem.porter import PorterStemmer\n",
    "\n",
    "import re\n",
    "# Tutorial about Python regular expressions: https://pymotw.com/2/re/\n",
    "import string\n",
    "from nltk.corpus import stopwords\n",
    "from nltk.stem import PorterStemmer\n",
    "from nltk.stem.wordnet import WordNetLemmatizer\n",
    "\n",
    "from gensim.models import Word2Vec\n",
    "from gensim.models import KeyedVectors\n",
    "import pickle\n",
    "\n",
    "from tqdm import tqdm\n",
    "import os"
   ]
  },
  {
   "cell_type": "code",
   "execution_count": 2,
   "metadata": {},
   "outputs": [
    {
     "name": "stdout",
     "output_type": "stream",
     "text": [
      "Number of data points in our data (525814, 10)\n",
      "Data Points in Each class :\n",
      "positive    443777\n",
      "negative     82037\n",
      "Name: Score, dtype: int64\n"
     ]
    },
    {
     "data": {
      "text/html": [
       "<div>\n",
       "<style scoped>\n",
       "    .dataframe tbody tr th:only-of-type {\n",
       "        vertical-align: middle;\n",
       "    }\n",
       "\n",
       "    .dataframe tbody tr th {\n",
       "        vertical-align: top;\n",
       "    }\n",
       "\n",
       "    .dataframe thead th {\n",
       "        text-align: right;\n",
       "    }\n",
       "</style>\n",
       "<table border=\"1\" class=\"dataframe\">\n",
       "  <thead>\n",
       "    <tr style=\"text-align: right;\">\n",
       "      <th></th>\n",
       "      <th>Id</th>\n",
       "      <th>ProductId</th>\n",
       "      <th>UserId</th>\n",
       "      <th>ProfileName</th>\n",
       "      <th>HelpfulnessNumerator</th>\n",
       "      <th>HelpfulnessDenominator</th>\n",
       "      <th>Score</th>\n",
       "      <th>Time</th>\n",
       "      <th>Summary</th>\n",
       "      <th>Text</th>\n",
       "    </tr>\n",
       "  </thead>\n",
       "  <tbody>\n",
       "    <tr>\n",
       "      <th>0</th>\n",
       "      <td>1</td>\n",
       "      <td>B001E4KFG0</td>\n",
       "      <td>A3SGXH7AUHU8GW</td>\n",
       "      <td>delmartian</td>\n",
       "      <td>1</td>\n",
       "      <td>1</td>\n",
       "      <td>positive</td>\n",
       "      <td>1303862400</td>\n",
       "      <td>Good Quality Dog Food</td>\n",
       "      <td>I have bought several of the Vitality canned d...</td>\n",
       "    </tr>\n",
       "    <tr>\n",
       "      <th>1</th>\n",
       "      <td>2</td>\n",
       "      <td>B00813GRG4</td>\n",
       "      <td>A1D87F6ZCVE5NK</td>\n",
       "      <td>dll pa</td>\n",
       "      <td>0</td>\n",
       "      <td>0</td>\n",
       "      <td>negative</td>\n",
       "      <td>1346976000</td>\n",
       "      <td>Not as Advertised</td>\n",
       "      <td>Product arrived labeled as Jumbo Salted Peanut...</td>\n",
       "    </tr>\n",
       "    <tr>\n",
       "      <th>2</th>\n",
       "      <td>3</td>\n",
       "      <td>B000LQOCH0</td>\n",
       "      <td>ABXLMWJIXXAIN</td>\n",
       "      <td>Natalia Corres \"Natalia Corres\"</td>\n",
       "      <td>1</td>\n",
       "      <td>1</td>\n",
       "      <td>positive</td>\n",
       "      <td>1219017600</td>\n",
       "      <td>\"Delight\" says it all</td>\n",
       "      <td>This is a confection that has been around a fe...</td>\n",
       "    </tr>\n",
       "  </tbody>\n",
       "</table>\n",
       "</div>"
      ],
      "text/plain": [
       "   Id   ProductId          UserId                      ProfileName  \\\n",
       "0   1  B001E4KFG0  A3SGXH7AUHU8GW                       delmartian   \n",
       "1   2  B00813GRG4  A1D87F6ZCVE5NK                           dll pa   \n",
       "2   3  B000LQOCH0   ABXLMWJIXXAIN  Natalia Corres \"Natalia Corres\"   \n",
       "\n",
       "   HelpfulnessNumerator  HelpfulnessDenominator     Score        Time  \\\n",
       "0                     1                       1  positive  1303862400   \n",
       "1                     0                       0  negative  1346976000   \n",
       "2                     1                       1  positive  1219017600   \n",
       "\n",
       "                 Summary                                               Text  \n",
       "0  Good Quality Dog Food  I have bought several of the Vitality canned d...  \n",
       "1      Not as Advertised  Product arrived labeled as Jumbo Salted Peanut...  \n",
       "2  \"Delight\" says it all  This is a confection that has been around a fe...  "
      ]
     },
     "execution_count": 2,
     "metadata": {},
     "output_type": "execute_result"
    }
   ],
   "source": [
    "# using SQLite Table to read data.\n",
    "con = sqlite3.connect('database.sqlite') \n",
    "\n",
    "# filtering only positive and negative reviews i.e. \n",
    "# not taking into consideration those reviews with Score=3\n",
    "# SELECT * FROM Reviews WHERE Score != 3 LIMIT 500000, will give top 500000 data points\n",
    "# you can change the number to any other number based on your computing power\n",
    "\n",
    "# filtered_data = pd.read_sql_query(\"\"\" SELECT * FROM Reviews WHERE Score != 3 LIMIT 500000\"\"\", con) \n",
    "# for tsne assignment you can take 5k data points\n",
    "\n",
    "filtered_data = pd.read_sql_query(\"\"\" SELECT * FROM Reviews WHERE Score != 3\"\"\", con) \n",
    "\n",
    "# Give reviews with Score>3 a positive rating, and reviews with a score<3 a negative rating.\n",
    "def partition(x):\n",
    "    if x < 3:\n",
    "        return 'negative'\n",
    "    return 'positive'\n",
    "\n",
    "#changing reviews with score less than 3 to be positive and vice-versa\n",
    "actualScore = filtered_data['Score']\n",
    "positiveNegative = actualScore.map(partition) \n",
    "filtered_data['Score'] = positiveNegative\n",
    "print(\"Number of data points in our data\", filtered_data.shape)\n",
    "print(\"Data Points in Each class :\")\n",
    "print(filtered_data['Score'].value_counts()) \n",
    "filtered_data.head(3)"
   ]
  },
  {
   "cell_type": "markdown",
   "metadata": {},
   "source": [
    "#  [2] Exploratory Data Analysis"
   ]
  },
  {
   "cell_type": "markdown",
   "metadata": {},
   "source": [
    "## [2.1] Data Cleaning: Deduplication\n",
    "\n",
    "It is observed (as shown in the table below) that the reviews data had many duplicate entries. Hence it was necessary to remove duplicates in order to get unbiased results for the analysis of the data.  Following is an example:"
   ]
  },
  {
   "cell_type": "code",
   "execution_count": 3,
   "metadata": {},
   "outputs": [
    {
     "data": {
      "text/html": [
       "<div>\n",
       "<style scoped>\n",
       "    .dataframe tbody tr th:only-of-type {\n",
       "        vertical-align: middle;\n",
       "    }\n",
       "\n",
       "    .dataframe tbody tr th {\n",
       "        vertical-align: top;\n",
       "    }\n",
       "\n",
       "    .dataframe thead th {\n",
       "        text-align: right;\n",
       "    }\n",
       "</style>\n",
       "<table border=\"1\" class=\"dataframe\">\n",
       "  <thead>\n",
       "    <tr style=\"text-align: right;\">\n",
       "      <th></th>\n",
       "      <th>Id</th>\n",
       "      <th>ProductId</th>\n",
       "      <th>UserId</th>\n",
       "      <th>ProfileName</th>\n",
       "      <th>HelpfulnessNumerator</th>\n",
       "      <th>HelpfulnessDenominator</th>\n",
       "      <th>Score</th>\n",
       "      <th>Time</th>\n",
       "      <th>Summary</th>\n",
       "      <th>Text</th>\n",
       "    </tr>\n",
       "  </thead>\n",
       "  <tbody>\n",
       "    <tr>\n",
       "      <th>0</th>\n",
       "      <td>78445</td>\n",
       "      <td>B000HDL1RQ</td>\n",
       "      <td>AR5J8UI46CURR</td>\n",
       "      <td>Geetha Krishnan</td>\n",
       "      <td>2</td>\n",
       "      <td>2</td>\n",
       "      <td>5</td>\n",
       "      <td>1199577600</td>\n",
       "      <td>LOACKER QUADRATINI VANILLA WAFERS</td>\n",
       "      <td>DELICIOUS WAFERS. I FIND THAT EUROPEAN WAFERS ...</td>\n",
       "    </tr>\n",
       "    <tr>\n",
       "      <th>1</th>\n",
       "      <td>138317</td>\n",
       "      <td>B000HDOPYC</td>\n",
       "      <td>AR5J8UI46CURR</td>\n",
       "      <td>Geetha Krishnan</td>\n",
       "      <td>2</td>\n",
       "      <td>2</td>\n",
       "      <td>5</td>\n",
       "      <td>1199577600</td>\n",
       "      <td>LOACKER QUADRATINI VANILLA WAFERS</td>\n",
       "      <td>DELICIOUS WAFERS. I FIND THAT EUROPEAN WAFERS ...</td>\n",
       "    </tr>\n",
       "    <tr>\n",
       "      <th>2</th>\n",
       "      <td>138277</td>\n",
       "      <td>B000HDOPYM</td>\n",
       "      <td>AR5J8UI46CURR</td>\n",
       "      <td>Geetha Krishnan</td>\n",
       "      <td>2</td>\n",
       "      <td>2</td>\n",
       "      <td>5</td>\n",
       "      <td>1199577600</td>\n",
       "      <td>LOACKER QUADRATINI VANILLA WAFERS</td>\n",
       "      <td>DELICIOUS WAFERS. I FIND THAT EUROPEAN WAFERS ...</td>\n",
       "    </tr>\n",
       "    <tr>\n",
       "      <th>3</th>\n",
       "      <td>73791</td>\n",
       "      <td>B000HDOPZG</td>\n",
       "      <td>AR5J8UI46CURR</td>\n",
       "      <td>Geetha Krishnan</td>\n",
       "      <td>2</td>\n",
       "      <td>2</td>\n",
       "      <td>5</td>\n",
       "      <td>1199577600</td>\n",
       "      <td>LOACKER QUADRATINI VANILLA WAFERS</td>\n",
       "      <td>DELICIOUS WAFERS. I FIND THAT EUROPEAN WAFERS ...</td>\n",
       "    </tr>\n",
       "    <tr>\n",
       "      <th>4</th>\n",
       "      <td>155049</td>\n",
       "      <td>B000PAQ75C</td>\n",
       "      <td>AR5J8UI46CURR</td>\n",
       "      <td>Geetha Krishnan</td>\n",
       "      <td>2</td>\n",
       "      <td>2</td>\n",
       "      <td>5</td>\n",
       "      <td>1199577600</td>\n",
       "      <td>LOACKER QUADRATINI VANILLA WAFERS</td>\n",
       "      <td>DELICIOUS WAFERS. I FIND THAT EUROPEAN WAFERS ...</td>\n",
       "    </tr>\n",
       "  </tbody>\n",
       "</table>\n",
       "</div>"
      ],
      "text/plain": [
       "       Id   ProductId         UserId      ProfileName  HelpfulnessNumerator  \\\n",
       "0   78445  B000HDL1RQ  AR5J8UI46CURR  Geetha Krishnan                     2   \n",
       "1  138317  B000HDOPYC  AR5J8UI46CURR  Geetha Krishnan                     2   \n",
       "2  138277  B000HDOPYM  AR5J8UI46CURR  Geetha Krishnan                     2   \n",
       "3   73791  B000HDOPZG  AR5J8UI46CURR  Geetha Krishnan                     2   \n",
       "4  155049  B000PAQ75C  AR5J8UI46CURR  Geetha Krishnan                     2   \n",
       "\n",
       "   HelpfulnessDenominator  Score        Time  \\\n",
       "0                       2      5  1199577600   \n",
       "1                       2      5  1199577600   \n",
       "2                       2      5  1199577600   \n",
       "3                       2      5  1199577600   \n",
       "4                       2      5  1199577600   \n",
       "\n",
       "                             Summary  \\\n",
       "0  LOACKER QUADRATINI VANILLA WAFERS   \n",
       "1  LOACKER QUADRATINI VANILLA WAFERS   \n",
       "2  LOACKER QUADRATINI VANILLA WAFERS   \n",
       "3  LOACKER QUADRATINI VANILLA WAFERS   \n",
       "4  LOACKER QUADRATINI VANILLA WAFERS   \n",
       "\n",
       "                                                Text  \n",
       "0  DELICIOUS WAFERS. I FIND THAT EUROPEAN WAFERS ...  \n",
       "1  DELICIOUS WAFERS. I FIND THAT EUROPEAN WAFERS ...  \n",
       "2  DELICIOUS WAFERS. I FIND THAT EUROPEAN WAFERS ...  \n",
       "3  DELICIOUS WAFERS. I FIND THAT EUROPEAN WAFERS ...  \n",
       "4  DELICIOUS WAFERS. I FIND THAT EUROPEAN WAFERS ...  "
      ]
     },
     "execution_count": 3,
     "metadata": {},
     "output_type": "execute_result"
    }
   ],
   "source": [
    "display= pd.read_sql_query(\"\"\"\n",
    "SELECT *\n",
    "FROM Reviews\n",
    "WHERE Score != 3 AND UserId=\"AR5J8UI46CURR\"\n",
    "ORDER BY ProductID\n",
    "\"\"\", con)\n",
    "display.head()"
   ]
  },
  {
   "cell_type": "markdown",
   "metadata": {
    "scrolled": true
   },
   "source": [
    "As it can be seen above that same user has multiple reviews with same values for HelpfulnessNumerator, HelpfulnessDenominator, Score, Time, Summary and Text and on doing analysis it was found that \n",
    "\n",
    "ProductId=B000HDOPZG was Loacker Quadratini Vanilla Wafer Cookies, 8.82-Ounce Packages (Pack of 8)\n",
    "\n",
    "ProductId=B000HDL1RQ was Loacker Quadratini Lemon Wafer Cookies, 8.82-Ounce Packages (Pack of 8) and so on\n",
    "\n",
    "It was inferred after analysis that reviews with same parameters other than ProductId belonged to the same product just having different flavour or quantity. Hence in order to reduce redundancy it was decided to eliminate the rows having same parameters.\n",
    "\n",
    "The method used for the same was that we first sort the data according to ProductId and then just keep the first similar product review and delelte the others. for eg. in the above just the review for ProductId=B000HDL1RQ remains. This method ensures that there is only one representative for each product and deduplication without sorting would lead to possibility of different representatives still existing for the same product."
   ]
  },
  {
   "cell_type": "code",
   "execution_count": 4,
   "metadata": {},
   "outputs": [
    {
     "data": {
      "text/plain": [
       "(525814, 10)"
      ]
     },
     "execution_count": 4,
     "metadata": {},
     "output_type": "execute_result"
    }
   ],
   "source": [
    "#Sorting the data taking productid as the parameter\n",
    "sorted_data=filtered_data.sort_values('ProductId', axis=0, ascending=True, inplace=False, kind='quicksort', na_position='last')\n",
    "sorted_data.shape"
   ]
  },
  {
   "cell_type": "code",
   "execution_count": 5,
   "metadata": {},
   "outputs": [
    {
     "data": {
      "text/plain": [
       "(364173, 10)"
      ]
     },
     "execution_count": 5,
     "metadata": {},
     "output_type": "execute_result"
    }
   ],
   "source": [
    "#Deleting the dublicates reviews which is created when user writed a review for the product, it automatically generates for the same product of different color etc\n",
    "final = sorted_data.drop_duplicates(subset={\"UserId\",\"ProfileName\",\"Time\",\"Text\"}, keep='first', inplace=False)\n",
    "final.shape"
   ]
  },
  {
   "cell_type": "code",
   "execution_count": 6,
   "metadata": {
    "scrolled": false
   },
   "outputs": [
    {
     "data": {
      "text/plain": [
       "69.25890143662969"
      ]
     },
     "execution_count": 6,
     "metadata": {},
     "output_type": "execute_result"
    }
   ],
   "source": [
    "#Checking to see how much % of data still remains\n",
    "(final['Id'].size*1.0)/(filtered_data['Id'].size*1.0)*100"
   ]
  },
  {
   "cell_type": "code",
   "execution_count": 7,
   "metadata": {},
   "outputs": [
    {
     "data": {
      "text/html": [
       "<div>\n",
       "<style scoped>\n",
       "    .dataframe tbody tr th:only-of-type {\n",
       "        vertical-align: middle;\n",
       "    }\n",
       "\n",
       "    .dataframe tbody tr th {\n",
       "        vertical-align: top;\n",
       "    }\n",
       "\n",
       "    .dataframe thead th {\n",
       "        text-align: right;\n",
       "    }\n",
       "</style>\n",
       "<table border=\"1\" class=\"dataframe\">\n",
       "  <thead>\n",
       "    <tr style=\"text-align: right;\">\n",
       "      <th></th>\n",
       "      <th>Id</th>\n",
       "      <th>ProductId</th>\n",
       "      <th>UserId</th>\n",
       "      <th>ProfileName</th>\n",
       "      <th>HelpfulnessNumerator</th>\n",
       "      <th>HelpfulnessDenominator</th>\n",
       "      <th>Score</th>\n",
       "      <th>Time</th>\n",
       "      <th>Summary</th>\n",
       "      <th>Text</th>\n",
       "    </tr>\n",
       "  </thead>\n",
       "  <tbody>\n",
       "    <tr>\n",
       "      <th>0</th>\n",
       "      <td>64422</td>\n",
       "      <td>B000MIDROQ</td>\n",
       "      <td>A161DK06JJMCYF</td>\n",
       "      <td>J. E. Stephens \"Jeanne\"</td>\n",
       "      <td>3</td>\n",
       "      <td>1</td>\n",
       "      <td>5</td>\n",
       "      <td>1224892800</td>\n",
       "      <td>Bought This for My Son at College</td>\n",
       "      <td>My son loves spaghetti so I didn't hesitate or...</td>\n",
       "    </tr>\n",
       "    <tr>\n",
       "      <th>1</th>\n",
       "      <td>44737</td>\n",
       "      <td>B001EQ55RW</td>\n",
       "      <td>A2V0I904FH7ABY</td>\n",
       "      <td>Ram</td>\n",
       "      <td>3</td>\n",
       "      <td>2</td>\n",
       "      <td>4</td>\n",
       "      <td>1212883200</td>\n",
       "      <td>Pure cocoa taste with crunchy almonds inside</td>\n",
       "      <td>It was almost a 'love at first bite' - the per...</td>\n",
       "    </tr>\n",
       "  </tbody>\n",
       "</table>\n",
       "</div>"
      ],
      "text/plain": [
       "      Id   ProductId          UserId              ProfileName  \\\n",
       "0  64422  B000MIDROQ  A161DK06JJMCYF  J. E. Stephens \"Jeanne\"   \n",
       "1  44737  B001EQ55RW  A2V0I904FH7ABY                      Ram   \n",
       "\n",
       "   HelpfulnessNumerator  HelpfulnessDenominator  Score        Time  \\\n",
       "0                     3                       1      5  1224892800   \n",
       "1                     3                       2      4  1212883200   \n",
       "\n",
       "                                        Summary  \\\n",
       "0             Bought This for My Son at College   \n",
       "1  Pure cocoa taste with crunchy almonds inside   \n",
       "\n",
       "                                                Text  \n",
       "0  My son loves spaghetti so I didn't hesitate or...  \n",
       "1  It was almost a 'love at first bite' - the per...  "
      ]
     },
     "execution_count": 7,
     "metadata": {},
     "output_type": "execute_result"
    }
   ],
   "source": [
    "display= pd.read_sql_query(\"\"\"\n",
    "SELECT *\n",
    "FROM Reviews\n",
    "WHERE Score != 3 AND Id=44737 OR Id=64422\n",
    "ORDER BY ProductID\n",
    "\"\"\", con)\n",
    "\n",
    "display.head()"
   ]
  },
  {
   "cell_type": "code",
   "execution_count": 8,
   "metadata": {},
   "outputs": [
    {
     "name": "stdout",
     "output_type": "stream",
     "text": [
      "(364171, 10)\n"
     ]
    },
    {
     "data": {
      "text/plain": [
       "positive    307061\n",
       "negative     57110\n",
       "Name: Score, dtype: int64"
      ]
     },
     "execution_count": 8,
     "metadata": {},
     "output_type": "execute_result"
    }
   ],
   "source": [
    "#Dropping the data which has HelpfulnessNumerator<HelpfulnessDenominator which is impossible\n",
    "final=final[final.HelpfulnessNumerator<=final.HelpfulnessDenominator]\n",
    "#Before starting the next phase of preprocessing lets see the number of entries left\n",
    "print(final.shape)\n",
    "\n",
    "#How many positive and negative reviews are present in our dataset?\n",
    "final['Score'].value_counts()"
   ]
  },
  {
   "cell_type": "code",
   "execution_count": 9,
   "metadata": {},
   "outputs": [
    {
     "name": "stdout",
     "output_type": "stream",
     "text": [
      "Percentage of data still remains 69.25852107399194\n",
      "Final Data (364171, 10)\n"
     ]
    }
   ],
   "source": [
    "#Checking to see how much % of data still remains\n",
    "print(\"Percentage of data still remains\",(final['Id'].size*1.0)/(filtered_data['Id'].size*1.0)*100)\n",
    "\n",
    "print(\"Final Data\",final.shape)"
   ]
  },
  {
   "cell_type": "markdown",
   "metadata": {},
   "source": [
    "<b>Observation:-</b> It was also seen that in two rows given below the value of HelpfulnessNumerator is greater than HelpfulnessDenominator which is not practically possible hence these two rows too are removed from calcualtions"
   ]
  },
  {
   "cell_type": "markdown",
   "metadata": {},
   "source": [
    "#  [3] Preprocessing"
   ]
  },
  {
   "cell_type": "markdown",
   "metadata": {},
   "source": [
    "## [3.1].  Preprocessing Review Text\n",
    "\n",
    "Now that we have finished deduplication our data requires some preprocessing before we go on further with analysis and making the prediction model.\n",
    "\n",
    "Hence in the Preprocessing phase we do the following in the order below:-\n",
    "\n",
    "1. Begin by removing the html tags\n",
    "2. Remove any punctuations or limited set of special characters like , or . or # etc.\n",
    "3. Check if the word is made up of english letters and is not alpha-numeric\n",
    "4. Check to see if the length of the word is greater than 2 (as it was researched that there is no adjective in 2-letters)\n",
    "5. Convert the word to lowercase\n",
    "6. Remove Stopwords\n",
    "7. Finally Snowball Stemming the word (it was obsereved to be better than Porter Stemming)<br>\n",
    "\n",
    "After which we collect the words used to describe positive and negative reviews"
   ]
  },
  {
   "cell_type": "code",
   "execution_count": 7,
   "metadata": {},
   "outputs": [],
   "source": [
    "stop = set(stopwords.words('english')) #set of stopwords\n",
    "sno = nltk.stem.SnowballStemmer('english') #initialising the snowball stemmer\n",
    "\n",
    "def cleanhtml(sentence): #function to clean the word of any html-tags\n",
    "    cleanr = re.compile('<.*?>')\n",
    "    cleantext = re.sub(cleanr, ' ', sentence)\n",
    "    return cleantext\n",
    "def cleanpunc(sentence): #function to clean the word of any punctuation or special characters\n",
    "    cleaned = re.sub(r'[?|!|\\'|\"|#]',r'',sentence)\n",
    "    cleaned = re.sub(r'[.|,|)|(|\\|/]',r' ',cleaned)\n",
    "    return  cleaned"
   ]
  },
  {
   "cell_type": "code",
   "execution_count": 11,
   "metadata": {},
   "outputs": [
    {
     "name": "stderr",
     "output_type": "stream",
     "text": [
      "100%|█████████████████████████████████████████████████████████████████████████| 364171/364171 [09:46<00:00, 620.51it/s]\n"
     ]
    }
   ],
   "source": [
    "#Code for implementing step-by-step the checks mentioned in the pre-processing phase\n",
    "# this code takes a while to run as it needs to run on 500k sentences.\n",
    "from tqdm import tqdm\n",
    "i=0\n",
    "str1=' '\n",
    "final_string=[]\n",
    "all_positive_words=[] # store words from +ve reviews here\n",
    "all_negative_words=[] # store words from -ve reviews here.\n",
    "s=''\n",
    "for sent in tqdm(final['Text'].values):\n",
    "    filtered_sentence=[]\n",
    "    #print(sent);\n",
    "    sent=cleanhtml(sent) # remove HTMl tags\n",
    "    for w in sent.split():\n",
    "        for cleaned_words in cleanpunc(w).split():\n",
    "            if((cleaned_words.isalpha()) & (len(cleaned_words)>2)):    \n",
    "                if(cleaned_words.lower() not in stop):\n",
    "                    s=(sno.stem(cleaned_words.lower())).encode('utf8')\n",
    "                    filtered_sentence.append(s)\n",
    "                    if (final['Score'].values)[i] == 'positive': \n",
    "                        all_positive_words.append(s) #list of all words used to describe positive reviews\n",
    "                    if(final['Score'].values)[i] == 'negative':\n",
    "                        all_negative_words.append(s) #list of all words used to describe negative reviews reviews\n",
    "                else:\n",
    "                    continue\n",
    "            else:\n",
    "                continue \n",
    "    #print(filtered_sentence)\n",
    "    str1 = b\" \".join(filtered_sentence) #final string of cleaned words\n",
    "    #print(\"***********************************************************************\")\n",
    "    \n",
    "    final_string.append(str1)\n",
    "    i+=1"
   ]
  },
  {
   "cell_type": "code",
   "execution_count": 12,
   "metadata": {},
   "outputs": [
    {
     "data": {
      "text/html": [
       "<div>\n",
       "<style scoped>\n",
       "    .dataframe tbody tr th:only-of-type {\n",
       "        vertical-align: middle;\n",
       "    }\n",
       "\n",
       "    .dataframe tbody tr th {\n",
       "        vertical-align: top;\n",
       "    }\n",
       "\n",
       "    .dataframe thead th {\n",
       "        text-align: right;\n",
       "    }\n",
       "</style>\n",
       "<table border=\"1\" class=\"dataframe\">\n",
       "  <thead>\n",
       "    <tr style=\"text-align: right;\">\n",
       "      <th></th>\n",
       "      <th>Id</th>\n",
       "      <th>ProductId</th>\n",
       "      <th>UserId</th>\n",
       "      <th>ProfileName</th>\n",
       "      <th>HelpfulnessNumerator</th>\n",
       "      <th>HelpfulnessDenominator</th>\n",
       "      <th>Score</th>\n",
       "      <th>Time</th>\n",
       "      <th>Summary</th>\n",
       "      <th>Text</th>\n",
       "      <th>CleanedText</th>\n",
       "    </tr>\n",
       "  </thead>\n",
       "  <tbody>\n",
       "    <tr>\n",
       "      <th>138706</th>\n",
       "      <td>150524</td>\n",
       "      <td>0006641040</td>\n",
       "      <td>ACITT7DI6IDDL</td>\n",
       "      <td>shari zychinski</td>\n",
       "      <td>0</td>\n",
       "      <td>0</td>\n",
       "      <td>positive</td>\n",
       "      <td>939340800</td>\n",
       "      <td>EVERY book is educational</td>\n",
       "      <td>this witty little book makes my son laugh at l...</td>\n",
       "      <td>witti littl book make son laugh loud recit car...</td>\n",
       "    </tr>\n",
       "    <tr>\n",
       "      <th>138688</th>\n",
       "      <td>150506</td>\n",
       "      <td>0006641040</td>\n",
       "      <td>A2IW4PEEKO2R0U</td>\n",
       "      <td>Tracy</td>\n",
       "      <td>1</td>\n",
       "      <td>1</td>\n",
       "      <td>positive</td>\n",
       "      <td>1194739200</td>\n",
       "      <td>Love the book, miss the hard cover version</td>\n",
       "      <td>I grew up reading these Sendak books, and watc...</td>\n",
       "      <td>grew read sendak book watch realli rosi movi i...</td>\n",
       "    </tr>\n",
       "    <tr>\n",
       "      <th>138689</th>\n",
       "      <td>150507</td>\n",
       "      <td>0006641040</td>\n",
       "      <td>A1S4A3IQ2MU7V4</td>\n",
       "      <td>sally sue \"sally sue\"</td>\n",
       "      <td>1</td>\n",
       "      <td>1</td>\n",
       "      <td>positive</td>\n",
       "      <td>1191456000</td>\n",
       "      <td>chicken soup with rice months</td>\n",
       "      <td>This is a fun way for children to learn their ...</td>\n",
       "      <td>fun way children learn month year learn poem t...</td>\n",
       "    </tr>\n",
       "  </tbody>\n",
       "</table>\n",
       "</div>"
      ],
      "text/plain": [
       "            Id   ProductId          UserId            ProfileName  \\\n",
       "138706  150524  0006641040   ACITT7DI6IDDL        shari zychinski   \n",
       "138688  150506  0006641040  A2IW4PEEKO2R0U                  Tracy   \n",
       "138689  150507  0006641040  A1S4A3IQ2MU7V4  sally sue \"sally sue\"   \n",
       "\n",
       "        HelpfulnessNumerator  HelpfulnessDenominator     Score        Time  \\\n",
       "138706                     0                       0  positive   939340800   \n",
       "138688                     1                       1  positive  1194739200   \n",
       "138689                     1                       1  positive  1191456000   \n",
       "\n",
       "                                           Summary  \\\n",
       "138706                   EVERY book is educational   \n",
       "138688  Love the book, miss the hard cover version   \n",
       "138689               chicken soup with rice months   \n",
       "\n",
       "                                                     Text  \\\n",
       "138706  this witty little book makes my son laugh at l...   \n",
       "138688  I grew up reading these Sendak books, and watc...   \n",
       "138689  This is a fun way for children to learn their ...   \n",
       "\n",
       "                                              CleanedText  \n",
       "138706  witti littl book make son laugh loud recit car...  \n",
       "138688  grew read sendak book watch realli rosi movi i...  \n",
       "138689  fun way children learn month year learn poem t...  "
      ]
     },
     "execution_count": 12,
     "metadata": {},
     "output_type": "execute_result"
    }
   ],
   "source": [
    "final['CleanedText']=final_string #adding a column of CleanedText which displays the data after pre-processing of the review \n",
    "final['CleanedText']=final['CleanedText'].str.decode(\"utf-8\")\n",
    "final.head(3)"
   ]
  },
  {
   "cell_type": "code",
   "execution_count": 3,
   "metadata": {},
   "outputs": [],
   "source": [
    "final_data=final.sort_values('Time', axis=0, ascending=True, inplace=False, kind='quicksort', na_position='last')"
   ]
  },
  {
   "cell_type": "code",
   "execution_count": 6,
   "metadata": {},
   "outputs": [],
   "source": [
    "#For Linear SVM\n",
    "final = final_data.head(100000)"
   ]
  },
  {
   "cell_type": "code",
   "execution_count": 7,
   "metadata": {},
   "outputs": [
    {
     "name": "stdout",
     "output_type": "stream",
     "text": [
      "Data\n",
      "(60000, 11)\n",
      "(40000, 11)\n",
      "Label\n",
      "(60000,)\n",
      "(40000,)\n"
     ]
    }
   ],
   "source": [
    "#For Linear SVM\n",
    "X_train_data = final[:60000]\n",
    "X_test_data = final[60000:100000]\n",
    "y_train = X_train_data['Score']\n",
    "y_test = X_test_data['Score']\n",
    "print(\"Data\")\n",
    "print(X_train_data.shape)\n",
    "print(X_test_data.shape)\n",
    "print(\"Label\")\n",
    "print(y_train.shape)\n",
    "print(y_test.shape)"
   ]
  },
  {
   "cell_type": "code",
   "execution_count": 4,
   "metadata": {},
   "outputs": [],
   "source": [
    "#for RBF kernel\n",
    "#since it is taking very long long time to train so i have taken 20k data points\n",
    "final1 = final_data.head(20000)"
   ]
  },
  {
   "cell_type": "code",
   "execution_count": 5,
   "metadata": {},
   "outputs": [
    {
     "name": "stdout",
     "output_type": "stream",
     "text": [
      "Data\n",
      "(14000, 11)\n",
      "(6000, 11)\n",
      "Label\n",
      "(14000,)\n",
      "(6000,)\n"
     ]
    }
   ],
   "source": [
    "#for RBF kernel\n",
    "X_train_data1 = final1[:14000]\n",
    "X_test_data1 = final1[14000:20000]\n",
    "y_train1 = X_train_data1['Score']\n",
    "y_test1 = X_test_data1['Score']\n",
    "print(\"Data\")\n",
    "print(X_train_data1.shape)\n",
    "print(X_test_data1.shape)\n",
    "print(\"Label\")\n",
    "print(y_train1.shape)\n",
    "print(y_test1.shape) \n",
    "# since it take very long time for computation so i have take 30k points and from that i have taken 21k for training and 9k for testing"
   ]
  },
  {
   "cell_type": "code",
   "execution_count": null,
   "metadata": {},
   "outputs": [],
   "source": []
  },
  {
   "cell_type": "markdown",
   "metadata": {},
   "source": [
    "<h2><font color='red'>[3.2] Preprocessing Review Summary</font></h2>"
   ]
  },
  {
   "cell_type": "code",
   "execution_count": 6,
   "metadata": {},
   "outputs": [],
   "source": [
    "## Similartly you can do preprocessing for review summary also."
   ]
  },
  {
   "cell_type": "markdown",
   "metadata": {},
   "source": [
    "# [4] Featurization"
   ]
  },
  {
   "cell_type": "markdown",
   "metadata": {},
   "source": [
    "## [4.1] BAG OF WORDS"
   ]
  },
  {
   "cell_type": "code",
   "execution_count": null,
   "metadata": {},
   "outputs": [],
   "source": [
    "# For Linear Kernel"
   ]
  },
  {
   "cell_type": "code",
   "execution_count": 16,
   "metadata": {},
   "outputs": [
    {
     "name": "stdout",
     "output_type": "stream",
     "text": [
      "**Bow Vectorizer**\n",
      "==================================================\n",
      "(60000, 2951)\n",
      "(40000, 2951)\n"
     ]
    }
   ],
   "source": [
    "#BoW on Text\n",
    "print(\"**Bow Vectorizer**\")\n",
    "print(\"=\"*50)\n",
    "count_vect = CountVectorizer(min_df = 50)\n",
    "X_train_BOW = count_vect.fit_transform(X_train_data['CleanedText'])\n",
    "X_test_BOW = count_vect.transform(X_test_data['CleanedText'])\n",
    "print(X_train_BOW.shape)\n",
    "print(X_test_BOW.shape)"
   ]
  },
  {
   "cell_type": "code",
   "execution_count": 6,
   "metadata": {},
   "outputs": [],
   "source": [
    "# For RBF Kernel"
   ]
  },
  {
   "cell_type": "code",
   "execution_count": 7,
   "metadata": {},
   "outputs": [
    {
     "name": "stdout",
     "output_type": "stream",
     "text": [
      "**Bow Vectorizer**\n",
      "==================================================\n",
      "(14000, 250)\n",
      "(6000, 250)\n"
     ]
    }
   ],
   "source": [
    "#BoW on Text\n",
    "print(\"**Bow Vectorizer**\")\n",
    "print(\"=\"*50)\n",
    "count_vect1 = CountVectorizer(min_df = 50,max_features=250) #since it is very costly for rbf kernel so reducing the dimention\n",
    "X_train_BOW1 = count_vect1.fit_transform(X_train_data1['CleanedText'])\n",
    "X_test_BOW1 = count_vect1.transform(X_test_data1['CleanedText'])\n",
    "print(X_train_BOW1.shape)\n",
    "print(X_test_BOW1.shape)"
   ]
  },
  {
   "cell_type": "markdown",
   "metadata": {},
   "source": [
    "## [4.2] Bi-Grams and n-Grams."
   ]
  },
  {
   "cell_type": "code",
   "execution_count": null,
   "metadata": {},
   "outputs": [],
   "source": []
  },
  {
   "cell_type": "markdown",
   "metadata": {},
   "source": [
    "## [4.3] TF-IDF"
   ]
  },
  {
   "cell_type": "code",
   "execution_count": null,
   "metadata": {},
   "outputs": [],
   "source": [
    "# For Linear Kernel"
   ]
  },
  {
   "cell_type": "code",
   "execution_count": 17,
   "metadata": {},
   "outputs": [
    {
     "name": "stdout",
     "output_type": "stream",
     "text": [
      "**TFIDF Vectorizer**\n",
      "==================================================\n",
      "(60000, 2951)\n",
      "(40000, 2951)\n"
     ]
    }
   ],
   "source": [
    "#TFIDF on Text\n",
    "print(\"**TFIDF Vectorizer**\")\n",
    "print(\"=\"*50)\n",
    "tf_idf_vect = TfidfVectorizer(min_df = 50)\n",
    "X_train_tfidf = tf_idf_vect.fit_transform(X_train_data['CleanedText'])\n",
    "X_test_tfidf = tf_idf_vect.transform(X_test_data['CleanedText'])\n",
    "print(X_train_tfidf.shape)\n",
    "print(X_test_tfidf.shape)"
   ]
  },
  {
   "cell_type": "code",
   "execution_count": 8,
   "metadata": {},
   "outputs": [],
   "source": [
    "# For RBF Kernel"
   ]
  },
  {
   "cell_type": "code",
   "execution_count": 6,
   "metadata": {},
   "outputs": [
    {
     "name": "stdout",
     "output_type": "stream",
     "text": [
      "**TFIDF Vectorizer**\n",
      "==================================================\n",
      "(14000, 250)\n",
      "(6000, 250)\n"
     ]
    }
   ],
   "source": [
    "#TFIDF on Text\n",
    "print(\"**TFIDF Vectorizer**\")\n",
    "print(\"=\"*50)\n",
    "tf_idf_vect1 = TfidfVectorizer(min_df = 50,max_features=250)#since it is very costly for rbf kernel so reducing the dimention\n",
    "X_train_tfidf1 = tf_idf_vect1.fit_transform(X_train_data1['CleanedText'])\n",
    "X_test_tfidf1 = tf_idf_vect1.transform(X_test_data1['CleanedText'])\n",
    "print(X_train_tfidf1.shape)\n",
    "print(X_test_tfidf1.shape)"
   ]
  },
  {
   "cell_type": "markdown",
   "metadata": {},
   "source": [
    "## [4.4] Word2Vec"
   ]
  },
  {
   "cell_type": "code",
   "execution_count": null,
   "metadata": {},
   "outputs": [],
   "source": [
    "# for Linear kernel"
   ]
  },
  {
   "cell_type": "code",
   "execution_count": 18,
   "metadata": {},
   "outputs": [
    {
     "name": "stderr",
     "output_type": "stream",
     "text": [
      "100%|██████████████████████████████████████████████████████████████████████████| 60000/60000 [00:17<00:00, 3403.32it/s]\n"
     ]
    }
   ],
   "source": [
    "import gensim\n",
    "i=0\n",
    "list_of_sent_train=[]\n",
    "for sent in tqdm(X_train_data['Text'].values):\n",
    "    filtered_sentence=[]\n",
    "    sent=cleanhtml(sent)\n",
    "    for w in sent.split():\n",
    "        for cleaned_words in cleanpunc(w).split():\n",
    "            if(cleaned_words.isalpha()):    # checking is the word is alphabet\n",
    "                filtered_sentence.append(cleaned_words.lower()) # appending to the list\n",
    "            else:\n",
    "                continue \n",
    "    list_of_sent_train.append(filtered_sentence)"
   ]
  },
  {
   "cell_type": "code",
   "execution_count": 19,
   "metadata": {
    "scrolled": true
   },
   "outputs": [
    {
     "name": "stderr",
     "output_type": "stream",
     "text": [
      "100%|██████████████████████████████████████████████████████████████████████████| 40000/40000 [00:13<00:00, 3000.71it/s]\n"
     ]
    }
   ],
   "source": [
    "import gensim\n",
    "i=0\n",
    "list_of_sent_test=[]\n",
    "for sent in tqdm(X_test_data['Text'].values):\n",
    "    filtered_sentence=[]\n",
    "    sent=cleanhtml(sent)\n",
    "    for w in sent.split():\n",
    "        for cleaned_words in cleanpunc(w).split():\n",
    "            if(cleaned_words.isalpha()):    # checking is the word is alphabet\n",
    "                filtered_sentence.append(cleaned_words.lower()) # appending to the list\n",
    "            else:\n",
    "                continue \n",
    "    list_of_sent_test.append(filtered_sentence)"
   ]
  },
  {
   "cell_type": "code",
   "execution_count": 20,
   "metadata": {},
   "outputs": [
    {
     "name": "stdout",
     "output_type": "stream",
     "text": [
      "this witty little book makes my son laugh at loud. i recite it in the car as we're driving along and he always can sing the refrain. he's learned about whales, India, drooping roses:  i love all the new words this book  introduces and the silliness of it all.  this is a classic book i am  willing to bet my son will STILL be able to recite from memory when he is  in college\n",
      "*****************************************************************\n",
      "['this', 'witty', 'little', 'book', 'makes', 'my', 'son', 'laugh', 'at', 'loud', 'i', 'recite', 'it', 'in', 'the', 'car', 'as', 'were', 'driving', 'along', 'and', 'he', 'always', 'can', 'sing', 'the', 'refrain', 'hes', 'learned', 'about', 'whales', 'india', 'drooping', 'i', 'love', 'all', 'the', 'new', 'words', 'this', 'book', 'introduces', 'and', 'the', 'silliness', 'of', 'it', 'all', 'this', 'is', 'a', 'classic', 'book', 'i', 'am', 'willing', 'to', 'bet', 'my', 'son', 'will', 'still', 'be', 'able', 'to', 'recite', 'from', 'memory', 'when', 'he', 'is', 'in', 'college']\n"
     ]
    }
   ],
   "source": [
    "print(X_train_data['Text'].values[0])\n",
    "print(\"*****************************************************************\")\n",
    "print(list_of_sent_train[0])"
   ]
  },
  {
   "cell_type": "code",
   "execution_count": 21,
   "metadata": {},
   "outputs": [],
   "source": [
    "w2v_model=gensim.models.Word2Vec(list_of_sent_train,min_count=5,size=50, workers=6)"
   ]
  },
  {
   "cell_type": "code",
   "execution_count": 22,
   "metadata": {},
   "outputs": [
    {
     "name": "stdout",
     "output_type": "stream",
     "text": [
      "14907\n"
     ]
    }
   ],
   "source": [
    "w2v_words = list(w2v_model.wv.vocab)\n",
    "print(len(w2v_words))"
   ]
  },
  {
   "cell_type": "code",
   "execution_count": 23,
   "metadata": {},
   "outputs": [
    {
     "data": {
      "text/plain": [
       "[('great', 0.8150734305381775),\n",
       " ('decent', 0.7626655697822571),\n",
       " ('fantastic', 0.7215977907180786),\n",
       " ('yummy', 0.7074267268180847),\n",
       " ('bad', 0.6985136270523071),\n",
       " ('fine', 0.6977730393409729),\n",
       " ('wonderful', 0.6919105052947998),\n",
       " ('tasty', 0.6868084669113159),\n",
       " ('terrific', 0.6795011162757874),\n",
       " ('awesome', 0.6652669906616211)]"
      ]
     },
     "execution_count": 23,
     "metadata": {},
     "output_type": "execute_result"
    }
   ],
   "source": [
    "w2v_model.wv.most_similar('good')"
   ]
  },
  {
   "cell_type": "code",
   "execution_count": 24,
   "metadata": {},
   "outputs": [
    {
     "data": {
      "text/plain": [
       "[('satisfying', 0.8221983313560486),\n",
       " ('filling', 0.813472330570221),\n",
       " ('yummy', 0.8058117628097534),\n",
       " ('delicious', 0.8046582937240601),\n",
       " ('tastey', 0.7333153486251831),\n",
       " ('flavorful', 0.7171689867973328),\n",
       " ('nutritious', 0.6994925141334534),\n",
       " ('hearty', 0.6935489177703857),\n",
       " ('healthy', 0.6896628141403198),\n",
       " ('versatile', 0.6870435476303101)]"
      ]
     },
     "execution_count": 24,
     "metadata": {},
     "output_type": "execute_result"
    }
   ],
   "source": [
    "w2v_model.wv.most_similar('tasty')"
   ]
  },
  {
   "cell_type": "code",
   "execution_count": 27,
   "metadata": {},
   "outputs": [
    {
     "data": {
      "text/plain": [
       "[('terrible', 0.9271645545959473),\n",
       " ('awful', 0.8844239115715027),\n",
       " ('funny', 0.8325157761573792),\n",
       " ('weird', 0.8166970014572144),\n",
       " ('disgusting', 0.8017832040786743),\n",
       " ('nasty', 0.7596052885055542),\n",
       " ('gross', 0.7593578100204468),\n",
       " ('strange', 0.7512959837913513),\n",
       " ('ok', 0.713072657585144),\n",
       " ('bad', 0.6877822279930115)]"
      ]
     },
     "execution_count": 27,
     "metadata": {},
     "output_type": "execute_result"
    }
   ],
   "source": [
    "w2v_model.wv.most_similar('horrible')"
   ]
  },
  {
   "cell_type": "code",
   "execution_count": 7,
   "metadata": {},
   "outputs": [],
   "source": [
    "# for RBF kernel"
   ]
  },
  {
   "cell_type": "code",
   "execution_count": 8,
   "metadata": {},
   "outputs": [
    {
     "name": "stderr",
     "output_type": "stream",
     "text": [
      "100%|██████████████████████████████████████████████████████████████████████████| 14000/14000 [00:03<00:00, 3539.92it/s]\n"
     ]
    }
   ],
   "source": [
    "import gensim\n",
    "i=0\n",
    "list_of_sent_train1=[]\n",
    "for sent in tqdm(X_train_data1['Text'].values):\n",
    "    filtered_sentence=[]\n",
    "    sent=cleanhtml(sent)\n",
    "    for w in sent.split():\n",
    "        for cleaned_words in cleanpunc(w).split():\n",
    "            if(cleaned_words.isalpha()):    # checking is the word is alphabet\n",
    "                filtered_sentence.append(cleaned_words.lower()) # appending to the list\n",
    "            else:\n",
    "                continue \n",
    "    list_of_sent_train1.append(filtered_sentence)"
   ]
  },
  {
   "cell_type": "code",
   "execution_count": 9,
   "metadata": {
    "scrolled": true
   },
   "outputs": [
    {
     "name": "stderr",
     "output_type": "stream",
     "text": [
      "100%|████████████████████████████████████████████████████████████████████████████| 6000/6000 [00:01<00:00, 4015.34it/s]\n"
     ]
    }
   ],
   "source": [
    "import gensim\n",
    "i=0\n",
    "list_of_sent_test1=[]\n",
    "for sent in tqdm(X_test_data1['Text'].values):\n",
    "    filtered_sentence=[]\n",
    "    sent=cleanhtml(sent)\n",
    "    for w in sent.split():\n",
    "        for cleaned_words in cleanpunc(w).split():\n",
    "            if(cleaned_words.isalpha()):    # checking is the word is alphabet\n",
    "                filtered_sentence.append(cleaned_words.lower()) # appending to the list\n",
    "            else:\n",
    "                continue \n",
    "    list_of_sent_test1.append(filtered_sentence)"
   ]
  },
  {
   "cell_type": "code",
   "execution_count": 10,
   "metadata": {},
   "outputs": [
    {
     "name": "stdout",
     "output_type": "stream",
     "text": [
      "this witty little book makes my son laugh at loud. i recite it in the car as we're driving along and he always can sing the refrain. he's learned about whales, India, drooping roses:  i love all the new words this book  introduces and the silliness of it all.  this is a classic book i am  willing to bet my son will STILL be able to recite from memory when he is  in college\n",
      "*****************************************************************\n",
      "['this', 'witty', 'little', 'book', 'makes', 'my', 'son', 'laugh', 'at', 'loud', 'i', 'recite', 'it', 'in', 'the', 'car', 'as', 'were', 'driving', 'along', 'and', 'he', 'always', 'can', 'sing', 'the', 'refrain', 'hes', 'learned', 'about', 'whales', 'india', 'drooping', 'i', 'love', 'all', 'the', 'new', 'words', 'this', 'book', 'introduces', 'and', 'the', 'silliness', 'of', 'it', 'all', 'this', 'is', 'a', 'classic', 'book', 'i', 'am', 'willing', 'to', 'bet', 'my', 'son', 'will', 'still', 'be', 'able', 'to', 'recite', 'from', 'memory', 'when', 'he', 'is', 'in', 'college']\n"
     ]
    }
   ],
   "source": [
    "print(X_train_data1['Text'].values[0])\n",
    "print(\"*****************************************************************\")\n",
    "print(list_of_sent_train1[0])"
   ]
  },
  {
   "cell_type": "code",
   "execution_count": 11,
   "metadata": {},
   "outputs": [],
   "source": [
    "w2v_model1=gensim.models.Word2Vec(list_of_sent_train1,min_count=5,size=50, workers=6)"
   ]
  },
  {
   "cell_type": "code",
   "execution_count": 12,
   "metadata": {},
   "outputs": [
    {
     "name": "stdout",
     "output_type": "stream",
     "text": [
      "7614\n"
     ]
    }
   ],
   "source": [
    "w2v_words1 = list(w2v_model1.wv.vocab)\n",
    "print(len(w2v_words1))"
   ]
  },
  {
   "cell_type": "code",
   "execution_count": 13,
   "metadata": {},
   "outputs": [
    {
     "data": {
      "text/plain": [
       "[('great', 0.7697887420654297),\n",
       " ('fine', 0.762452244758606),\n",
       " ('bad', 0.728742241859436),\n",
       " ('yummy', 0.6936498880386353),\n",
       " ('fantastic', 0.6931329369544983),\n",
       " ('amazing', 0.6921795606613159),\n",
       " ('delicious', 0.6793953776359558),\n",
       " ('wonderful', 0.6729916334152222),\n",
       " ('tasty', 0.6618772745132446),\n",
       " ('awesome', 0.6502667665481567)]"
      ]
     },
     "execution_count": 13,
     "metadata": {},
     "output_type": "execute_result"
    }
   ],
   "source": [
    "w2v_model1.wv.most_similar('good')"
   ]
  },
  {
   "cell_type": "code",
   "execution_count": 14,
   "metadata": {},
   "outputs": [
    {
     "data": {
      "text/plain": [
       "[('satisfying', 0.8953467607498169),\n",
       " ('yummy', 0.8878394365310669),\n",
       " ('filling', 0.8840778470039368),\n",
       " ('delicious', 0.8232280015945435),\n",
       " ('crunchy', 0.816642701625824),\n",
       " ('moist', 0.8067997694015503),\n",
       " ('nutritious', 0.8029323816299438),\n",
       " ('light', 0.7990099191665649),\n",
       " ('chewy', 0.7983318567276001),\n",
       " ('crisp', 0.7792033553123474)]"
      ]
     },
     "execution_count": 14,
     "metadata": {},
     "output_type": "execute_result"
    }
   ],
   "source": [
    "w2v_model1.wv.most_similar('tasty')"
   ]
  },
  {
   "cell_type": "code",
   "execution_count": 15,
   "metadata": {},
   "outputs": [
    {
     "data": {
      "text/plain": [
       "[('awful', 0.9164963364601135),\n",
       " ('terrible', 0.8859406113624573),\n",
       " ('disgusting', 0.8709102869033813),\n",
       " ('gross', 0.8381292819976807),\n",
       " ('ok', 0.8229803442955017),\n",
       " ('disapointed', 0.8087189197540283),\n",
       " ('weird', 0.8058222532272339),\n",
       " ('rubbery', 0.8024954795837402),\n",
       " ('okay', 0.7930898666381836),\n",
       " ('horrid', 0.7824522256851196)]"
      ]
     },
     "execution_count": 15,
     "metadata": {},
     "output_type": "execute_result"
    }
   ],
   "source": [
    "w2v_model1.wv.most_similar('horrible')"
   ]
  },
  {
   "cell_type": "markdown",
   "metadata": {},
   "source": [
    "## [4.4.1] Converting text into vectors using Avg W2V, TFIDF-W2V"
   ]
  },
  {
   "cell_type": "markdown",
   "metadata": {},
   "source": [
    "#### [4.4.1.1] Avg W2v"
   ]
  },
  {
   "cell_type": "code",
   "execution_count": 17,
   "metadata": {},
   "outputs": [],
   "source": [
    "# for Linear kernel"
   ]
  },
  {
   "cell_type": "code",
   "execution_count": 28,
   "metadata": {},
   "outputs": [
    {
     "name": "stderr",
     "output_type": "stream",
     "text": [
      "100%|███████████████████████████████████████████████████████████████████████████| 60000/60000 [03:20<00:00, 298.67it/s]\n"
     ]
    },
    {
     "name": "stdout",
     "output_type": "stream",
     "text": [
      "60000\n",
      "50\n"
     ]
    }
   ],
   "source": [
    "#TRAIN\n",
    "# average Word2Vec\n",
    "# compute average word2vec for each review.\n",
    "sent_vectors_train = []; \n",
    "for sent in tqdm(list_of_sent_train):\n",
    "    sent_vec = np.zeros(50) \n",
    "    cnt_words =0; \n",
    "    for word in sent: # \n",
    "        if word in w2v_words:\n",
    "            vec = w2v_model.wv[word]\n",
    "            sent_vec += vec\n",
    "            cnt_words += 1\n",
    "    if cnt_words != 0:\n",
    "        sent_vec /= cnt_words\n",
    "    sent_vectors_train.append(sent_vec) \n",
    "print(len(sent_vectors_train))\n",
    "print(len(sent_vectors_train[0]))"
   ]
  },
  {
   "cell_type": "code",
   "execution_count": 29,
   "metadata": {},
   "outputs": [
    {
     "name": "stderr",
     "output_type": "stream",
     "text": [
      "100%|███████████████████████████████████████████████████████████████████████████| 40000/40000 [02:17<00:00, 291.20it/s]\n"
     ]
    },
    {
     "name": "stdout",
     "output_type": "stream",
     "text": [
      "40000\n",
      "50\n"
     ]
    }
   ],
   "source": [
    "#TEST\n",
    "# average Word2Vec\n",
    "# compute average word2vec for each review.\n",
    "sent_vectors_test = []; \n",
    "for sent in tqdm(list_of_sent_test):\n",
    "    sent_vec = np.zeros(50) \n",
    "    cnt_words =0; \n",
    "    for word in sent: # \n",
    "        if word in w2v_words:\n",
    "            vec = w2v_model.wv[word]\n",
    "            sent_vec += vec\n",
    "            cnt_words += 1\n",
    "    if cnt_words != 0:\n",
    "        sent_vec /= cnt_words\n",
    "    sent_vectors_test.append(sent_vec) \n",
    "print(len(sent_vectors_test))\n",
    "print(len(sent_vectors_test[0]))"
   ]
  },
  {
   "cell_type": "code",
   "execution_count": 16,
   "metadata": {},
   "outputs": [],
   "source": [
    "# for RBF kernel"
   ]
  },
  {
   "cell_type": "code",
   "execution_count": 17,
   "metadata": {},
   "outputs": [
    {
     "name": "stderr",
     "output_type": "stream",
     "text": [
      "100%|███████████████████████████████████████████████████████████████████████████| 14000/14000 [00:38<00:00, 365.97it/s]\n"
     ]
    },
    {
     "name": "stdout",
     "output_type": "stream",
     "text": [
      "14000\n",
      "50\n"
     ]
    }
   ],
   "source": [
    "#TRAIN\n",
    "# average Word2Vec\n",
    "# compute average word2vec for each review.\n",
    "sent_vectors_train1 = []; \n",
    "for sent in tqdm(list_of_sent_train1):\n",
    "    sent_vec = np.zeros(50) \n",
    "    cnt_words =0; \n",
    "    for word in sent: # \n",
    "        if word in w2v_words1:\n",
    "            vec = w2v_model1.wv[word]\n",
    "            sent_vec += vec\n",
    "            cnt_words += 1\n",
    "    if cnt_words != 0:\n",
    "        sent_vec /= cnt_words\n",
    "    sent_vectors_train1.append(sent_vec) \n",
    "print(len(sent_vectors_train1))\n",
    "print(len(sent_vectors_train1[0]))"
   ]
  },
  {
   "cell_type": "code",
   "execution_count": 18,
   "metadata": {},
   "outputs": [
    {
     "name": "stderr",
     "output_type": "stream",
     "text": [
      "100%|█████████████████████████████████████████████████████████████████████████████| 6000/6000 [00:17<00:00, 347.82it/s]\n"
     ]
    },
    {
     "name": "stdout",
     "output_type": "stream",
     "text": [
      "6000\n",
      "50\n"
     ]
    }
   ],
   "source": [
    "#TEST\n",
    "# average Word2Vec\n",
    "# compute average word2vec for each review.\n",
    "sent_vectors_test1 = []; \n",
    "for sent in tqdm(list_of_sent_test1):\n",
    "    sent_vec = np.zeros(50) \n",
    "    cnt_words =0; \n",
    "    for word in sent: # \n",
    "        if word in w2v_words1:\n",
    "            vec = w2v_model1.wv[word]\n",
    "            sent_vec += vec\n",
    "            cnt_words += 1\n",
    "    if cnt_words != 0:\n",
    "        sent_vec /= cnt_words\n",
    "    sent_vectors_test1.append(sent_vec) \n",
    "print(len(sent_vectors_test1))\n",
    "print(len(sent_vectors_test1[0]))"
   ]
  },
  {
   "cell_type": "markdown",
   "metadata": {},
   "source": [
    "#### [4.4.1.2] TFIDF weighted W2v"
   ]
  },
  {
   "cell_type": "code",
   "execution_count": null,
   "metadata": {},
   "outputs": [],
   "source": [
    "#for Linear kernel"
   ]
  },
  {
   "cell_type": "code",
   "execution_count": 30,
   "metadata": {},
   "outputs": [
    {
     "name": "stdout",
     "output_type": "stream",
     "text": [
      "(60000, 2951)\n",
      "(40000, 2951)\n"
     ]
    }
   ],
   "source": [
    "tfidf_vect = TfidfVectorizer(min_df = 50)\n",
    "train_tfidf_w2v = tfidf_vect.fit_transform(X_train_data[\"CleanedText\"])\n",
    "test_tfidf_w2v = tfidf_vect.transform(X_test_data[\"CleanedText\"])\n",
    "dictionary = dict(zip(tfidf_vect.get_feature_names(), list(tfidf_vect.idf_)))\n",
    "print(train_tfidf_w2v.shape)\n",
    "print(test_tfidf_w2v.shape)"
   ]
  },
  {
   "cell_type": "code",
   "execution_count": 31,
   "metadata": {},
   "outputs": [
    {
     "name": "stderr",
     "output_type": "stream",
     "text": [
      "100%|███████████████████████████████████████████████████████████████████████████| 60000/60000 [07:26<00:00, 134.52it/s]\n"
     ]
    }
   ],
   "source": [
    "# TF-IDF weighted Word2Vec\n",
    "tfidf_feat = tfidf_vect.get_feature_names() # tfidf words/col-names\n",
    "# final_tf_idf is the sparse matrix with row= sentence, col=word and cell_val = tfidf\n",
    "\n",
    "tfidf_sent_vectors_train = []; # the tfidf-w2v for each sentence/review is stored in this list\n",
    "row=0;\n",
    "for sent in tqdm(list_of_sent_train): # for each review/sentence \n",
    "    sent_vec = np.zeros(50) # as word vectors are of zero length\n",
    "    weight_sum =0; # num of words with a valid vector in the sentence/review\n",
    "    for word in sent: # for each word in a review/sentence\n",
    "        if word in w2v_words and word in tfidf_feat:\n",
    "            vec = w2v_model.wv[word]\n",
    "#             tf_idf = tf_idf_matrix[row, tfidf_feat.index(word)]\n",
    "            # to reduce the computation we are \n",
    "            # dictionary[word] = idf value of word in whole courpus\n",
    "            # sent.count(word) = tf valeus of word in this review\n",
    "            tf_idf = dictionary[word]*(sent.count(word)/len(sent))\n",
    "            sent_vec += (vec * tf_idf)\n",
    "            weight_sum += tf_idf\n",
    "    if weight_sum != 0:\n",
    "        sent_vec /= weight_sum\n",
    "    tfidf_sent_vectors_train.append(sent_vec)\n",
    "    row += 1"
   ]
  },
  {
   "cell_type": "code",
   "execution_count": 32,
   "metadata": {},
   "outputs": [
    {
     "name": "stderr",
     "output_type": "stream",
     "text": [
      "100%|███████████████████████████████████████████████████████████████████████████| 40000/40000 [05:19<00:00, 125.18it/s]\n"
     ]
    }
   ],
   "source": [
    "# TF-IDF weighted Word2Vec\n",
    "tfidf_feat = tfidf_vect.get_feature_names() # tfidf words/col-names\n",
    "# final_tf_idf is the sparse matrix with row= sentence, col=word and cell_val = tfidf\n",
    "\n",
    "tfidf_sent_vectors_test = []; # the tfidf-w2v for each sentence/review is stored in this list\n",
    "row=0;\n",
    "for sent in tqdm(list_of_sent_test): # for each review/sentence \n",
    "    sent_vec = np.zeros(50) # as word vectors are of zero length\n",
    "    weight_sum =0; # num of words with a valid vector in the sentence/review\n",
    "    for word in sent: # for each word in a review/sentence\n",
    "        if word in w2v_words and word in tfidf_feat:\n",
    "            vec = w2v_model.wv[word]\n",
    "#             tf_idf = tf_idf_matrix[row, tfidf_feat.index(word)]\n",
    "            # to reduce the computation we are \n",
    "            # dictionary[word] = idf value of word in whole courpus\n",
    "            # sent.count(word) = tf valeus of word in this review\n",
    "            tf_idf = dictionary[word]*(sent.count(word)/len(sent))\n",
    "            sent_vec += (vec * tf_idf)\n",
    "            weight_sum += tf_idf\n",
    "    if weight_sum != 0:\n",
    "        sent_vec /= weight_sum\n",
    "    tfidf_sent_vectors_test.append(sent_vec)\n",
    "    row += 1"
   ]
  },
  {
   "cell_type": "code",
   "execution_count": 25,
   "metadata": {},
   "outputs": [],
   "source": [
    "#for RBF kernel"
   ]
  },
  {
   "cell_type": "code",
   "execution_count": 26,
   "metadata": {},
   "outputs": [
    {
     "name": "stdout",
     "output_type": "stream",
     "text": [
      "(14000, 500)\n",
      "(6000, 500)\n"
     ]
    }
   ],
   "source": [
    "tfidf_vect1 = TfidfVectorizer(min_df = 10,max_features=500)\n",
    "train_tfidf_w2v1 = tfidf_vect1.fit_transform(X_train_data1[\"CleanedText\"])\n",
    "test_tfidf_w2v1 = tfidf_vect1.transform(X_test_data1[\"CleanedText\"])\n",
    "dictionary = dict(zip(tfidf_vect1.get_feature_names(), list(tfidf_vect1.idf_)))\n",
    "print(train_tfidf_w2v1.shape)\n",
    "print(test_tfidf_w2v1.shape)"
   ]
  },
  {
   "cell_type": "code",
   "execution_count": 27,
   "metadata": {},
   "outputs": [
    {
     "name": "stderr",
     "output_type": "stream",
     "text": [
      "100%|███████████████████████████████████████████████████████████████████████████| 14000/14000 [00:46<00:00, 302.61it/s]\n"
     ]
    }
   ],
   "source": [
    "# TF-IDF weighted Word2Vec\n",
    "tfidf_feat1 = tfidf_vect1.get_feature_names() # tfidf words/col-names\n",
    "# final_tf_idf is the sparse matrix with row= sentence, col=word and cell_val = tfidf\n",
    "\n",
    "tfidf_sent_vectors_train1 = []; # the tfidf-w2v for each sentence/review is stored in this list\n",
    "row=0;\n",
    "for sent in tqdm(list_of_sent_train1): # for each review/sentence \n",
    "    sent_vec = np.zeros(50) # as word vectors are of zero length\n",
    "    weight_sum =0; # num of words with a valid vector in the sentence/review\n",
    "    for word in sent: # for each word in a review/sentence\n",
    "        if word in w2v_words1 and word in tfidf_feat1:\n",
    "            vec = w2v_model1.wv[word]\n",
    "#             tf_idf = tf_idf_matrix[row, tfidf_feat.index(word)]\n",
    "            # to reduce the computation we are \n",
    "            # dictionary[word] = idf value of word in whole courpus\n",
    "            # sent.count(word) = tf valeus of word in this review\n",
    "            tf_idf = dictionary[word]*(sent.count(word)/len(sent))\n",
    "            sent_vec += (vec * tf_idf)\n",
    "            weight_sum += tf_idf\n",
    "    if weight_sum != 0:\n",
    "        sent_vec /= weight_sum\n",
    "    tfidf_sent_vectors_train1.append(sent_vec)\n",
    "    row += 1"
   ]
  },
  {
   "cell_type": "code",
   "execution_count": 28,
   "metadata": {},
   "outputs": [
    {
     "name": "stderr",
     "output_type": "stream",
     "text": [
      "100%|█████████████████████████████████████████████████████████████████████████████| 6000/6000 [00:18<00:00, 322.67it/s]\n"
     ]
    }
   ],
   "source": [
    "# TF-IDF weighted Word2Vec\n",
    "tfidf_feat1 = tfidf_vect1.get_feature_names() # tfidf words/col-names\n",
    "# final_tf_idf is the sparse matrix with row= sentence, col=word and cell_val = tfidf\n",
    "\n",
    "tfidf_sent_vectors_test1 = []; # the tfidf-w2v for each sentence/review is stored in this list\n",
    "row=0;\n",
    "for sent in tqdm(list_of_sent_test1): # for each review/sentence \n",
    "    sent_vec = np.zeros(50) # as word vectors are of zero length\n",
    "    weight_sum =0; # num of words with a valid vector in the sentence/review\n",
    "    for word in sent: # for each word in a review/sentence\n",
    "        if word in w2v_words1 and word in tfidf_feat1:\n",
    "            vec = w2v_model1.wv[word]\n",
    "#             tf_idf = tf_idf_matrix[row, tfidf_feat.index(word)]\n",
    "            # to reduce the computation we are \n",
    "            # dictionary[word] = idf value of word in whole courpus\n",
    "            # sent.count(word) = tf valeus of word in this review\n",
    "            tf_idf = dictionary[word]*(sent.count(word)/len(sent))\n",
    "            sent_vec += (vec * tf_idf)\n",
    "            weight_sum += tf_idf\n",
    "    if weight_sum != 0:\n",
    "        sent_vec /= weight_sum\n",
    "    tfidf_sent_vectors_test1.append(sent_vec)\n",
    "    row += 1"
   ]
  },
  {
   "cell_type": "markdown",
   "metadata": {},
   "source": [
    "# [5] Assignment 7: SVM"
   ]
  },
  {
   "cell_type": "markdown",
   "metadata": {},
   "source": [
    "<ol>\n",
    "    <li><strong>Apply SVM on these feature sets</strong>\n",
    "        <ul>\n",
    "            <li><font color='red'>SET 1:</font>Review text, preprocessed one converted into vectors using (BOW)</li>\n",
    "            <li><font color='red'>SET 2:</font>Review text, preprocessed one converted into vectors using (TFIDF)</li>\n",
    "            <li><font color='red'>SET 3:</font>Review text, preprocessed one converted into vectors using (AVG W2v)</li>\n",
    "            <li><font color='red'>SET 4:</font>Review text, preprocessed one converted into vectors using (TFIDF W2v)</li>\n",
    "        </ul>\n",
    "    </li>\n",
    "    <br>\n",
    "    <li><strong>Procedure</strong>\n",
    "        <ul>\n",
    "    <li>You need to work with 2 versions of SVM\n",
    "        <ul><li>Linear kernel</li>\n",
    "            <li>RBF kernel</li></ul>\n",
    "    <li>When you are working with linear kernel, use SGDClassifier’ with hinge loss because it is computationally less expensive.</li>\n",
    "    <li>When you are working with ‘SGDClassifier’ with hinge loss and trying to find the AUC\n",
    "        score, you would have to use <a href='https://scikit-learn.org/stable/modules/generated/sklearn.calibration.CalibratedClassifierCV.html'>CalibratedClassifierCV</a></li>\n",
    "    <li>Similarly, like kdtree of knn, when you are working with RBF kernel it's better to reduce\n",
    "the number of dimensions. You can put min_df = 10, max_features = 500 and consider a sample size of 40k points.</li>                \n",
    "        </ul>\n",
    "    </li>\n",
    "    <br>\n",
    "    <li><strong>Hyper paramter tuning (find best alpha in range [10^-4 to 10^4], and the best penalty among 'l1', 'l2')</strong>\n",
    "        <ul>\n",
    "    <li>Find the best hyper parameter which will give the maximum <a href='https://www.appliedaicourse.com/course/applied-ai-course-online/lessons/receiver-operating-characteristic-curve-roc-curve-and-auc-1/'>AUC</a> value</li>\n",
    "    <li>Find the best hyper paramter using k-fold cross validation or simple cross validation data</li>\n",
    "    <li>Use gridsearch cv or randomsearch cv or you can also write your own for loops to do this task of hyperparameter tuning</li>          \n",
    "        </ul>\n",
    "    </li>\n",
    "    <br>\n",
    "    <li><strong>Feature importance</strong>\n",
    "        <ul>\n",
    "    <li>When you are working on the linear kernel with BOW or TFIDF please print the top 10 best\n",
    "features for each of the positive and negative classes.</li>\n",
    "        </ul>\n",
    "    </li>\n",
    "    <br>\n",
    "    <li><strong>Feature engineering</strong>\n",
    "        <ul>\n",
    "    <li>To increase the performance of your model, you can also experiment with with feature engineering like :</li>\n",
    "            <ul>\n",
    "            <li>Taking length of reviews as another feature.</li>\n",
    "            <li>Considering some features from review summary as well.</li>\n",
    "        </ul>\n",
    "        </ul>\n",
    "    </li>\n",
    "    <br>\n",
    "    <li><strong>Representation of results</strong>\n",
    "        <ul>\n",
    "    <li>You need to plot the performance of model both on train data and cross validation data for each hyper parameter, like shown in the figure.\n",
    "    <img src='train_cv_auc.JPG' width=300px></li>\n",
    "    <li>Once after you found the best hyper parameter, you need to train your model with it, and find the AUC on test data and plot the ROC curve on both train and test.\n",
    "    <img src='train_test_auc.JPG' width=300px></li>\n",
    "    <li>Along with plotting ROC curve, you need to print the <a href='https://www.appliedaicourse.com/course/applied-ai-course-online/lessons/confusion-matrix-tpr-fpr-fnr-tnr-1/'>confusion matrix</a> with predicted and original labels of test data points. Please visualize your confusion matrices using <a href='https://seaborn.pydata.org/generated/seaborn.heatmap.html'>seaborn heatmaps.\n",
    "    <img src='confusion_matrix.png' width=300px></li>\n",
    "        </ul>\n",
    "    </li>\n",
    "    <br>\n",
    "    <li><strong>Conclusion</strong>\n",
    "        <ul>\n",
    "    <li>You need to summarize the results at the end of the notebook, summarize it in the table format. To print out a table please refer to this prettytable library<a href='http://zetcode.com/python/prettytable/'>  link</a> \n",
    "        <img src='summary.JPG' width=400px>\n",
    "    </li>\n",
    "        </ul>\n",
    "</ol>"
   ]
  },
  {
   "cell_type": "markdown",
   "metadata": {},
   "source": [
    "<h4><font color='red'>Note: Data Leakage</font></h4>\n",
    "\n",
    "1. There will be an issue of data-leakage if you vectorize the entire data and then split it into train/cv/test.\n",
    "2. To avoid the issue of data-leakag, make sure to split your data first and then vectorize it. \n",
    "3. While vectorizing your data, apply the method fit_transform() on you train data, and apply the method transform() on cv/test data.\n",
    "4. For more details please go through this <a href='https://soundcloud.com/applied-ai-course/leakage-bow-and-tfidf'>link.</a>"
   ]
  },
  {
   "cell_type": "code",
   "execution_count": 7,
   "metadata": {},
   "outputs": [],
   "source": [
    "from sklearn import linear_model\n",
    "from sklearn import linear_model\n",
    "from sklearn.calibration import CalibratedClassifierCV\n",
    "from sklearn.metrics import roc_auc_score\n",
    "from sklearn.preprocessing import StandardScaler\n",
    "import scikitplot as skplt\n",
    "from cycler import cycler\n",
    "from sklearn.model_selection import GridSearchCV\n",
    "from sklearn import svm"
   ]
  },
  {
   "cell_type": "markdown",
   "metadata": {},
   "source": [
    "# Applying SVM"
   ]
  },
  {
   "cell_type": "markdown",
   "metadata": {},
   "source": [
    "## [5.1] Linear SVM"
   ]
  },
  {
   "cell_type": "markdown",
   "metadata": {},
   "source": [
    "### [5.1.1] Applying Linear SVM on BOW,<font color='red'> SET 1</font>"
   ]
  },
  {
   "cell_type": "code",
   "execution_count": 153,
   "metadata": {},
   "outputs": [
    {
     "name": "stderr",
     "output_type": "stream",
     "text": [
      "C:\\Users\\lenovo\\Anaconda3\\lib\\site-packages\\sklearn\\utils\\validation.py:595: DataConversionWarning: Data with input dtype int64 was converted to float64 by StandardScaler.\n",
      "  warnings.warn(msg, DataConversionWarning)\n",
      "C:\\Users\\lenovo\\Anaconda3\\lib\\site-packages\\sklearn\\utils\\validation.py:595: DataConversionWarning: Data with input dtype int64 was converted to float64 by StandardScaler.\n",
      "  warnings.warn(msg, DataConversionWarning)\n",
      "C:\\Users\\lenovo\\Anaconda3\\lib\\site-packages\\sklearn\\utils\\validation.py:595: DataConversionWarning: Data with input dtype int64 was converted to float64 by StandardScaler.\n",
      "  warnings.warn(msg, DataConversionWarning)\n"
     ]
    }
   ],
   "source": [
    "sc = StandardScaler(copy=True, with_mean=False, with_std=True)\n",
    "X_train = sc.fit_transform(X_train_BOW)\n",
    "X_test = sc.transform(X_test_BOW)"
   ]
  },
  {
   "cell_type": "code",
   "execution_count": 154,
   "metadata": {},
   "outputs": [
    {
     "name": "stderr",
     "output_type": "stream",
     "text": [
      "100%|████████████████████████████████████████████████████████████████████████████████████| 9/9 [00:25<00:00,  2.84s/it]\n"
     ]
    }
   ],
   "source": [
    "alpha = [10**-4, 10**-3, 10**-2, 10**-1, 10**0, 10**1, 10**2, 10**3, 10**4] #alpha range between 10^-4 to 10^4\n",
    "auc_score=[] # storing the auc value for each alpha\n",
    "\n",
    "\n",
    "for i in tqdm(alpha):\n",
    "    model = linear_model.SGDClassifier(alpha=i, loss='hinge', class_weight='balanced')\n",
    "    model.fit(X_train, y_train)\n",
    "    \n",
    "    Cal_CV_model = CalibratedClassifierCV(model, method=\"sigmoid\",cv=10)\n",
    "    Cal_CV_model.fit(X_train, y_train)\n",
    "    predict_y = Cal_CV_model.predict_proba(X_train)\n",
    "    preds = predict_y[:,1]\n",
    "    roc_auc = roc_auc_score(y_train, preds)\n",
    "    auc_score.append(roc_auc)"
   ]
  },
  {
   "cell_type": "code",
   "execution_count": 155,
   "metadata": {},
   "outputs": [
    {
     "name": "stdout",
     "output_type": "stream",
     "text": [
      "\n",
      "The optimal value of alpha is 0.010.\n"
     ]
    },
    {
     "data": {
      "image/png": "[encoded data removed]",
      "text/plain": [
       "<Figure size 432x288 with 1 Axes>"
      ]
     },
     "metadata": {
      "needs_background": "light"
     },
     "output_type": "display_data"
    }
   ],
   "source": [
    "# determining best value of alpha\n",
    "optimal_alpha = alpha[auc_score.index(max(auc_score))]\n",
    "print('\\nThe optimal value of alpha is %.3f.' % optimal_alpha)\n",
    "# plot accuracy vs alpha \n",
    "plt.plot(alpha, auc_score,label=\"Train AUC\")\n",
    "plt.xlabel('Hypreparameter',size=9)\n",
    "plt.ylabel('Area under ROC Curve',size=9)\n",
    "plt.title('Area under ROC Curve VS Hyperparameter curve',size=16)\n",
    "plt.legend(loc='best')\n",
    "plt.grid()\n",
    "plt.show()\n"
   ]
  },
  {
   "cell_type": "code",
   "execution_count": 156,
   "metadata": {},
   "outputs": [
    {
     "name": "stdout",
     "output_type": "stream",
     "text": [
      "***Test Data Report***\n",
      "Best alpha =  0.01\n",
      "AUC =  91.86692655900659\n"
     ]
    },
    {
     "data": {
      "image/png": "[encoded data removed]",
      "text/plain": [
       "<Figure size 432x288 with 2 Axes>"
      ]
     },
     "metadata": {
      "needs_background": "light"
     },
     "output_type": "display_data"
    },
    {
     "data": {
      "image/png": "[encoded data removed]",
      "text/plain": [
       "<Figure size 432x288 with 1 Axes>"
      ]
     },
     "metadata": {
      "needs_background": "light"
     },
     "output_type": "display_data"
    }
   ],
   "source": [
    "# Logistic Regression with Optimal value of C i.e.(1/lambda)\n",
    "model = linear_model.SGDClassifier(alpha=optimal_alpha, loss='hinge', class_weight='balanced')\n",
    "model.fit(X_train, y_train)\n",
    "\n",
    "lr = CalibratedClassifierCV(model, method=\"sigmoid\",cv=10)\n",
    "lr.fit(X_train, y_train)\n",
    "pred = lr.predict(X_test)\n",
    "\n",
    "\n",
    "print(\"***Test Data Report***\")\n",
    "print(\"Best alpha = \",optimal_alpha)\n",
    "fpr, tpr, threshold = metrics.roc_curve(y_test, lr.predict_proba(X_test)[:,1],pos_label=\"positive\")\n",
    "auc = metrics.auc(fpr, tpr)\n",
    "print(\"AUC = \",auc*100)\n",
    "skplt.metrics.plot_confusion_matrix(y_test, pred)\n",
    "plt.show()\n",
    "\n",
    "\n",
    "\n",
    "fpr, tpr, threshold = metrics.roc_curve(y_test, lr.predict_proba(X_test)[:,1],pos_label=\"positive\")\n",
    "fpr2, tpr2, threshold2 = metrics.roc_curve(y_train, lr.predict_proba(X_train)[:,1],pos_label=\"positive\")\n",
    "\n",
    "roc_auc = metrics.auc(fpr, tpr)\n",
    "roc_auc2 = metrics.auc(fpr2, tpr2)\n",
    "\n",
    "# method I: plt\n",
    "import matplotlib.pyplot as plt\n",
    "f, ax = plt.subplots()\n",
    "plt.title('Receiver Operating Characteristic Curve')\n",
    "cy = cycler('color', ['red', 'green', 'blue'])\n",
    "ax.set_prop_cycle(cy)\n",
    "ax.plot(fpr, tpr, label = 'AUC = %0.2f' % roc_auc)\n",
    "ax.plot(fpr2, tpr2, label = 'AUC = %0.2f' % roc_auc2)\n",
    "plt.legend(['TEST Data', 'TRAIN Data'],loc = 'lower right')\n",
    "\n",
    "ax.plot([0, 1], [0, 1])\n",
    "plt.xlim([0, 1])\n",
    "plt.ylim([0, 1])\n",
    "plt.ylabel('True Positive Rate')\n",
    "plt.xlabel('False Positive Rate')\n",
    "plt.show()"
   ]
  },
  {
   "cell_type": "markdown",
   "metadata": {},
   "source": [
    "## Positive Features"
   ]
  },
  {
   "cell_type": "code",
   "execution_count": 157,
   "metadata": {},
   "outputs": [
    {
     "name": "stdout",
     "output_type": "stream",
     "text": [
      "Positive feature top 20 :\n",
      "-------\n",
      "great\t-->\t0.723412\n",
      "love\t-->\t0.543646\n",
      "best\t-->\t0.500579\n",
      "perfect\t-->\t0.456267\n",
      "delici\t-->\t0.418959\n",
      "nice\t-->\t0.376998\n",
      "good\t-->\t0.368626\n",
      "excel\t-->\t0.364510\n",
      "amaz\t-->\t0.315307\n",
      "wonder\t-->\t0.272308\n",
      "happi\t-->\t0.241294\n",
      "favorit\t-->\t0.241027\n",
      "smooth\t-->\t0.240786\n",
      "addict\t-->\t0.239962\n",
      "use\t-->\t0.236288\n",
      "often\t-->\t0.234133\n",
      "alway\t-->\t0.227288\n",
      "beauti\t-->\t0.221237\n",
      "skeptic\t-->\t0.216643\n"
     ]
    }
   ],
   "source": [
    "#Top 20 positive features\n",
    "feature_name = count_vect.get_feature_names()\n",
    "w = model.coef_\n",
    "weight=w.reshape(-1)\n",
    "sorted_feature = np.argsort(weight)\n",
    "top_20_positive_feature=sorted_feature[:-20:-1]\n",
    "\n",
    "print(\"Positive feature top 20 :\")\n",
    "print(\"-------\")\n",
    "for i in top_20_positive_feature:\n",
    "    print(\"%s\\t-->\\t%f\"%(feature_name[i],weight[i]))"
   ]
  },
  {
   "cell_type": "markdown",
   "metadata": {},
   "source": [
    "## Negative Features"
   ]
  },
  {
   "cell_type": "code",
   "execution_count": 158,
   "metadata": {},
   "outputs": [
    {
     "name": "stdout",
     "output_type": "stream",
     "text": [
      "Negative feature top 20 :\n",
      "-------\n",
      "disappoint\t -->\t-0.343866  \n",
      "worst\t -->\t-0.318661  \n",
      "terribl\t -->\t-0.253012  \n",
      "unfortun\t -->\t-0.246452  \n",
      "bland\t -->\t-0.244275  \n",
      "hope\t -->\t-0.239821  \n",
      "aw\t -->\t-0.228602  \n",
      "tast\t -->\t-0.222850  \n",
      "product\t -->\t-0.222029  \n",
      "guess\t -->\t-0.213013  \n",
      "bad\t -->\t-0.205921  \n",
      "stool\t -->\t-0.204517  \n",
      "money\t -->\t-0.204111  \n",
      "would\t -->\t-0.181823  \n",
      "yuck\t -->\t-0.181754  \n",
      "return\t -->\t-0.174834  \n",
      "hemp\t -->\t-0.172570  \n",
      "stick\t -->\t-0.171421  \n",
      "lack\t -->\t-0.170732  \n",
      "liver\t -->\t-0.166372  \n"
     ]
    }
   ],
   "source": [
    "#Top 20 negative features\n",
    "weight=w.reshape(-1)\n",
    "sorted_feature = np.argsort(weight)\n",
    "feature_name = tf_idf_vect.get_feature_names()\n",
    "top_20_negative_feature = sorted_feature[:20]\n",
    "\n",
    "print(\"Negative feature top 20 :\")\n",
    "print(\"-------\")\n",
    "for i in top_20_negative_feature:\n",
    "    print(\"%s\\t -->\\t%f  \"%(feature_name[i],weight[i]))"
   ]
  },
  {
   "cell_type": "markdown",
   "metadata": {},
   "source": [
    "### [5.1.2] Applying Linear SVM on TFIDF,<font color='red'> SET 2</font>"
   ]
  },
  {
   "cell_type": "code",
   "execution_count": 159,
   "metadata": {},
   "outputs": [],
   "source": [
    "sc = StandardScaler(copy=True, with_mean=False, with_std=True)\n",
    "X_train = sc.fit_transform(X_train_tfidf)\n",
    "X_test = sc.transform(X_test_tfidf)"
   ]
  },
  {
   "cell_type": "code",
   "execution_count": 160,
   "metadata": {},
   "outputs": [
    {
     "name": "stderr",
     "output_type": "stream",
     "text": [
      "100%|████████████████████████████████████████████████████████████████████████████████████| 9/9 [00:20<00:00,  2.19s/it]\n"
     ]
    }
   ],
   "source": [
    "alpha = [10**-4, 10**-3, 10**-2, 10**-1, 10**0, 10**1, 10**2, 10**3, 10**4] #alpha range between 10^-4 to 10^4\n",
    "auc_score=[] # storing the auc value for each alpha\n",
    "\n",
    "\n",
    "for i in tqdm(alpha):\n",
    "    model = linear_model.SGDClassifier(alpha=i, loss='hinge', class_weight='balanced')\n",
    "    \n",
    "    Cal_CV_model = CalibratedClassifierCV(model, method=\"sigmoid\",cv=10)\n",
    "    Cal_CV_model.fit(X_train, y_train)\n",
    "    predict_y = Cal_CV_model.predict_proba(X_train)\n",
    "    preds = predict_y[:,1]\n",
    "    roc_auc = roc_auc_score(y_train, preds)\n",
    "    auc_score.append(roc_auc)"
   ]
  },
  {
   "cell_type": "code",
   "execution_count": 161,
   "metadata": {},
   "outputs": [
    {
     "name": "stdout",
     "output_type": "stream",
     "text": [
      "\n",
      "The optimal value of alpha is 0.010.\n"
     ]
    },
    {
     "data": {
      "image/png": "[encoded data removed]",
      "text/plain": [
       "<Figure size 432x288 with 1 Axes>"
      ]
     },
     "metadata": {
      "needs_background": "light"
     },
     "output_type": "display_data"
    }
   ],
   "source": [
    "# determining best value of alpha\n",
    "optimal_alpha = alpha[auc_score.index(max(auc_score))]\n",
    "print('\\nThe optimal value of alpha is %.3f.' % optimal_alpha)\n",
    "# plot accuracy vs alpha \n",
    "plt.plot(alpha, auc_score,label=\"Train AUC\")\n",
    "plt.xlabel('Hypreparameter',size=9)\n",
    "plt.ylabel('Area under ROC Curve',size=9)\n",
    "plt.title('Area under ROC Curve VS Hyperparameter curve',size=16)\n",
    "plt.legend(loc='best')\n",
    "plt.grid()\n",
    "plt.show()"
   ]
  },
  {
   "cell_type": "code",
   "execution_count": 162,
   "metadata": {},
   "outputs": [
    {
     "name": "stdout",
     "output_type": "stream",
     "text": [
      "***Test Data Report***\n",
      "Best alpha =  0.01\n",
      "AUC =  92.37793426568538\n"
     ]
    },
    {
     "data": {
      "image/png": "[encoded data removed]",
      "text/plain": [
       "<Figure size 432x288 with 2 Axes>"
      ]
     },
     "metadata": {
      "needs_background": "light"
     },
     "output_type": "display_data"
    },
    {
     "data": {
      "image/png": "[encoded data removed]",
      "text/plain": [
       "<Figure size 432x288 with 1 Axes>"
      ]
     },
     "metadata": {
      "needs_background": "light"
     },
     "output_type": "display_data"
    }
   ],
   "source": [
    "# Logistic Regression with Optimal value of C i.e.(1/lambda)\n",
    "model = linear_model.SGDClassifier(alpha=optimal_alpha, loss='hinge', class_weight='balanced')\n",
    "model.fit(X_train, y_train)\n",
    "\n",
    "lr = CalibratedClassifierCV(model, method=\"sigmoid\",cv=10)\n",
    "lr.fit(X_train, y_train)\n",
    "pred = lr.predict(X_test)\n",
    "\n",
    "\n",
    "print(\"***Test Data Report***\")\n",
    "print(\"Best alpha = \",optimal_alpha)\n",
    "fpr, tpr, threshold = metrics.roc_curve(y_test, lr.predict_proba(X_test)[:,1],pos_label=\"positive\")\n",
    "auc = metrics.auc(fpr, tpr)\n",
    "print(\"AUC = \",auc*100)\n",
    "skplt.metrics.plot_confusion_matrix(y_test, pred)\n",
    "plt.show()\n",
    "\n",
    "\n",
    "\n",
    "fpr, tpr, threshold = metrics.roc_curve(y_test, lr.predict_proba(X_test)[:,1],pos_label=\"positive\")\n",
    "fpr2, tpr2, threshold2 = metrics.roc_curve(y_train, lr.predict_proba(X_train)[:,1],pos_label=\"positive\")\n",
    "\n",
    "roc_auc = metrics.auc(fpr, tpr)\n",
    "roc_auc2 = metrics.auc(fpr2, tpr2)\n",
    "\n",
    "# method I: plt\n",
    "import matplotlib.pyplot as plt\n",
    "f, ax = plt.subplots()\n",
    "plt.title('Receiver Operating Characteristic Curve')\n",
    "cy = cycler('color', ['red', 'green', 'blue'])\n",
    "ax.set_prop_cycle(cy)\n",
    "ax.plot(fpr, tpr, label = 'AUC = %0.2f' % roc_auc)\n",
    "ax.plot(fpr2, tpr2, label = 'AUC = %0.2f' % roc_auc2)\n",
    "plt.legend(['TEST Data', 'TRAIN Data'],loc = 'lower right')\n",
    "\n",
    "ax.plot([0, 1], [0, 1])\n",
    "plt.xlim([0, 1])\n",
    "plt.ylim([0, 1])\n",
    "plt.ylabel('True Positive Rate')\n",
    "plt.xlabel('False Positive Rate')\n",
    "plt.show()"
   ]
  },
  {
   "cell_type": "markdown",
   "metadata": {},
   "source": [
    "## Positive Features"
   ]
  },
  {
   "cell_type": "code",
   "execution_count": 163,
   "metadata": {},
   "outputs": [
    {
     "name": "stdout",
     "output_type": "stream",
     "text": [
      "Positive feature top 20 :\n",
      "-------\n",
      "great\t-->\t0.832350\n",
      "best\t-->\t0.651426\n",
      "love\t-->\t0.625134\n",
      "perfect\t-->\t0.483424\n",
      "delici\t-->\t0.466447\n",
      "excel\t-->\t0.454997\n",
      "good\t-->\t0.336127\n",
      "nice\t-->\t0.333911\n",
      "wonder\t-->\t0.312056\n",
      "favorit\t-->\t0.303064\n",
      "amaz\t-->\t0.300530\n",
      "addict\t-->\t0.270039\n",
      "awesom\t-->\t0.269974\n",
      "find\t-->\t0.264306\n",
      "keep\t-->\t0.250032\n",
      "smooth\t-->\t0.240012\n",
      "tasti\t-->\t0.221423\n",
      "uniqu\t-->\t0.219737\n",
      "quick\t-->\t0.218052\n"
     ]
    }
   ],
   "source": [
    "feature_name = tfidf_vect.get_feature_names()\n",
    "w = model.coef_\n",
    "weight=w.reshape(-1)\n",
    "sorted_feature = np.argsort(weight)\n",
    "top_20_positive_feature=sorted_feature[:-20:-1]\n",
    "\n",
    "print(\"Positive feature top 20 :\")\n",
    "print(\"-------\")\n",
    "for i in top_20_positive_feature:\n",
    "    print(\"%s\\t-->\\t%f\"%(feature_name[i],weight[i]))"
   ]
  },
  {
   "cell_type": "markdown",
   "metadata": {},
   "source": [
    "## Negative Features"
   ]
  },
  {
   "cell_type": "code",
   "execution_count": 164,
   "metadata": {},
   "outputs": [
    {
     "name": "stdout",
     "output_type": "stream",
     "text": [
      "Negative feature top 20 :\n",
      "-------\n",
      "disappoint\t -->\t-0.408480  \n",
      "worst\t -->\t-0.317245  \n",
      "tast\t -->\t-0.246682  \n",
      "money\t -->\t-0.235569  \n",
      "bland\t -->\t-0.222159  \n",
      "product\t -->\t-0.206248  \n",
      "much\t -->\t-0.198078  \n",
      "weak\t -->\t-0.197467  \n",
      "terribl\t -->\t-0.197040  \n",
      "guess\t -->\t-0.192669  \n",
      "stale\t -->\t-0.190279  \n",
      "return\t -->\t-0.188191  \n",
      "aw\t -->\t-0.182346  \n",
      "stick\t -->\t-0.181542  \n",
      "dri\t -->\t-0.175381  \n",
      "item\t -->\t-0.174154  \n",
      "look\t -->\t-0.171465  \n",
      "lack\t -->\t-0.167007  \n",
      "tasteless\t -->\t-0.166215  \n",
      "hope\t -->\t-0.165243  \n"
     ]
    }
   ],
   "source": [
    "weight=w.reshape(-1)\n",
    "sorted_feature = np.argsort(weight)\n",
    "feature_name = tf_idf_vect.get_feature_names()\n",
    "top_20_negative_feature = sorted_feature[:20]\n",
    "\n",
    "print(\"Negative feature top 20 :\")\n",
    "print(\"-------\")\n",
    "for i in top_20_negative_feature:\n",
    "    print(\"%s\\t -->\\t%f  \"%(feature_name[i],weight[i]))"
   ]
  },
  {
   "cell_type": "markdown",
   "metadata": {},
   "source": [
    "### [5.1.3]  Applying Linear SVM on AVG W2V,<font color='red'> SET 3</font>"
   ]
  },
  {
   "cell_type": "code",
   "execution_count": 165,
   "metadata": {},
   "outputs": [],
   "source": [
    "#Standardising the train and test data\n",
    "sc = StandardScaler()\n",
    "X_train = sc.fit_transform(sent_vectors_train)\n",
    "X_test = sc.transform(sent_vectors_test)"
   ]
  },
  {
   "cell_type": "code",
   "execution_count": 166,
   "metadata": {},
   "outputs": [
    {
     "name": "stderr",
     "output_type": "stream",
     "text": [
      "100%|████████████████████████████████████████████████████████████████████████████████████| 9/9 [00:21<00:00,  2.26s/it]\n"
     ]
    }
   ],
   "source": [
    "alpha = [10**-4, 10**-3, 10**-2, 10**-1, 10**0, 10**1, 10**2, 10**3, 10**4] #alpha range between 10^-4 to 10^4\n",
    "auc_score=[] # storing the auc value for each alpha\n",
    "\n",
    "\n",
    "for i in tqdm(alpha):\n",
    "    model = linear_model.SGDClassifier(alpha=i, loss='hinge', class_weight='balanced')\n",
    "    \n",
    "    Cal_CV_model = CalibratedClassifierCV(model, method=\"sigmoid\",cv=10)\n",
    "    Cal_CV_model.fit(X_train, y_train)\n",
    "    predict_y = Cal_CV_model.predict_proba(X_train)\n",
    "    preds = predict_y[:,1]\n",
    "    roc_auc = roc_auc_score(y_train, preds)\n",
    "    auc_score.append(roc_auc)"
   ]
  },
  {
   "cell_type": "code",
   "execution_count": 167,
   "metadata": {},
   "outputs": [
    {
     "name": "stdout",
     "output_type": "stream",
     "text": [
      "\n",
      "The optimal value of alpha is 0.001.\n"
     ]
    },
    {
     "data": {
      "image/png": "[encoded data removed]",
      "text/plain": [
       "<Figure size 432x288 with 1 Axes>"
      ]
     },
     "metadata": {
      "needs_background": "light"
     },
     "output_type": "display_data"
    }
   ],
   "source": [
    "# determining best value of alpha\n",
    "optimal_alpha = alpha[auc_score.index(max(auc_score))]\n",
    "print('\\nThe optimal value of alpha is %.3f.' % optimal_alpha)\n",
    "# plot accuracy vs alpha \n",
    "plt.plot(alpha, auc_score,label=\"Train AUC\")\n",
    "plt.xlabel('Hypreparameter',size=9)\n",
    "plt.ylabel('Area under ROC Curve',size=9)\n",
    "plt.title('Area under ROC Curve VS Hyperparameter curve',size=16)\n",
    "plt.legend(loc='best')\n",
    "plt.grid()\n",
    "plt.show()"
   ]
  },
  {
   "cell_type": "code",
   "execution_count": 168,
   "metadata": {},
   "outputs": [
    {
     "name": "stdout",
     "output_type": "stream",
     "text": [
      "***Test Data Report***\n",
      "Best alpha =  0.001\n",
      "AUC =  88.94346623757541\n"
     ]
    },
    {
     "data": {
      "image/png": "[encoded data removed]",
      "text/plain": [
       "<Figure size 432x288 with 2 Axes>"
      ]
     },
     "metadata": {
      "needs_background": "light"
     },
     "output_type": "display_data"
    },
    {
     "data": {
      "image/png": "[encoded data removed]",
      "text/plain": [
       "<Figure size 432x288 with 1 Axes>"
      ]
     },
     "metadata": {
      "needs_background": "light"
     },
     "output_type": "display_data"
    }
   ],
   "source": [
    "# Logistic Regression with Optimal value of C i.e.(1/lambda)\n",
    "model = linear_model.SGDClassifier(alpha=optimal_alpha, loss='hinge', class_weight='balanced')\n",
    "\n",
    "lr = CalibratedClassifierCV(model, method=\"sigmoid\",cv=10)\n",
    "lr.fit(X_train, y_train)\n",
    "pred = lr.predict(X_test)\n",
    "\n",
    "\n",
    "print(\"***Test Data Report***\")\n",
    "print(\"Best alpha = \",optimal_alpha)\n",
    "fpr, tpr, threshold = metrics.roc_curve(y_test, lr.predict_proba(X_test)[:,1],pos_label=\"positive\")\n",
    "auc = metrics.auc(fpr, tpr)\n",
    "print(\"AUC = \",auc*100)\n",
    "skplt.metrics.plot_confusion_matrix(y_test, pred)\n",
    "plt.show()\n",
    "\n",
    "\n",
    "\n",
    "fpr, tpr, threshold = metrics.roc_curve(y_test, lr.predict_proba(X_test)[:,1],pos_label=\"positive\")\n",
    "fpr2, tpr2, threshold2 = metrics.roc_curve(y_train, lr.predict_proba(X_train)[:,1],pos_label=\"positive\")\n",
    "\n",
    "roc_auc = metrics.auc(fpr, tpr)\n",
    "roc_auc2 = metrics.auc(fpr2, tpr2)\n",
    "\n",
    "# method I: plt\n",
    "import matplotlib.pyplot as plt\n",
    "f, ax = plt.subplots()\n",
    "plt.title('Receiver Operating Characteristic Curve')\n",
    "cy = cycler('color', ['red', 'green', 'blue'])\n",
    "ax.set_prop_cycle(cy)\n",
    "ax.plot(fpr, tpr, label = 'AUC = %0.2f' % roc_auc)\n",
    "ax.plot(fpr2, tpr2, label = 'AUC = %0.2f' % roc_auc2)\n",
    "plt.legend(['TEST Data', 'TRAIN Data'],loc = 'lower right')\n",
    "\n",
    "ax.plot([0, 1], [0, 1])\n",
    "plt.xlim([0, 1])\n",
    "plt.ylim([0, 1])\n",
    "plt.ylabel('True Positive Rate')\n",
    "plt.xlabel('False Positive Rate')\n",
    "plt.show()"
   ]
  },
  {
   "cell_type": "markdown",
   "metadata": {},
   "source": [
    "### [5.1.4]  Applying Linear SVM on TFIDF W2V,<font color='red'> SET 4</font>"
   ]
  },
  {
   "cell_type": "code",
   "execution_count": 169,
   "metadata": {},
   "outputs": [],
   "source": [
    "#Standardising the train and test data\n",
    "sc = StandardScaler(copy=True, with_mean=False, with_std=True)\n",
    "X_train = sc.fit_transform(tfidf_sent_vectors_train)\n",
    "X_test = sc.transform(tfidf_sent_vectors_test)"
   ]
  },
  {
   "cell_type": "code",
   "execution_count": 170,
   "metadata": {},
   "outputs": [
    {
     "name": "stderr",
     "output_type": "stream",
     "text": [
      "100%|████████████████████████████████████████████████████████████████████████████████████| 9/9 [00:18<00:00,  2.16s/it]\n"
     ]
    }
   ],
   "source": [
    "alpha = [10**-4, 10**-3, 10**-2, 10**-1, 10**0, 10**1, 10**2, 10**3, 10**4] #alpha range between 10^-4 to 10^4\n",
    "auc_score=[] # storing the auc value for each alpha\n",
    "\n",
    "\n",
    "for i in tqdm(alpha):\n",
    "    model = linear_model.SGDClassifier(alpha=i, loss='hinge', class_weight='balanced')\n",
    "    \n",
    "    Cal_CV_model = CalibratedClassifierCV(model, method=\"sigmoid\",cv=10)\n",
    "    Cal_CV_model.fit(X_train, y_train)\n",
    "    predict_y = Cal_CV_model.predict_proba(X_train)\n",
    "    preds = predict_y[:,1]\n",
    "    roc_auc = roc_auc_score(y_train, preds)\n",
    "    auc_score.append(roc_auc)"
   ]
  },
  {
   "cell_type": "code",
   "execution_count": 171,
   "metadata": {},
   "outputs": [
    {
     "name": "stdout",
     "output_type": "stream",
     "text": [
      "\n",
      "The optimal value of alpha is 0.001.\n"
     ]
    },
    {
     "data": {
      "image/png": "[encoded data removed]",
      "text/plain": [
       "<Figure size 432x288 with 1 Axes>"
      ]
     },
     "metadata": {
      "needs_background": "light"
     },
     "output_type": "display_data"
    }
   ],
   "source": [
    "# determining best value of alpha\n",
    "optimal_alpha = alpha[auc_score.index(max(auc_score))]\n",
    "print('\\nThe optimal value of alpha is %.3f.' % optimal_alpha)\n",
    "# plot accuracy vs alpha \n",
    "plt.plot(alpha, auc_score,label=\"Train AUC\")\n",
    "plt.xlabel('Hypreparameter',size=9)\n",
    "plt.ylabel('Area under ROC Curve',size=9)\n",
    "plt.title('Area under ROC Curve VS Hyperparameter curve',size=16)\n",
    "plt.legend(loc='best')\n",
    "plt.grid()\n",
    "plt.show()"
   ]
  },
  {
   "cell_type": "code",
   "execution_count": 172,
   "metadata": {},
   "outputs": [
    {
     "name": "stdout",
     "output_type": "stream",
     "text": [
      "***Test Data Report***\n",
      "Best alpha =  0.001\n",
      "AUC =  81.17488429392861\n"
     ]
    },
    {
     "data": {
      "image/png": "[encoded data removed]",
      "text/plain": [
       "<Figure size 432x288 with 2 Axes>"
      ]
     },
     "metadata": {
      "needs_background": "light"
     },
     "output_type": "display_data"
    },
    {
     "data": {
      "image/png": "[encoded data removed]",
      "text/plain": [
       "<Figure size 432x288 with 1 Axes>"
      ]
     },
     "metadata": {
      "needs_background": "light"
     },
     "output_type": "display_data"
    }
   ],
   "source": [
    "# Logistic Regression with Optimal value of C i.e.(1/lambda)\n",
    "model = linear_model.SGDClassifier(alpha=optimal_alpha, loss='hinge', class_weight='balanced')\n",
    "\n",
    "lr = CalibratedClassifierCV(model, method=\"sigmoid\",cv=10)\n",
    "lr.fit(X_train, y_train)\n",
    "pred = lr.predict(X_test)\n",
    "\n",
    "\n",
    "print(\"***Test Data Report***\")\n",
    "print(\"Best alpha = \",optimal_alpha)\n",
    "fpr, tpr, threshold = metrics.roc_curve(y_test, lr.predict_proba(X_test)[:,1],pos_label=\"positive\")\n",
    "auc = metrics.auc(fpr, tpr)\n",
    "print(\"AUC = \",auc*100)\n",
    "skplt.metrics.plot_confusion_matrix(y_test, pred)\n",
    "plt.show()\n",
    "\n",
    "\n",
    "\n",
    "fpr, tpr, threshold = metrics.roc_curve(y_test, lr.predict_proba(X_test)[:,1],pos_label=\"positive\") #test data\n",
    "fpr2, tpr2, threshold2 = metrics.roc_curve(y_train, lr.predict_proba(X_train)[:,1],pos_label=\"positive\") #train data\n",
    "\n",
    "roc_auc = metrics.auc(fpr, tpr)\n",
    "roc_auc2 = metrics.auc(fpr2, tpr2)\n",
    "\n",
    "# method I: plt\n",
    "import matplotlib.pyplot as plt\n",
    "f, ax = plt.subplots()\n",
    "plt.title('Receiver Operating Characteristic Curve')\n",
    "cy = cycler('color', ['red', 'green', 'blue'])\n",
    "ax.set_prop_cycle(cy)\n",
    "ax.plot(fpr, tpr, label = 'AUC = %0.2f' % roc_auc)\n",
    "ax.plot(fpr2, tpr2, label = 'AUC = %0.2f' % roc_auc2)\n",
    "plt.legend(['TEST Data', 'TRAIN Data'],loc = 'lower right')\n",
    "\n",
    "ax.plot([0, 1], [0, 1])\n",
    "plt.xlim([0, 1])\n",
    "plt.ylim([0, 1])\n",
    "plt.ylabel('True Positive Rate')\n",
    "plt.xlabel('False Positive Rate')\n",
    "plt.show()"
   ]
  },
  {
   "cell_type": "markdown",
   "metadata": {},
   "source": [
    "## [5.2] RBF SVM"
   ]
  },
  {
   "cell_type": "markdown",
   "metadata": {},
   "source": [
    "### [5.2.1] Applying RBF SVM on BOW,<font color='red'> SET 1</font>"
   ]
  },
  {
   "cell_type": "markdown",
   "metadata": {},
   "source": [
    "#### [NOTE] since GridSearch CV taking long long time to to find the best hyperparametr so i have written for loops over series of hyperparameter for finding the optimal of it"
   ]
  },
  {
   "cell_type": "code",
   "execution_count": 9,
   "metadata": {},
   "outputs": [
    {
     "name": "stderr",
     "output_type": "stream",
     "text": [
      "C:\\Users\\lenovo\\Anaconda3\\lib\\site-packages\\sklearn\\utils\\validation.py:595: DataConversionWarning: Data with input dtype int64 was converted to float64 by StandardScaler.\n",
      "  warnings.warn(msg, DataConversionWarning)\n",
      "C:\\Users\\lenovo\\Anaconda3\\lib\\site-packages\\sklearn\\utils\\validation.py:595: DataConversionWarning: Data with input dtype int64 was converted to float64 by StandardScaler.\n",
      "  warnings.warn(msg, DataConversionWarning)\n",
      "C:\\Users\\lenovo\\Anaconda3\\lib\\site-packages\\sklearn\\utils\\validation.py:595: DataConversionWarning: Data with input dtype int64 was converted to float64 by StandardScaler.\n",
      "  warnings.warn(msg, DataConversionWarning)\n"
     ]
    }
   ],
   "source": [
    "sc = StandardScaler(copy=True, with_mean=False, with_std=True)\n",
    "X_train = sc.fit_transform(X_train_BOW1)\n",
    "X_test = sc.transform(X_test_BOW1)"
   ]
  },
  {
   "cell_type": "code",
   "execution_count": 12,
   "metadata": {},
   "outputs": [
    {
     "name": "stderr",
     "output_type": "stream",
     "text": [
      "100%|█████████████████████████████████████████████████████████████████████████████████| 6/6 [1:21:25<00:00, 855.93s/it]\n"
     ]
    }
   ],
   "source": [
    "all_C = [2**-1, 2**1, 2**3, 2**5, 2**7, 2**9]\n",
    "all_Gammas = [2**-5, 2**-3, 2**-1, 2**1, 2**3, 2**5]\n",
    "#param_grid = {'C': all_C, 'gamma' : all_Gammas}\n",
    "auc_scores = []\n",
    "# range of C and Gamas\n",
    "# https://stats.stackexchange.com/questions/43943/which-search-range-for-determining-svm-optimal-c-and-gamma-parameters\n",
    "\n",
    "\n",
    "for i in tqdm(range(0,len(all_C))):\n",
    "    model = svm.SVC(C = all_C[i], gamma=all_Gammas[i], kernel='rbf', probability=True, class_weight='balanced')#probability=True for computing the ROC score\n",
    "    model.fit(X_train,y_train1)\n",
    "    pred = model.predict(X_test)\n",
    "    fpr, tpr, threshold = metrics.roc_curve(y_test1, model.predict_proba(X_test)[:,1],pos_label=\"positive\")\n",
    "    auc = metrics.auc(fpr, tpr)\n",
    "    auc_scores.append(auc*100)"
   ]
  },
  {
   "cell_type": "code",
   "execution_count": 13,
   "metadata": {},
   "outputs": [
    {
     "name": "stdout",
     "output_type": "stream",
     "text": [
      "\n",
      "The optimal value of C is 0.500.\n",
      "\n",
      "The optimal value of Gamma is 0.031.\n"
     ]
    },
    {
     "data": {
      "image/png": "[encoded data removed]",
      "text/plain": [
       "<Figure size 432x288 with 1 Axes>"
      ]
     },
     "metadata": {
      "needs_background": "light"
     },
     "output_type": "display_data"
    }
   ],
   "source": [
    "# determining best value of C\n",
    "optimal_C = all_C[auc_scores.index(max(auc_scores))]\n",
    "optimal_Gamma = all_Gammas[auc_scores.index(max(auc_scores))]\n",
    "print('\\nThe optimal value of C is %.3f.' % optimal_C)\n",
    "print('\\nThe optimal value of Gamma is %.3f.' % optimal_Gamma)\n",
    "\n",
    "# plot AUC vs C\n",
    "plt.plot(all_C, auc_scores,label=\"Train AUC\")\n",
    "plt.xlabel('Hypreparameter',size=9)\n",
    "plt.ylabel('Area under ROC Curve',size=9)\n",
    "plt.title('Area under ROC Curve VS Hyperparameter curve',size=16)\n",
    "plt.legend(loc='best')\n",
    "plt.grid()\n",
    "plt.show()"
   ]
  },
  {
   "cell_type": "code",
   "execution_count": 10,
   "metadata": {},
   "outputs": [],
   "source": [
    "optimal_C = 0.500\n",
    "optimal_Gamma = 0.031"
   ]
  },
  {
   "cell_type": "code",
   "execution_count": 11,
   "metadata": {},
   "outputs": [
    {
     "name": "stdout",
     "output_type": "stream",
     "text": [
      "***Test Data Report***\n",
      "AUC =  76.25102961081073\n"
     ]
    },
    {
     "data": {
      "image/png": "[encoded data removed]",
      "text/plain": [
       "<Figure size 432x288 with 2 Axes>"
      ]
     },
     "metadata": {
      "needs_background": "light"
     },
     "output_type": "display_data"
    },
    {
     "data": {
      "image/png": "[encoded data removed]",
      "text/plain": [
       "<Figure size 432x288 with 1 Axes>"
      ]
     },
     "metadata": {
      "needs_background": "light"
     },
     "output_type": "display_data"
    }
   ],
   "source": [
    "lr = svm.SVC(C = optimal_C, gamma=optimal_Gamma, kernel='rbf', probability=True, class_weight='balanced')#probability=True for computing the ROC score\n",
    "lr.fit(X_train,y_train1)\n",
    "pred = lr.predict(X_test)\n",
    "\n",
    "\n",
    "\n",
    "print(\"***Test Data Report***\")\n",
    "fpr, tpr, threshold = metrics.roc_curve(y_test1, lr.predict_proba(X_test)[:,1],pos_label=\"positive\")\n",
    "auc = metrics.auc(fpr, tpr)\n",
    "print(\"AUC = \",auc*100)\n",
    "skplt.metrics.plot_confusion_matrix(y_test1, pred)\n",
    "plt.show()\n",
    "\n",
    "\n",
    "\n",
    "fpr, tpr, threshold = metrics.roc_curve(y_test1, lr.predict_proba(X_test)[:,1],pos_label=\"positive\") #test data\n",
    "fpr2, tpr2, threshold2 = metrics.roc_curve(y_train1, lr.predict_proba(X_train)[:,1],pos_label=\"positive\") #train data\n",
    "\n",
    "roc_auc = metrics.auc(fpr, tpr)\n",
    "roc_auc2 = metrics.auc(fpr2, tpr2)\n",
    "\n",
    "# method I: plt\n",
    "import matplotlib.pyplot as plt\n",
    "f, ax = plt.subplots()\n",
    "plt.title('Receiver Operating Characteristic Curve')\n",
    "cy = cycler('color', ['red', 'green', 'blue'])\n",
    "ax.set_prop_cycle(cy)\n",
    "ax.plot(fpr, tpr, label = 'AUC = %0.2f' % roc_auc)\n",
    "ax.plot(fpr2, tpr2, label = 'AUC = %0.2f' % roc_auc2)\n",
    "plt.legend(['TEST Data', 'TRAIN Data'],loc = 'lower right')\n",
    "\n",
    "ax.plot([0, 1], [0, 1])\n",
    "plt.xlim([0, 1])\n",
    "plt.ylim([0, 1])\n",
    "plt.ylabel('True Positive Rate')\n",
    "plt.xlabel('False Positive Rate')\n",
    "plt.show()"
   ]
  },
  {
   "cell_type": "markdown",
   "metadata": {},
   "source": [
    "### [5.2.2] Applying RBF SVM on TFIDF,<font color='red'> SET 2</font>"
   ]
  },
  {
   "cell_type": "markdown",
   "metadata": {},
   "source": [
    "#### [NOTE] since GridSearch CV taking long long time to to find the best hyperparametr so i have written for loops over series of hyperparameter for finding the optimal of it"
   ]
  },
  {
   "cell_type": "code",
   "execution_count": 8,
   "metadata": {},
   "outputs": [],
   "source": [
    "sc = StandardScaler(copy=True, with_mean=False, with_std=True)\n",
    "X_train = sc.fit_transform(X_train_tfidf1)\n",
    "X_test = sc.transform(X_test_tfidf1)"
   ]
  },
  {
   "cell_type": "code",
   "execution_count": 9,
   "metadata": {},
   "outputs": [
    {
     "name": "stderr",
     "output_type": "stream",
     "text": [
      "100%|█████████████████████████████████████████████████████████████████████████████████| 6/6 [1:26:05<00:00, 880.37s/it]\n"
     ]
    }
   ],
   "source": [
    "all_C = [2**-1, 2**1, 2**3, 2**5, 2**7, 2**9]\n",
    "all_Gammas = [2**-5, 2**-3, 2**-1, 2**1, 2**3, 2**5]\n",
    "#param_grid = {'C': all_C, 'gamma' : all_Gammas}\n",
    "auc_scores = []\n",
    "# range of C and Gamas\n",
    "# https://stats.stackexchange.com/questions/43943/which-search-range-for-determining-svm-optimal-c-and-gamma-parameters\n",
    "\n",
    "\n",
    "for i in tqdm(range(0,len(all_C))):\n",
    "    model = svm.SVC(C = all_C[i], gamma=all_Gammas[i], kernel='rbf', probability=True, class_weight='balanced')#probability=True for computing the ROC score\n",
    "    model.fit(X_train,y_train1)\n",
    "    pred = model.predict(X_test)\n",
    "    fpr, tpr, threshold = metrics.roc_curve(y_test1, model.predict_proba(X_test)[:,1],pos_label=\"positive\")\n",
    "    auc = metrics.auc(fpr, tpr)\n",
    "    auc_scores.append(auc*100)"
   ]
  },
  {
   "cell_type": "code",
   "execution_count": 10,
   "metadata": {},
   "outputs": [
    {
     "name": "stdout",
     "output_type": "stream",
     "text": [
      "\n",
      "The optimal value of C is 0.500.\n",
      "\n",
      "The optimal value of Gamma is 0.031.\n"
     ]
    },
    {
     "data": {
      "image/png": "[encoded data removed]",
      "text/plain": [
       "<Figure size 432x288 with 1 Axes>"
      ]
     },
     "metadata": {
      "needs_background": "light"
     },
     "output_type": "display_data"
    }
   ],
   "source": [
    "# determining best value of C\n",
    "optimal_C = all_C[auc_scores.index(max(auc_scores))]\n",
    "optimal_Gamma = all_Gammas[auc_scores.index(max(auc_scores))]\n",
    "print('\\nThe optimal value of C is %.3f.' % optimal_C)\n",
    "print('\\nThe optimal value of Gamma is %.3f.' % optimal_Gamma)\n",
    "\n",
    "# plot AUC vs C\n",
    "plt.plot(all_C, auc_scores,label=\"Train AUC\")\n",
    "plt.xlabel('Hypreparameter',size=9)\n",
    "plt.ylabel('Area under ROC Curve',size=9)\n",
    "plt.title('Area under ROC Curve VS Hyperparameter curve',size=16)\n",
    "plt.legend(loc='best')\n",
    "plt.grid()\n",
    "plt.show()"
   ]
  },
  {
   "cell_type": "code",
   "execution_count": 13,
   "metadata": {},
   "outputs": [
    {
     "name": "stdout",
     "output_type": "stream",
     "text": [
      "***Test Data Report***\n",
      "AUC =  70.4728320268676\n"
     ]
    },
    {
     "data": {
      "image/png": "[encoded data removed]",
      "text/plain": [
       "<Figure size 432x288 with 2 Axes>"
      ]
     },
     "metadata": {
      "needs_background": "light"
     },
     "output_type": "display_data"
    },
    {
     "data": {
      "image/png": "[encoded data removed]",
      "text/plain": [
       "<Figure size 432x288 with 1 Axes>"
      ]
     },
     "metadata": {
      "needs_background": "light"
     },
     "output_type": "display_data"
    }
   ],
   "source": [
    "lr = svm.SVC(C = optimal_C, gamma=optimal_Gamma, kernel='rbf', probability=True, class_weight='balanced')#probability=True for computing the ROC score\n",
    "lr.fit(X_train,y_train1)\n",
    "pred = lr.predict(X_test)\n",
    "\n",
    "\n",
    "\n",
    "print(\"***Test Data Report***\")\n",
    "fpr, tpr, threshold = metrics.roc_curve(y_test1, lr.predict_proba(X_test)[:,1],pos_label=\"positive\")\n",
    "auc = metrics.auc(fpr, tpr)\n",
    "print(\"AUC = \",auc*100)\n",
    "skplt.metrics.plot_confusion_matrix(y_test1, pred)\n",
    "plt.show()\n",
    "\n",
    "\n",
    "\n",
    "fpr, tpr, threshold = metrics.roc_curve(y_test1, lr.predict_proba(X_test)[:,1],pos_label=\"positive\") #test data\n",
    "fpr2, tpr2, threshold2 = metrics.roc_curve(y_train1, lr.predict_proba(X_train)[:,1],pos_label=\"positive\") #train data\n",
    "\n",
    "roc_auc = metrics.auc(fpr, tpr)\n",
    "roc_auc2 = metrics.auc(fpr2, tpr2)\n",
    "\n",
    "# method I: plt\n",
    "import matplotlib.pyplot as plt\n",
    "f, ax = plt.subplots()\n",
    "plt.title('Receiver Operating Characteristic Curve')\n",
    "cy = cycler('color', ['red', 'green', 'blue'])\n",
    "ax.set_prop_cycle(cy)\n",
    "ax.plot(fpr, tpr, label = 'AUC = %0.2f' % roc_auc)\n",
    "ax.plot(fpr2, tpr2, label = 'AUC = %0.2f' % roc_auc2)\n",
    "plt.legend(['TEST Data', 'TRAIN Data'],loc = 'lower right')\n",
    "\n",
    "ax.plot([0, 1], [0, 1])\n",
    "plt.xlim([0, 1])\n",
    "plt.ylim([0, 1])\n",
    "plt.ylabel('True Positive Rate')\n",
    "plt.xlabel('False Positive Rate')\n",
    "plt.show()"
   ]
  },
  {
   "cell_type": "markdown",
   "metadata": {},
   "source": [
    "### [5.2.3]  Applying RBF SVM on AVG W2V,<font color='red'> SET 3</font>"
   ]
  },
  {
   "cell_type": "markdown",
   "metadata": {},
   "source": [
    "#### [NOTE] since GridSearch CV taking long long time to to find the best hyperparametr so i have written for loops over series of hyperparameter for finding the optimal of it"
   ]
  },
  {
   "cell_type": "code",
   "execution_count": 19,
   "metadata": {},
   "outputs": [],
   "source": [
    "sc = StandardScaler(copy=True, with_mean=False, with_std=True)\n",
    "X_train = sc.fit_transform(sent_vectors_train1)\n",
    "X_test = sc.transform(sent_vectors_test1)"
   ]
  },
  {
   "cell_type": "code",
   "execution_count": 20,
   "metadata": {},
   "outputs": [
    {
     "name": "stderr",
     "output_type": "stream",
     "text": [
      "100%|███████████████████████████████████████████████████████████████████████████████████| 6/6 [46:12<00:00, 528.63s/it]\n"
     ]
    }
   ],
   "source": [
    "all_C = [2**-1, 2**1, 2**3, 2**5, 2**7, 2**9]\n",
    "all_Gammas = [2**-5, 2**-3, 2**-1, 2**1, 2**3, 2**5]\n",
    "#param_grid = {'C': all_C, 'gamma' : all_Gammas}\n",
    "auc_scores = []\n",
    "# range of C and Gamas\n",
    "# https://stats.stackexchange.com/questions/43943/which-search-range-for-determining-svm-optimal-c-and-gamma-parameters\n",
    "\n",
    "\n",
    "for i in tqdm(range(0,len(all_C))):\n",
    "    model = svm.SVC(C = all_C[i], gamma=all_Gammas[i], kernel='rbf', probability=True, class_weight='balanced')#probability=True for computing the ROC score\n",
    "    model.fit(X_train,y_train1)\n",
    "    pred = model.predict(X_test)\n",
    "    fpr, tpr, threshold = metrics.roc_curve(y_test1, model.predict_proba(X_test)[:,1],pos_label=\"positive\")\n",
    "    auc = metrics.auc(fpr, tpr)\n",
    "    auc_scores.append(auc*100)"
   ]
  },
  {
   "cell_type": "code",
   "execution_count": 21,
   "metadata": {},
   "outputs": [
    {
     "name": "stdout",
     "output_type": "stream",
     "text": [
      "\n",
      "The optimal value of C is 0.500.\n",
      "\n",
      "The optimal value of Gamma is 0.031.\n"
     ]
    },
    {
     "data": {
      "image/png": "[encoded data removed]",
      "text/plain": [
       "<Figure size 432x288 with 1 Axes>"
      ]
     },
     "metadata": {
      "needs_background": "light"
     },
     "output_type": "display_data"
    }
   ],
   "source": [
    "# determining best value of C\n",
    "optimal_C = all_C[auc_scores.index(max(auc_scores))]\n",
    "optimal_Gamma = all_Gammas[auc_scores.index(max(auc_scores))]\n",
    "print('\\nThe optimal value of C is %.3f.' % optimal_C)\n",
    "print('\\nThe optimal value of Gamma is %.3f.' % optimal_Gamma)\n",
    "\n",
    "# plot AUC vs C\n",
    "plt.plot(all_C, auc_scores,label=\"Train AUC\")\n",
    "plt.xlabel('Hypreparameter',size=9)\n",
    "plt.ylabel('Area under ROC Curve',size=9)\n",
    "plt.title('Area under ROC Curve VS Hyperparameter curve',size=16)\n",
    "plt.legend(loc='best')\n",
    "plt.grid()\n",
    "plt.show()"
   ]
  },
  {
   "cell_type": "code",
   "execution_count": 22,
   "metadata": {},
   "outputs": [
    {
     "name": "stdout",
     "output_type": "stream",
     "text": [
      "***Test Data Report***\n",
      "AUC =  85.74087826345009\n"
     ]
    },
    {
     "data": {
      "image/png": "[encoded data removed]",
      "text/plain": [
       "<Figure size 432x288 with 2 Axes>"
      ]
     },
     "metadata": {
      "needs_background": "light"
     },
     "output_type": "display_data"
    },
    {
     "data": {
      "image/png": "[encoded data removed]",
      "text/plain": [
       "<Figure size 432x288 with 1 Axes>"
      ]
     },
     "metadata": {
      "needs_background": "light"
     },
     "output_type": "display_data"
    }
   ],
   "source": [
    "lr = svm.SVC(C = optimal_C, gamma=optimal_Gamma, kernel='rbf', probability=True, class_weight='balanced')#probability=True for computing the ROC score\n",
    "lr.fit(X_train,y_train1)\n",
    "pred = lr.predict(X_test)\n",
    "\n",
    "\n",
    "\n",
    "print(\"***Test Data Report***\")\n",
    "fpr, tpr, threshold = metrics.roc_curve(y_test1, lr.predict_proba(X_test)[:,1],pos_label=\"positive\")\n",
    "auc = metrics.auc(fpr, tpr)\n",
    "print(\"AUC = \",auc*100)\n",
    "skplt.metrics.plot_confusion_matrix(y_test1, pred)\n",
    "plt.show()\n",
    "\n",
    "\n",
    "\n",
    "fpr, tpr, threshold = metrics.roc_curve(y_test1, lr.predict_proba(X_test)[:,1],pos_label=\"positive\") #test data\n",
    "fpr2, tpr2, threshold2 = metrics.roc_curve(y_train1, lr.predict_proba(X_train)[:,1],pos_label=\"positive\") #train data\n",
    "\n",
    "roc_auc = metrics.auc(fpr, tpr)\n",
    "roc_auc2 = metrics.auc(fpr2, tpr2)\n",
    "\n",
    "# method I: plt\n",
    "import matplotlib.pyplot as plt\n",
    "f, ax = plt.subplots()\n",
    "plt.title('Receiver Operating Characteristic Curve')\n",
    "cy = cycler('color', ['red', 'green', 'blue'])\n",
    "ax.set_prop_cycle(cy)\n",
    "ax.plot(fpr, tpr, label = 'AUC = %0.2f' % roc_auc)\n",
    "ax.plot(fpr2, tpr2, label = 'AUC = %0.2f' % roc_auc2)\n",
    "plt.legend(['TEST Data', 'TRAIN Data'],loc = 'lower right')\n",
    "\n",
    "ax.plot([0, 1], [0, 1])\n",
    "plt.xlim([0, 1])\n",
    "plt.ylim([0, 1])\n",
    "plt.ylabel('True Positive Rate')\n",
    "plt.xlabel('False Positive Rate')\n",
    "plt.show()"
   ]
  },
  {
   "cell_type": "markdown",
   "metadata": {},
   "source": [
    "### [5.2.4]  Applying RBF SVM on TFIDF W2V,<font color='red'> SET 4</font>"
   ]
  },
  {
   "cell_type": "markdown",
   "metadata": {},
   "source": [
    "#### [NOTE] since GridSearch CV taking long long time to to find the best hyperparametr so i have written for loops over series of hyperparameter for finding the optimal of it"
   ]
  },
  {
   "cell_type": "code",
   "execution_count": 29,
   "metadata": {},
   "outputs": [],
   "source": [
    "sc = StandardScaler(copy=True, with_mean=False, with_std=True)\n",
    "X_train = sc.fit_transform(tfidf_sent_vectors_train1)\n",
    "X_test = sc.transform(tfidf_sent_vectors_test1)"
   ]
  },
  {
   "cell_type": "code",
   "execution_count": 30,
   "metadata": {},
   "outputs": [
    {
     "name": "stderr",
     "output_type": "stream",
     "text": [
      "100%|███████████████████████████████████████████████████████████████████████████████████| 6/6 [49:55<00:00, 581.57s/it]\n"
     ]
    }
   ],
   "source": [
    "all_C = [2**-1, 2**1, 2**3, 2**5, 2**7, 2**9]\n",
    "all_Gammas = [2**-5, 2**-3, 2**-1, 2**1, 2**3, 2**5]\n",
    "#param_grid = {'C': all_C, 'gamma' : all_Gammas}\n",
    "auc_scores = []\n",
    "# range of C and Gamas\n",
    "# https://stats.stackexchange.com/questions/43943/which-search-range-for-determining-svm-optimal-c-and-gamma-parameters\n",
    "\n",
    "for i in tqdm(range(0,len(all_C))):\n",
    "    model = svm.SVC(C = all_C[i], gamma=all_Gammas[i], kernel='rbf', probability=True, class_weight='balanced')#probability=True for computing the ROC score\n",
    "    model.fit(X_train,y_train1)\n",
    "    pred = model.predict(X_test)\n",
    "    fpr, tpr, threshold = metrics.roc_curve(y_test1, model.predict_proba(X_test)[:,1],pos_label=\"positive\")\n",
    "    auc = metrics.auc(fpr, tpr)\n",
    "    auc_scores.append(auc*100)"
   ]
  },
  {
   "cell_type": "code",
   "execution_count": 31,
   "metadata": {},
   "outputs": [
    {
     "name": "stdout",
     "output_type": "stream",
     "text": [
      "\n",
      "The optimal value of C is 0.500.\n",
      "\n",
      "The optimal value of Gamma is 0.031.\n"
     ]
    },
    {
     "data": {
      "image/png": "[encoded data removed]",
      "text/plain": [
       "<Figure size 432x288 with 1 Axes>"
      ]
     },
     "metadata": {
      "needs_background": "light"
     },
     "output_type": "display_data"
    }
   ],
   "source": [
    "# determining best value of C\n",
    "optimal_C = all_C[auc_scores.index(max(auc_scores))]\n",
    "optimal_Gamma = all_Gammas[auc_scores.index(max(auc_scores))]\n",
    "print('\\nThe optimal value of C is %.3f.' % optimal_C)\n",
    "print('\\nThe optimal value of Gamma is %.3f.' % optimal_Gamma)\n",
    "\n",
    "# plot AUC vs C\n",
    "plt.plot(all_C, auc_scores,label=\"Train AUC\")\n",
    "plt.xlabel('Hypreparameter',size=9)\n",
    "plt.ylabel('Area under ROC Curve',size=9)\n",
    "plt.title('Area under ROC Curve VS Hyperparameter curve',size=16)\n",
    "plt.legend(loc='best')\n",
    "plt.grid()\n",
    "plt.show()"
   ]
  },
  {
   "cell_type": "code",
   "execution_count": 32,
   "metadata": {},
   "outputs": [
    {
     "name": "stdout",
     "output_type": "stream",
     "text": [
      "***Test Data Report***\n",
      "AUC =  77.10552334628943\n"
     ]
    },
    {
     "data": {
      "image/png": "[encoded data removed]",
      "text/plain": [
       "<Figure size 432x288 with 2 Axes>"
      ]
     },
     "metadata": {
      "needs_background": "light"
     },
     "output_type": "display_data"
    },
    {
     "data": {
      "image/png": "[encoded data removed]",
      "text/plain": [
       "<Figure size 432x288 with 1 Axes>"
      ]
     },
     "metadata": {
      "needs_background": "light"
     },
     "output_type": "display_data"
    }
   ],
   "source": [
    "lr = svm.SVC(C = optimal_C, gamma=optimal_Gamma, kernel='rbf', probability=True, class_weight='balanced')#probability=True for computing the ROC score\n",
    "lr.fit(X_train,y_train1)\n",
    "pred = lr.predict(X_test)\n",
    "\n",
    "\n",
    "\n",
    "print(\"***Test Data Report***\")\n",
    "fpr, tpr, threshold = metrics.roc_curve(y_test1, lr.predict_proba(X_test)[:,1],pos_label=\"positive\")\n",
    "auc = metrics.auc(fpr, tpr)\n",
    "print(\"AUC = \",auc*100)\n",
    "skplt.metrics.plot_confusion_matrix(y_test1, pred)\n",
    "plt.show()\n",
    "\n",
    "\n",
    "\n",
    "fpr, tpr, threshold = metrics.roc_curve(y_test1, lr.predict_proba(X_test)[:,1],pos_label=\"positive\") #test data\n",
    "fpr2, tpr2, threshold2 = metrics.roc_curve(y_train1, lr.predict_proba(X_train)[:,1],pos_label=\"positive\") #train data\n",
    "\n",
    "roc_auc = metrics.auc(fpr, tpr)\n",
    "roc_auc2 = metrics.auc(fpr2, tpr2)\n",
    "\n",
    "# method I: plt\n",
    "import matplotlib.pyplot as plt\n",
    "f, ax = plt.subplots()\n",
    "plt.title('Receiver Operating Characteristic Curve')\n",
    "cy = cycler('color', ['red', 'green', 'blue'])\n",
    "ax.set_prop_cycle(cy)\n",
    "ax.plot(fpr, tpr, label = 'AUC = %0.2f' % roc_auc)\n",
    "ax.plot(fpr2, tpr2, label = 'AUC = %0.2f' % roc_auc2)\n",
    "plt.legend(['TEST Data', 'TRAIN Data'],loc = 'lower right')\n",
    "\n",
    "ax.plot([0, 1], [0, 1])\n",
    "plt.xlim([0, 1])\n",
    "plt.ylim([0, 1])\n",
    "plt.ylabel('True Positive Rate')\n",
    "plt.xlabel('False Positive Rate')\n",
    "plt.show()"
   ]
  },
  {
   "cell_type": "markdown",
   "metadata": {},
   "source": [
    "# [6] Conclusions"
   ]
  },
  {
   "cell_type": "code",
   "execution_count": 14,
   "metadata": {},
   "outputs": [
    {
     "name": "stdout",
     "output_type": "stream",
     "text": [
      "+--------+-------------+--------+----------+---------+\n",
      "| SL No. |  Vectorizer | Kernel | Best (C) |   AUC   |\n",
      "+--------+-------------+--------+----------+---------+\n",
      "|   1    |     BOW     | Linear |   0.01   | 91.8669 |\n",
      "|   2    |     BOW     |  RBF   |   0.5    |  76.251 |\n",
      "|   3    |    TFIDF    | Linear |   0.01   | 92.3779 |\n",
      "|   4    |    TFIDF    |  RBF   |   0.5    | 70.4728 |\n",
      "|   5    |  Avg-W2vec  | Linear |  0.001   | 88.9434 |\n",
      "|   6    |  Avg-W2vec  |  RBF   |   0.5    | 85.7409 |\n",
      "|   7    | TFIDF-W2vec | Linear |  0.001   | 81.1748 |\n",
      "|   8    | TFIDF-W2vec |  RBF   |   0.5    | 77.1055 |\n",
      "+--------+-------------+--------+----------+---------+\n"
     ]
    }
   ],
   "source": [
    "#importing library\n",
    "from prettytable import PrettyTable\n",
    "x = PrettyTable()\n",
    "\n",
    "#adding Field names\n",
    "x.field_names = [\"SL No.\",\"Vectorizer\",\"Kernel\",\"Best (C)\" ,\"AUC\"]\n",
    "\n",
    "# adding row to table\n",
    "x.add_row([\"1\",\"BOW\",\"Linear\",0.01,91.8669])\n",
    "x.add_row([\"2\",\"BOW\",\"RBF\",0.5,76.2510])\n",
    "x.add_row([\"3\",\"TFIDF\",\"Linear\",0.01,92.3779])\n",
    "x.add_row([\"4\",\"TFIDF\",\"RBF\",0.5,70.4728])\n",
    "x.add_row([\"5\",\"Avg-W2vec\",\"Linear\",0.001,88.9434])\n",
    "x.add_row([\"6\",\"Avg-W2vec\",\"RBF\",0.5,85.7409])\n",
    "x.add_row([\"7\",\"TFIDF-W2vec\",\"Linear\",0.001,81.1748])\n",
    "x.add_row([\"8\",\"TFIDF-W2vec\",\"RBF\",0.5,77.1055])\n",
    "\n",
    "#printing the table\n",
    "print(x)"
   ]
  }
 ],
 "metadata": {
  "kernelspec": {
   "display_name": "Python 3",
   "language": "python",
   "name": "python3"
  },
  "language_info": {
   "codemirror_mode": {
    "name": "ipython",
    "version": 3
   },
   "file_extension": ".py",
   "mimetype": "text/x-python",
   "name": "python",
   "nbconvert_exporter": "python",
   "pygments_lexer": "ipython3",
   "version": "3.7.0"
  }
 },
 "nbformat": 4,
 "nbformat_minor": 2
}
