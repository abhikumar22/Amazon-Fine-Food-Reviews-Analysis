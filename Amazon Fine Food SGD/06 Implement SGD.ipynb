{
 "cells": [
  {
   "cell_type": "markdown",
   "metadata": {},
   "source": [
    "# Stochastic Gradient Descent"
   ]
  },
  {
   "cell_type": "markdown",
   "metadata": {},
   "source": [
    "### 1. Loading Boston Dataset from Sklearn Library\n",
    "### 2. Custom SGD Regressor implementation (PART-1)\n",
    "### 2. Sklearn's SGD Regressor implementation (PART-2)\n",
    "### 4. Comparing Both the implementaton\n",
    "\n",
    "##### NOTE :- In each implementation plot the graph for the predicted vs actual values in the dataset(part1, part 2)"
   ]
  },
  {
   "cell_type": "code",
   "execution_count": 126,
   "metadata": {
    "colab": {},
    "colab_type": "code",
    "id": "REYPoTJ1Af7u"
   },
   "outputs": [],
   "source": [
    "#importing libraries\n",
    "import warnings\n",
    "warnings.filterwarnings(\"ignore\")\n",
    "from sklearn.datasets import load_boston\n",
    "from random import seed\n",
    "from random import randrange\n",
    "from csv import reader\n",
    "from math import sqrt\n",
    "from sklearn import preprocessing\n",
    "import pandas as pd\n",
    "import numpy as np\n",
    "import matplotlib.pyplot as plt\n",
    "from prettytable import PrettyTable\n",
    "from sklearn.linear_model import SGDRegressor\n",
    "from sklearn import preprocessing\n",
    "from sklearn.metrics import mean_squared_error\n",
    "from sklearn.preprocessing import StandardScaler\n",
    "from sklearn import linear_model\n",
    "import seaborn as sns\n",
    "from sklearn.model_selection import train_test_split\n",
    "from numpy import c_"
   ]
  },
  {
   "cell_type": "markdown",
   "metadata": {},
   "source": [
    "## 1. Loading Boston Dataset from Sklearn Library"
   ]
  },
  {
   "cell_type": "code",
   "execution_count": 127,
   "metadata": {},
   "outputs": [
    {
     "name": "stdout",
     "output_type": "stream",
     "text": [
      "====================================================================================================\n",
      "Dataset\n",
      "\n",
      "        0     1     2    3      4      5     6       7    8      9     10  \\\n",
      "0  0.00632  18.0  2.31  0.0  0.538  6.575  65.2  4.0900  1.0  296.0  15.3   \n",
      "1  0.02731   0.0  7.07  0.0  0.469  6.421  78.9  4.9671  2.0  242.0  17.8   \n",
      "2  0.02729   0.0  7.07  0.0  0.469  7.185  61.1  4.9671  2.0  242.0  17.8   \n",
      "3  0.03237   0.0  2.18  0.0  0.458  6.998  45.8  6.0622  3.0  222.0  18.7   \n",
      "\n",
      "       11    12  \n",
      "0  396.90  4.98  \n",
      "1  396.90  9.14  \n",
      "2  392.83  4.03  \n",
      "3  394.63  2.94  \n",
      "<class 'pandas.core.frame.DataFrame'>\n",
      "====================================================================================================\n",
      "Actual price\n",
      "\n",
      "[24.  21.6 34.7 33.4]\n",
      "<class 'numpy.ndarray'>\n",
      "====================================================================================================\n"
     ]
    }
   ],
   "source": [
    "dataset = load_boston()\n",
    "X = pd.DataFrame(dataset.data)\n",
    "y = dataset.target\n",
    "\n",
    "print(\"=\"*100)\n",
    "print(\"Dataset\\n\")\n",
    "print(X[:4])\n",
    "print(type(X))\n",
    " \n",
    "print(\"=\"*100)\n",
    "print(\"Actual price\\n\")\n",
    "print(y[:4])\n",
    "print(type(y))\n",
    "\n",
    "print(\"=\"*100)\n"
   ]
  },
  {
   "cell_type": "code",
   "execution_count": 128,
   "metadata": {},
   "outputs": [],
   "source": [
    "X_tr, X_te, Y_train, Y_test = train_test_split(X, y, test_size = 0.3, random_state = 5)"
   ]
  },
  {
   "cell_type": "code",
   "execution_count": 129,
   "metadata": {},
   "outputs": [],
   "source": [
    "# Standardize the data\n",
    "sc = StandardScaler()\n",
    "X_train = sc.fit_transform(X_tr)\n",
    "X_test = sc.transform(X_te)"
   ]
  },
  {
   "cell_type": "markdown",
   "metadata": {},
   "source": [
    "## 2. Custom SGD Regressor implementation (PART-1)"
   ]
  },
  {
   "cell_type": "code",
   "execution_count": 130,
   "metadata": {},
   "outputs": [],
   "source": [
    "#Fitting the train Dataset in the custom SGD Regressor model\n",
    "\n",
    "\n",
    "# Modifying dataset for getting the random row according to batch size in each iteration in the custom SGD model\n",
    "X_tr = np.c_[np.ones((len(X_train),1)),X_train]\n",
    "X_train = X_tr\n",
    "\n",
    "X_te = np.c_[np.ones((len(X_test),1)),X_test]\n",
    "X_test = X_te\n",
    "\n",
    "# initialising the values for fitting the model\n",
    "max_iter = 1000 #initialising no of iterations\n",
    "learning_rate=0.01 #initialising the learning\n",
    "length = len(Y_train) #  length of the data set\n",
    "error = []\n",
    "\n",
    "# Generating normally distributed values of the train dataset\n",
    "weight = np.random.normal(0,1,X_train.shape[1]) \n",
    "weight = np.c_[weight]\n",
    "\n",
    "\n",
    "# MODEL\n",
    "for k in range(max_iter):\n",
    "    for i in range(length):\n",
    "        batch_size = np.random.randint(0,length)  \n",
    "        X_batch = X_train[batch_size,:].reshape(1,X_train.shape[1])\n",
    "        y_batch = Y_train[batch_size].reshape(1,1)\n",
    "        prediction = np.dot(X_batch,weight)\n",
    "        weight = weight -(2/length)*learning_rate*( X_batch.T.dot((prediction - y_batch)))"
   ]
  },
  {
   "cell_type": "code",
   "execution_count": 131,
   "metadata": {},
   "outputs": [],
   "source": [
    "pred_custom = X_test.dot(weight)\n",
    "pred_custom = pred_custom.ravel()"
   ]
  },
  {
   "cell_type": "code",
   "execution_count": 132,
   "metadata": {},
   "outputs": [
    {
     "name": "stdout",
     "output_type": "stream",
     "text": [
      "[[22.54034743]\n",
      " [-1.22434741]\n",
      " [ 0.89977223]\n",
      " [-0.28205546]\n",
      " [ 0.19912563]\n",
      " [-1.34718894]\n",
      " [ 2.8248531 ]\n",
      " [-0.30299525]\n",
      " [-2.71286166]\n",
      " [ 2.44520023]\n",
      " [-1.81463673]\n",
      " [-2.04418207]\n",
      " [ 1.1216619 ]\n",
      " [-3.28606046]]\n"
     ]
    }
   ],
   "source": [
    "#Weights from Custom SGD Model\n",
    "# weight_custom = []\n",
    "# for i in weight:\n",
    "#     weight_custom.append(i)\n",
    "weight_custom = weight.ravel()\n",
    "print(c_[weight_custom])\n"
   ]
  },
  {
   "cell_type": "code",
   "execution_count": 133,
   "metadata": {},
   "outputs": [
    {
     "data": {
      "image/png": "[encoded data removed]",
      "text/plain": [
       "<Figure size 432x288 with 1 Axes>"
      ]
     },
     "metadata": {
      "needs_background": "light"
     },
     "output_type": "display_data"
    }
   ],
   "source": [
    "# Plotting graph for actual vs predicted price\n",
    "plt.scatter(Y_test, pred_custom)\n",
    "plt.xlabel(\"Actual Values\",size=16)\n",
    "plt.ylabel(\"Predicted Values\",size=16)\n",
    "plt.title(\"Actual Values vs Predicted Values\",size=24)\n",
    "plt.grid()\n",
    "plt.show()"
   ]
  },
  {
   "cell_type": "code",
   "execution_count": 134,
   "metadata": {},
   "outputs": [
    {
     "data": {
      "image/png": "[encoded data removed]",
      "text/plain": [
       "<Figure size 432x288 with 1 Axes>"
      ]
     },
     "metadata": {
      "needs_background": "light"
     },
     "output_type": "display_data"
    }
   ],
   "source": [
    "error = Y_test - pred_custom; #error = actual_price - predicted_price\n",
    "sns.kdeplot(error)\n",
    "plt.title(\"Error in Model\",size=24)\n",
    "plt.grid()\n",
    "plt.show()"
   ]
  },
  {
   "cell_type": "code",
   "execution_count": 135,
   "metadata": {},
   "outputs": [
    {
     "name": "stdout",
     "output_type": "stream",
     "text": [
      "Mean Squared Error (MSE) =  30.52018558400602\n"
     ]
    }
   ],
   "source": [
    "# Obtaining Mean Squared Error (MSE)\n",
    "MSE_CUSTOM = mean_squared_error(Y_test, pred_custom)\n",
    "print(\"Mean Squared Error (MSE) = \",MSE_CUSTOM)"
   ]
  },
  {
   "cell_type": "markdown",
   "metadata": {},
   "source": [
    "## 3. Sklearn's SGD Regressor implementation (PART-2)"
   ]
  },
  {
   "cell_type": "code",
   "execution_count": 136,
   "metadata": {},
   "outputs": [],
   "source": [
    "model = linear_model.SGDRegressor(penalty='none', max_iter=1000, learning_rate='constant')\n",
    "model.fit(X_train,Y_train)\n",
    "pred_sklearn = model.predict(X_test)"
   ]
  },
  {
   "cell_type": "code",
   "execution_count": 137,
   "metadata": {},
   "outputs": [
    {
     "name": "stdout",
     "output_type": "stream",
     "text": [
      "[[11.66921283]\n",
      " [-0.71637651]\n",
      " [ 0.76089547]\n",
      " [ 0.13184507]\n",
      " [ 0.25055041]\n",
      " [-1.24878103]\n",
      " [ 3.11008312]\n",
      " [-0.22604507]\n",
      " [-3.02407402]\n",
      " [ 3.24388265]\n",
      " [-1.64174153]\n",
      " [-1.77595867]\n",
      " [ 1.49545237]\n",
      " [-3.20159722]]\n"
     ]
    }
   ],
   "source": [
    "#Weights from Sklearn Model\n",
    "weight_sklearn = model.coef_\n",
    "print(c_[weight_sklearn])"
   ]
  },
  {
   "cell_type": "code",
   "execution_count": 138,
   "metadata": {},
   "outputs": [
    {
     "data": {
      "image/png": "[encoded data removed]",
      "text/plain": [
       "<Figure size 432x288 with 1 Axes>"
      ]
     },
     "metadata": {
      "needs_background": "light"
     },
     "output_type": "display_data"
    }
   ],
   "source": [
    "# Plotting graph for actual vs predicted price\n",
    "plt.scatter(Y_test, pred_sklearn)\n",
    "plt.xlabel(\"Actual Values\",size=16)\n",
    "plt.ylabel(\"Predicted Values\",size=16)\n",
    "plt.title(\"Actual Values vs Predicted Values\",size=24)\n",
    "plt.grid()\n",
    "plt.show()"
   ]
  },
  {
   "cell_type": "code",
   "execution_count": 139,
   "metadata": {},
   "outputs": [
    {
     "data": {
      "image/png": "[encoded data removed]",
      "text/plain": [
       "<Figure size 432x288 with 1 Axes>"
      ]
     },
     "metadata": {
      "needs_background": "light"
     },
     "output_type": "display_data"
    }
   ],
   "source": [
    "error = Y_test - pred_sklearn; #error = actual_price - predicted_price\n",
    "sns.kdeplot(error)\n",
    "plt.title(\"Error in Model\",size=24)\n",
    "plt.grid()\n",
    "plt.show()"
   ]
  },
  {
   "cell_type": "code",
   "execution_count": 140,
   "metadata": {},
   "outputs": [
    {
     "name": "stdout",
     "output_type": "stream",
     "text": [
      "Mean Squared Error (MSE) =  30.089575756454817\n"
     ]
    }
   ],
   "source": [
    "# Obtaining Mean Squared Error (MSE)\n",
    "MSE_SKLEARN = mean_squared_error(Y_test, pred_sklearn)\n",
    "print(\"Mean Squared Error (MSE) = \",MSE_SKLEARN)"
   ]
  },
  {
   "cell_type": "markdown",
   "metadata": {},
   "source": [
    "## 4. Comparing Both the implementaton"
   ]
  },
  {
   "cell_type": "code",
   "execution_count": 141,
   "metadata": {},
   "outputs": [
    {
     "name": "stdout",
     "output_type": "stream",
     "text": [
      "+--------+-----------------------+--------------------------+\n",
      "| SL NO. | Weights of Manual SGD | Weights of Sklearn's SGD |\n",
      "+--------+-----------------------+--------------------------+\n",
      "|   1    |   22.540347429394803  |    11.669212830204986    |\n",
      "|   2    |  -1.2243474130631211  |   -0.7163765061264418    |\n",
      "|   3    |   0.8997722286520311  |    0.7608954664247759    |\n",
      "|   4    |  -0.2820554593186188  |   0.13184507146017782    |\n",
      "|   5    |   0.1991256302227841  |   0.25055040542801027    |\n",
      "|   6    |  -1.3471889373772865  |   -1.2487810324327755    |\n",
      "|   7    |   2.8248531020463727  |    3.110083115199914     |\n",
      "|   8    |  -0.3029952450970284  |   -0.22604507263175322   |\n",
      "|   9    |  -2.7128616606927336  |   -3.0240740233393377    |\n",
      "|   10   |    2.4452002261934    |    3.2438826506048106    |\n",
      "|   11   |   -1.814636731115359  |   -1.6417415250485121    |\n",
      "|   12   |  -2.0441820664854395  |   -1.7759586709623616    |\n",
      "|   13   |   1.1216618963717684  |    1.4954523650534282    |\n",
      "|   14   |  -3.2860604557159188  |    -3.201597217478671    |\n",
      "+--------+-----------------------+--------------------------+\n"
     ]
    }
   ],
   "source": [
    "# Creating the table using PrettyTable library\n",
    "from prettytable import PrettyTable\n",
    "\n",
    "# Initializing prettytable\n",
    "preety_table = PrettyTable()\n",
    "\n",
    "slno = [1,2,3,4,5,6,7,8,9,10,11,12,13,14]\n",
    "\n",
    "\n",
    "# Adding columns\n",
    "preety_table.add_column(\"SL NO.\",slno)\n",
    "preety_table.add_column(\"Weights of Manual SGD\",weight_custom)\n",
    "preety_table.add_column(\"Weights of Sklearn's SGD\",weight_sklearn)\n",
    "\n",
    "# Printing the Table\n",
    "print(preety_table)"
   ]
  },
  {
   "cell_type": "code",
   "execution_count": 142,
   "metadata": {},
   "outputs": [
    {
     "name": "stdout",
     "output_type": "stream",
     "text": [
      "+-------------+--------------------+\n",
      "|   SGD Type  | Mean Squared Error |\n",
      "+-------------+--------------------+\n",
      "|  Custom SGD | 30.52018558400602  |\n",
      "| Sklearn SGD | 30.089575756454817 |\n",
      "+-------------+--------------------+\n"
     ]
    }
   ],
   "source": [
    "# Creating the table using PrettyTable library\n",
    "from prettytable import PrettyTable\n",
    "\n",
    "# Initializing prettytable\n",
    "preety_table = PrettyTable()\n",
    "\n",
    "preety_table.field_names = [\"SGD Type\",\"Mean Squared Error\"]\n",
    "preety_table.add_row([\"Custom SGD\",MSE_CUSTOM])\n",
    "preety_table.add_row([\"Sklearn SGD\",MSE_SKLEARN])\n",
    "\n",
    "\n",
    "print(preety_table)\n",
    "\n"
   ]
  },
  {
   "cell_type": "code",
   "execution_count": 143,
   "metadata": {},
   "outputs": [
    {
     "data": {
      "image/png": "[encoded data removed]",
      "text/plain": [
       "<Figure size 432x288 with 1 Axes>"
      ]
     },
     "metadata": {
      "needs_background": "light"
     },
     "output_type": "display_data"
    }
   ],
   "source": [
    "# Scatter Plot of the predictions of both manual SGD Regression and Sklearn's SGD Regression\n",
    "plt.scatter(pred_custom, pred_sklearn)\n",
    "plt.xlabel(\"Custom SGD\",size=14)\n",
    "plt.ylabel(\"Sklearn's SGD\",size=14)\n",
    "plt.title(\"Predictions\",size=18)\n",
    "plt.grid()\n",
    "plt.show()\n"
   ]
  },
  {
   "cell_type": "markdown",
   "metadata": {},
   "source": [
    "## Conclusion\n",
    "- > MSE of Custom SGD is slightly higher than the Sklearn SGD, therefore the custom model is performing well here\n",
    "- > Weights of both the models are approximately similar\n",
    "- > As we can see on the above prediction graph that the predicted value in sklearn and custom are giving aprroximately same value of predicted price"
   ]
  },
  {
   "cell_type": "markdown",
   "metadata": {},
   "source": [
    "# ***************************************END***************************************************"
   ]
  }
 ],
 "metadata": {
  "colab": {
   "name": "Untitled3.ipynb",
   "provenance": [],
   "version": "0.3.2"
  },
  "kernelspec": {
   "display_name": "Python 3",
   "language": "python",
   "name": "python3"
  },
  "language_info": {
   "codemirror_mode": {
    "name": "ipython",
    "version": 3
   },
   "file_extension": ".py",
   "mimetype": "text/x-python",
   "name": "python",
   "nbconvert_exporter": "python",
   "pygments_lexer": "ipython3",
   "version": "3.7.0"
  }
 },
 "nbformat": 4,
 "nbformat_minor": 1
}
